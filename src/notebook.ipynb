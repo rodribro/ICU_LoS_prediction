{
 "cells": [
  {
   "cell_type": "markdown",
   "id": "827d1672",
   "metadata": {},
   "source": [
    "### <b> PySpark vs GCP </b>"
   ]
  },
  {
   "cell_type": "markdown",
   "id": "0126c8b2",
   "metadata": {},
   "source": [
    "#### <b> PySpark </b>"
   ]
  },
  {
   "cell_type": "code",
   "execution_count": 104,
   "id": "9dfbec29",
   "metadata": {},
   "outputs": [],
   "source": [
    "from pyspark.sql import SparkSession\n",
    "from pyspark.sql.functions import col, expr, when, datediff, hour, minute, count, avg, stddev, min, max, desc, countDistinct\n",
    "import os\n",
    "import time\n",
    "import matplotlib.pyplot as plt"
   ]
  },
  {
   "cell_type": "code",
   "execution_count": 3,
   "id": "a3e80ebd",
   "metadata": {},
   "outputs": [
    {
     "name": "stdout",
     "output_type": "stream",
     "text": [
      "Total memory: 18.00 GB\n",
      "Available memory: 8.70 GB\n"
     ]
    }
   ],
   "source": [
    "import psutil\n",
    "\n",
    "# Print your system's available memory\n",
    "mem_info = psutil.virtual_memory()\n",
    "print(f\"Total memory: {mem_info.total / (1024**3):.2f} GB\")\n",
    "print(f\"Available memory: {mem_info.available / (1024**3):.2f} GB\")"
   ]
  },
  {
   "cell_type": "markdown",
   "id": "0498fa20",
   "metadata": {},
   "source": [
    "* <b> Java is required: </b> brew install openjdk@11 (MacOs) OR sudo apt install openjdk-11-jdk (Ubuntu)\n"
   ]
  },
  {
   "cell_type": "markdown",
   "id": "93cb7e72",
   "metadata": {},
   "source": [
    "#### <b> Spark and CSV data loading functions </b>"
   ]
  },
  {
   "cell_type": "code",
   "execution_count": 4,
   "id": "d95dbc1d",
   "metadata": {},
   "outputs": [],
   "source": [
    "# spark.driver.memory: Used by the main program that orchestrates tasks (Stores task results, coordinates actions, loads final DataFrames)\n",
    "# spark.executor.memory: Used by worker processes that execute individual tasks (Data processing, transformations, aggregations, shuffling)\n",
    "# spark.driver.maxResultSize: limits the total size of serialized results that can be returned to the driver from all partitions in a single Spark operation\n",
    "def initialize_spark():\n",
    "    '''\n",
    "    Description: Initialize Spark Session\n",
    "\n",
    "    Arguments: \n",
    "        -None\n",
    "    Output: \n",
    "        -Spark session\n",
    "    '''\n",
    "    spark = SparkSession.builder \\\n",
    "                        .appName(\"MIMIC-III LOS Prediction\") \\\n",
    "                        .config(\"spark.driver.memory\", \"12g\") \\\n",
    "                        .config(\"spark.executor.memory\", \"12g\") \\\n",
    "                        .config(\"spark.driver.maxResultSize\", \"6g\") \\\n",
    "                        .getOrCreate()\n",
    "\n",
    "    # Check initialization\n",
    "    print(\"Success! Spark is working.\")\n",
    "    print(f\"Spark version: {spark.version}\\n\")\n",
    "\n",
    "    return spark\n",
    "\n",
    "def load_csv_table(spark, csv_dir, table_name):\n",
    "    \"\"\"Load a CSV table with performance timing.\"\"\"\n",
    "    csv_path = os.path.join(csv_dir, f\"{table_name.upper()}.csv\")\n",
    "    \n",
    "    print(f\"Loading {table_name} from CSV...\")\n",
    "    start_time = time.time()\n",
    "    \n",
    "    \n",
    "    df = spark.read.csv(csv_path, header=True, inferSchema=True)\n",
    "    df = df.drop(\"ROW_ID\")\n",
    "    \n",
    "    # Force action to measure full load time\n",
    "    count = df.count()\n",
    "    end_time = time.time()\n",
    "    \n",
    "    print(f\"Loaded {table_name}: {count} rows in {end_time - start_time:.2f} seconds\")\n",
    "    return df"
   ]
  },
  {
   "cell_type": "code",
   "execution_count": 5,
   "id": "562d09a1",
   "metadata": {},
   "outputs": [
    {
     "name": "stderr",
     "output_type": "stream",
     "text": [
      "25/06/03 14:28:59 WARN Utils: Your hostname, MacBook-Pro-de-Rodrigo.local resolves to a loopback address: 127.0.0.1; using 172.17.18.15 instead (on interface en0)\n",
      "25/06/03 14:28:59 WARN Utils: Set SPARK_LOCAL_IP if you need to bind to another address\n",
      "Setting default log level to \"WARN\".\n",
      "To adjust logging level use sc.setLogLevel(newLevel). For SparkR, use setLogLevel(newLevel).\n",
      "25/06/03 14:28:59 WARN NativeCodeLoader: Unable to load native-hadoop library for your platform... using builtin-java classes where applicable\n"
     ]
    },
    {
     "name": "stdout",
     "output_type": "stream",
     "text": [
      "Success! Spark is working.\n",
      "Spark version: 3.5.5\n",
      "\n",
      "Loading admissions from CSV...\n",
      "Loaded admissions: 58976 rows in 3.02 seconds\n",
      "\n",
      "\n",
      "Loading callout from CSV...\n",
      "Loaded callout: 34499 rows in 0.30 seconds\n",
      "\n",
      "\n",
      "Loading chartevents from CSV...\n"
     ]
    },
    {
     "name": "stderr",
     "output_type": "stream",
     "text": [
      "                                                                                \r"
     ]
    },
    {
     "name": "stdout",
     "output_type": "stream",
     "text": [
      "Loaded chartevents: 330712483 rows in 88.49 seconds\n",
      "\n",
      "\n",
      "Loading d_icd_diagnoses from CSV...\n",
      "Loaded d_icd_diagnoses: 14567 rows in 0.12 seconds\n",
      "\n",
      "\n",
      "Loading d_items from CSV...\n",
      "Loaded d_items: 12487 rows in 0.13 seconds\n",
      "\n",
      "\n",
      "Loading diagnoses_icd from CSV...\n",
      "Loaded diagnoses_icd: 651047 rows in 0.29 seconds\n",
      "\n",
      "\n",
      "Loading icustays from CSV...\n",
      "Loaded icustays: 61532 rows in 0.15 seconds\n",
      "\n",
      "\n",
      "Loading patients from CSV...\n",
      "Loaded patients: 46520 rows in 0.12 seconds\n",
      "\n",
      "\n",
      "Loading services from CSV...\n",
      "Loaded services: 73343 rows in 0.17 seconds\n",
      "\n",
      "\n",
      "Total loading time: 92.79729104042053\n"
     ]
    }
   ],
   "source": [
    "spark = initialize_spark()\n",
    "\n",
    "init_time = time.time()\n",
    "\n",
    "# Load tables\n",
    "admissions_df = load_csv_table(spark, \"../data/raw\", \"admissions\")\n",
    "print(\"\\n\")\n",
    "callout_df = load_csv_table(spark, \"../data/raw\", \"callout\")\n",
    "print(\"\\n\")\n",
    "chart_events_df = load_csv_table(spark, \"../data/raw\", \"chartevents\")\n",
    "print(\"\\n\")\n",
    "d_icd_diagnoses = load_csv_table(spark, \"../data/raw\", \"d_icd_diagnoses\")\n",
    "print(\"\\n\")\n",
    "d_items_df = load_csv_table(spark, \"../data/raw\", \"d_items\")\n",
    "print(\"\\n\")\n",
    "diagnoses_icd_df = load_csv_table(spark, \"../data/raw\", \"diagnoses_icd\")\n",
    "print(\"\\n\")\n",
    "icustays_df = load_csv_table(spark, \"../data/raw\", \"icustays\")\n",
    "print(\"\\n\")\n",
    "patients_df = load_csv_table(spark, \"../data/raw\", \"patients\")\n",
    "print(\"\\n\")\n",
    "services_df = load_csv_table(spark, \"../data/raw\", \"services\")\n",
    "print(\"\\n\")\n",
    "\n",
    "final_time = time.time() - init_time\n",
    "\n",
    "print(f\"Total loading time: {final_time}\")"
   ]
  },
  {
   "cell_type": "code",
   "execution_count": 6,
   "id": "6c330aec",
   "metadata": {},
   "outputs": [
    {
     "name": "stdout",
     "output_type": "stream",
     "text": [
      "+----------+-------+----------+------+-------------------+-------------------+-----+-----+--------+--------+-------+-----+------------+-------+\n",
      "|SUBJECT_ID|HADM_ID|ICUSTAY_ID|ITEMID|          CHARTTIME|          STORETIME| CGID|VALUE|VALUENUM|VALUEUOM|WARNING|ERROR|RESULTSTATUS|STOPPED|\n",
      "+----------+-------+----------+------+-------------------+-------------------+-----+-----+--------+--------+-------+-----+------------+-------+\n",
      "|        36| 165660|    241249|223834|2134-05-12 12:00:00|2134-05-12 13:56:00|17525|   15|    15.0|   L/min|      0|    0|        NULL|   NULL|\n",
      "|        36| 165660|    241249|223835|2134-05-12 12:00:00|2134-05-12 13:56:00|17525|  100|   100.0|    NULL|      0|    0|        NULL|   NULL|\n",
      "|        36| 165660|    241249|224328|2134-05-12 12:00:00|2134-05-12 12:18:00|20823|  .37|    0.37|    NULL|      0|    0|        NULL|   NULL|\n",
      "|        36| 165660|    241249|224329|2134-05-12 12:00:00|2134-05-12 12:19:00|20823|    6|     6.0|     min|      0|    0|        NULL|   NULL|\n",
      "|        36| 165660|    241249|224330|2134-05-12 12:00:00|2134-05-12 12:19:00|20823|  2.5|     2.5|    NULL|      0|    0|        NULL|   NULL|\n",
      "+----------+-------+----------+------+-------------------+-------------------+-----+-----+--------+--------+-------+-----+------------+-------+\n",
      "only showing top 5 rows\n",
      "\n"
     ]
    }
   ],
   "source": [
    "chart_events_df.show(5)"
   ]
  },
  {
   "cell_type": "markdown",
   "id": "c3a5e261",
   "metadata": {},
   "source": [
    "#### <b> Join tables based on the MIMIC-III dataset structure</b>"
   ]
  },
  {
   "cell_type": "markdown",
   "id": "4923414c",
   "metadata": {},
   "source": [
    "* 1 patient can have multiple ICU stays and Admissions\n",
    "* We can extract total Hospital LOS by subtracting DISCHTIME to ADMITTIME\n",
    "* We also can extract total ICU LOS"
   ]
  },
  {
   "cell_type": "code",
   "execution_count": 7,
   "id": "961adcc1",
   "metadata": {},
   "outputs": [
    {
     "name": "stdout",
     "output_type": "stream",
     "text": [
      "=== Analysis of Multiple ICU Stays ===\n",
      "Total ICU stays: 61532\n",
      "Unique patients: 46476\n",
      "Unique hospital admissions: 57786\n",
      "Patients with multiple ICU stays: 8755\n",
      "\n",
      "Distribution of ICU stays per patient:\n",
      "+-----------+-------------+\n",
      "|stays_count|patient_count|\n",
      "+-----------+-------------+\n",
      "|          1|        37721|\n",
      "|          2|         5796|\n",
      "|          3|         1619|\n",
      "|          4|          650|\n",
      "|          5|          300|\n",
      "|          6|          151|\n",
      "|          7|           86|\n",
      "|          8|           44|\n",
      "|          9|           29|\n",
      "|         10|           19|\n",
      "|         11|           15|\n",
      "|         12|           11|\n",
      "|         13|            8|\n",
      "|         14|            4|\n",
      "|         15|            6|\n",
      "|         16|            2|\n",
      "|         17|            2|\n",
      "|         18|            2|\n",
      "|         20|            1|\n",
      "|         21|            2|\n",
      "+-----------+-------------+\n",
      "only showing top 20 rows\n",
      "\n",
      "Hospital admissions with multiple ICU stays: 3260\n",
      "\n",
      "Examples of patients with multiple ICU stays:\n",
      "+----------+-------+----------+-------------------+-------------------+------+\n",
      "|SUBJECT_ID|HADM_ID|ICUSTAY_ID|INTIME             |OUTTIME            |LOS   |\n",
      "+----------+-------+----------+-------------------+-------------------+------+\n",
      "|2366      |144105 |244708    |2149-12-04 03:17:00|2149-12-07 02:08:05|2.9521|\n",
      "|2366      |144105 |258399    |2149-12-19 12:54:26|2149-12-21 15:52:03|2.1233|\n",
      "|4900      |196122 |248532    |2193-04-17 12:16:00|2193-04-18 15:24:00|1.1306|\n",
      "|4900      |117413 |246383    |2203-06-29 15:12:20|2203-07-04 21:51:56|5.2775|\n",
      "|4900      |115281 |251222    |2203-10-26 09:42:34|2203-10-28 14:08:53|2.1849|\n",
      "|6654      |132971 |254100    |2129-11-12 09:54:23|2129-11-13 15:49:19|1.2465|\n",
      "|6654      |132971 |266606    |2129-11-15 11:35:47|2129-11-16 03:41:01|0.6703|\n",
      "+----------+-------+----------+-------------------+-------------------+------+\n",
      "\n"
     ]
    }
   ],
   "source": [
    "# Let's examine the multiple ICU stays situation\n",
    "def analyze_multiple_icu_stays(icustays_df):\n",
    "    \"\"\"\n",
    "    Analyze patterns of multiple ICU stays in the dataset.\n",
    "    \"\"\"\n",
    "    print(\"=== Analysis of Multiple ICU Stays ===\")\n",
    "    \n",
    "    # Total ICU stays\n",
    "    total_stays = icustays_df.count()\n",
    "    print(f\"Total ICU stays: {total_stays}\")\n",
    "    \n",
    "    # Unique patients\n",
    "    unique_patients = icustays_df.select(\"SUBJECT_ID\").distinct().count()\n",
    "    print(f\"Unique patients: {unique_patients}\")\n",
    "    \n",
    "    # Unique hospital admissions\n",
    "    unique_admissions = icustays_df.select(\"HADM_ID\").distinct().count()\n",
    "    print(f\"Unique hospital admissions: {unique_admissions}\")\n",
    "    \n",
    "    # Patients with multiple ICU stays (any combination)\n",
    "    patients_multiple_stays = icustays_df.groupBy(\"SUBJECT_ID\") \\\n",
    "        .agg(count(\"ICUSTAY_ID\").alias(\"icu_stays_count\")) \\\n",
    "        .filter(\"icu_stays_count > 1\")\n",
    "    \n",
    "    multiple_stays_count = patients_multiple_stays.count()\n",
    "    print(f\"Patients with multiple ICU stays: {multiple_stays_count}\")\n",
    "    \n",
    "    # Distribution of ICU stays per patient\n",
    "    print(\"\\nDistribution of ICU stays per patient:\")\n",
    "    icustays_df.groupBy(\"SUBJECT_ID\") \\\n",
    "        .agg(count(\"ICUSTAY_ID\").alias(\"stays_count\")) \\\n",
    "        .groupBy(\"stays_count\") \\\n",
    "        .agg(count(\"SUBJECT_ID\").alias(\"patient_count\")) \\\n",
    "        .orderBy(\"stays_count\") \\\n",
    "        .show()\n",
    "    \n",
    "    \n",
    "    # Multiple ICU stays within same hospital admission\n",
    "    same_admission_multiple = icustays_df.groupBy(\"HADM_ID\") \\\n",
    "        .agg(count(\"ICUSTAY_ID\").alias(\"icu_stays_in_admission\")) \\\n",
    "        .filter(\"icu_stays_in_admission > 1\")\n",
    "    \n",
    "    same_admission_count = same_admission_multiple.count()\n",
    "    print(f\"Hospital admissions with multiple ICU stays: {same_admission_count}\")\n",
    "    \n",
    "    # Show examples\n",
    "    print(\"\\nExamples of patients with multiple ICU stays:\")\n",
    "    icustays_df.join(patients_multiple_stays.limit(3), \"SUBJECT_ID\") \\\n",
    "        .select(\"SUBJECT_ID\", \"HADM_ID\", \"ICUSTAY_ID\", \"INTIME\", \"OUTTIME\", \"LOS\") \\\n",
    "        .orderBy(\"SUBJECT_ID\", \"INTIME\") \\\n",
    "        .show(truncate=False)\n",
    "    \n",
    "    return {\n",
    "        \"total_stays\": total_stays,\n",
    "        \"unique_patients\": unique_patients,\n",
    "        \"patients_with_multiple_stays\": multiple_stays_count,\n",
    "        \"admissions_with_multiple_icu_stays\": same_admission_count\n",
    "    }\n",
    "\n",
    "\n",
    "\n",
    "# Run the analysis\n",
    "stats = analyze_multiple_icu_stays(icustays_df)"
   ]
  },
  {
   "cell_type": "code",
   "execution_count": 8,
   "id": "fe51a233",
   "metadata": {},
   "outputs": [
    {
     "data": {
      "image/png": "[encoded data removed]",
      "text/plain": [
       "<Figure size 1200x600 with 1 Axes>"
      ]
     },
     "metadata": {},
     "output_type": "display_data"
    }
   ],
   "source": [
    "import matplotlib.pyplot as plt\n",
    "\n",
    "xx = []\n",
    "total_stays = stats[\"total_stays\"]\n",
    "xx.append(total_stays)\n",
    "unique_patients = stats[\"unique_patients\"]\n",
    "xx.append(unique_patients)\n",
    "patients_with_multiple_stays = stats[\"patients_with_multiple_stays\"]\n",
    "xx.append(patients_with_multiple_stays)\n",
    "admissions_with_multiple_icu_stays = stats[\"admissions_with_multiple_icu_stays\"]\n",
    "xx.append(admissions_with_multiple_icu_stays)\n",
    "\n",
    "# Create labels for the x-axis\n",
    "labels = ['Total ICU Stays', 'Unique Patients', 'Patients with\\nMultiple Stays', 'Admissions with\\nMultiple ICU Stays']\n",
    "# Create values for the y-axis (your actual data)\n",
    "values = xx\n",
    "\n",
    "# Create the bar plot\n",
    "plt.figure(figsize=(12, 6))\n",
    "bars = plt.bar(labels, values)\n",
    "\n",
    "# Add value labels on top of each bar - using a fixed offset instead of percentage\n",
    "for bar, value in zip(bars, values):\n",
    "    plt.text(bar.get_x() + bar.get_width()/2, bar.get_height() + bar.get_height()*0.01, \n",
    "             f'{value:,}', ha='center', va='bottom', fontweight='bold')\n",
    "\n",
    "# Customize the plot\n",
    "plt.title('MIMIC-III ICU Stays Analysis', fontsize=16, fontweight='bold')\n",
    "plt.ylabel('Count', fontsize=12)\n",
    "plt.xlabel('Category', fontsize=12)\n",
    "\n",
    "# Rotate x-axis labels if needed for better readability\n",
    "plt.xticks(rotation=45, ha='right')\n",
    "\n",
    "# Add grid for better readability\n",
    "plt.grid(axis='y', alpha=0.3)\n",
    "\n",
    "# Adjust layout to prevent label cutoff\n",
    "plt.tight_layout()\n",
    "\n",
    "# Show the plot\n",
    "plt.show()"
   ]
  },
  {
   "cell_type": "code",
   "execution_count": 9,
   "id": "27c3d625",
   "metadata": {},
   "outputs": [
    {
     "data": {
      "text/plain": [
       "{'total_stays': 61532,\n",
       " 'unique_patients': 46476,\n",
       " 'patients_with_multiple_stays': 8755,\n",
       " 'admissions_with_multiple_icu_stays': 3260}"
      ]
     },
     "execution_count": 9,
     "metadata": {},
     "output_type": "execute_result"
    }
   ],
   "source": [
    "stats"
   ]
  },
  {
   "cell_type": "markdown",
   "id": "86456319",
   "metadata": {},
   "source": [
    "Let's join <b> ICUSTAYS and ADMISSIONS </b> table to get relevant information from patients that were admitted to the ICU when they went to the hospital, and exclude those that didn't"
   ]
  },
  {
   "cell_type": "code",
   "execution_count": 10,
   "id": "fba4d99a",
   "metadata": {},
   "outputs": [],
   "source": [
    "new_icustays_df = icustays_df.join(admissions_df, on=[\"SUBJECT_ID\", \"HADM_ID\"], how=\"left\")"
   ]
  },
  {
   "cell_type": "markdown",
   "id": "7e8ec721",
   "metadata": {},
   "source": [
    "Now we join the <b> complete ICU data with the PATIENTS info </b>"
   ]
  },
  {
   "cell_type": "code",
   "execution_count": 11,
   "id": "e87c20e7",
   "metadata": {},
   "outputs": [],
   "source": [
    "patients_full_info_df = new_icustays_df.join(patients_df, on=\"SUBJECT_ID\", how=\"left\")"
   ]
  },
  {
   "cell_type": "code",
   "execution_count": 12,
   "id": "3e9c0389",
   "metadata": {},
   "outputs": [],
   "source": [
    "columns=[\"DOD_HOSP\", \"DOD_SSN\"]\n",
    "patients_full_info_df = patients_full_info_df.drop(*columns) # redundant since DOD column gives us the same info"
   ]
  },
  {
   "cell_type": "code",
   "execution_count": 13,
   "id": "bb219b50",
   "metadata": {},
   "outputs": [
    {
     "name": "stderr",
     "output_type": "stream",
     "text": [
      "25/06/03 14:30:35 WARN SparkStringUtils: Truncated the string representation of a plan since it was too large. This behavior can be adjusted by setting 'spark.sql.debug.maxToStringFields'.\n"
     ]
    },
    {
     "name": "stdout",
     "output_type": "stream",
     "text": [
      "+----------+-------+----------+----------+--------------+-------------+------------+-----------+-------------------+-------------------+------+-------------------+-------------------+-------------------+--------------+--------------------+--------------------+---------+--------+-----------------+--------------+--------------------+-------------------+-------------------+--------------------+--------------------+--------------------+------+-------------------+-------------------+-----------+\n",
      "|SUBJECT_ID|HADM_ID|ICUSTAY_ID|  DBSOURCE|FIRST_CAREUNIT|LAST_CAREUNIT|FIRST_WARDID|LAST_WARDID|             INTIME|            OUTTIME|   LOS|          ADMITTIME|          DISCHTIME|          DEATHTIME|ADMISSION_TYPE|  ADMISSION_LOCATION|  DISCHARGE_LOCATION|INSURANCE|LANGUAGE|         RELIGION|MARITAL_STATUS|           ETHNICITY|          EDREGTIME|          EDOUTTIME|           DIAGNOSIS|HOSPITAL_EXPIRE_FLAG|HAS_CHARTEVENTS_DATA|GENDER|                DOB|                DOD|EXPIRE_FLAG|\n",
      "+----------+-------+----------+----------+--------------+-------------+------------+-----------+-------------------+-------------------+------+-------------------+-------------------+-------------------+--------------+--------------------+--------------------+---------+--------+-----------------+--------------+--------------------+-------------------+-------------------+--------------------+--------------------+--------------------+------+-------------------+-------------------+-----------+\n",
      "|       268| 110404|    280836|   carevue|          MICU|         MICU|          52|         52|2198-02-14 23:27:38|2198-02-18 05:26:11| 3.249|2198-02-11 13:40:00|2198-02-18 03:55:00|2198-02-18 03:55:00|     EMERGENCY|EMERGENCY ROOM ADMIT|        DEAD/EXPIRED| Medicare|    NULL|         CATHOLIC|     SEPARATED|  HISPANIC OR LATINO|2198-02-11 09:41:00|2198-02-11 15:18:00|             DYSPNEA|                   1|                   1|     F|2132-02-21 00:00:00|2198-02-18 00:00:00|          1|\n",
      "|     42968| 191455|    268065|metavision|          SICU|         SICU|          57|         57|2107-05-01 15:24:02|2107-05-02 17:11:39|1.0747|2107-05-01 15:23:00|2107-05-05 14:30:00|               NULL|     EMERGENCY|CLINIC REFERRAL/P...|REHAB/DISTINCT PA...| Medicare|    ENGL|    NOT SPECIFIED|       MARRIED|               WHITE|2107-05-01 13:35:00|2107-05-01 16:00:00|          STROKE/TIA|                   0|                   1|     M|2025-09-10 00:00:00|               NULL|          0|\n",
      "|       271| 173727|    249196|   carevue|          MICU|         SICU|          52|         23|2120-08-07 23:12:42|2120-08-10 00:39:04|  2.06|2120-08-07 18:56:00|2120-08-20 16:00:00|               NULL|     EMERGENCY|TRANSFER FROM HOS...|                HOME|  Private|    ENGL|    NOT SPECIFIED|       MARRIED|PATIENT DECLINED ...|               NULL|               NULL|GALLSTONE PANCREA...|                   0|                   1|     F|2074-11-30 00:00:00|               NULL|          0|\n",
      "|     42970| 188939|    234882|metavision|           CCU|          CCU|           7|          7|2149-04-01 13:12:42|2149-04-03 15:51:58|2.1106|2149-04-01 13:12:00|2149-04-04 15:52:00|               NULL|      ELECTIVE|PHYS REFERRAL/NOR...|                HOME| Medicare|    ENGL|PROTESTANT QUAKER|       WIDOWED|               WHITE|               NULL|               NULL|CORONARY ARTERY D...|                   0|                   1|     F|2067-02-28 00:00:00|2149-09-18 00:00:00|          1|\n",
      "|     42965| 198665|    265815|metavision|          CSRU|         CSRU|          12|         12|2102-03-27 09:44:51|2102-03-30 12:14:23|3.1038|2102-03-27 07:15:00|2102-04-02 16:36:00|               NULL|      ELECTIVE|PHYS REFERRAL/NOR...|    HOME HEALTH CARE|  Private|    ENGL|    NOT SPECIFIED|       MARRIED|               WHITE|               NULL|               NULL|AORTIC STENOSIS\\A...|                   0|                   1|     F|2037-08-26 00:00:00|               NULL|          0|\n",
      "+----------+-------+----------+----------+--------------+-------------+------------+-----------+-------------------+-------------------+------+-------------------+-------------------+-------------------+--------------+--------------------+--------------------+---------+--------+-----------------+--------------+--------------------+-------------------+-------------------+--------------------+--------------------+--------------------+------+-------------------+-------------------+-----------+\n",
      "only showing top 5 rows\n",
      "\n"
     ]
    }
   ],
   "source": [
    "patients_full_info_df.show(5)"
   ]
  },
  {
   "cell_type": "code",
   "execution_count": 14,
   "id": "a578355c",
   "metadata": {},
   "outputs": [
    {
     "name": "stdout",
     "output_type": "stream",
     "text": [
      "ICUSTAYS count: 61532\n",
      "After joining ADMISSIONS: 61532\n",
      "After joining PATIENTS: 61532\n"
     ]
    }
   ],
   "source": [
    "# Check if row counts are the same\n",
    "print(f\"ICUSTAYS count: {icustays_df.count()}\")\n",
    "print(f\"After joining ADMISSIONS: {new_icustays_df.count()}\")\n",
    "print(f\"After joining PATIENTS: {patients_full_info_df.count()}\")\n"
   ]
  },
  {
   "cell_type": "code",
   "execution_count": 15,
   "id": "18cbcc20",
   "metadata": {},
   "outputs": [
    {
     "name": "stdout",
     "output_type": "stream",
     "text": [
      "+---------+--------------------+--------------------+\n",
      "|ICD9_CODE|         SHORT_TITLE|          LONG_TITLE|\n",
      "+---------+--------------------+--------------------+\n",
      "|    01166|TB pneumonia-oth ...|Tuberculous pneum...|\n",
      "|    01170|TB pneumothorax-u...|Tuberculous pneum...|\n",
      "|    01171|TB pneumothorax-n...|Tuberculous pneum...|\n",
      "|    01172|TB pneumothorx-ex...|Tuberculous pneum...|\n",
      "|    01173|TB pneumothorax-m...|Tuberculous pneum...|\n",
      "+---------+--------------------+--------------------+\n",
      "only showing top 5 rows\n",
      "\n"
     ]
    }
   ],
   "source": [
    "d_icd_diagnoses.show(5)"
   ]
  },
  {
   "cell_type": "markdown",
   "id": "0f7fc805",
   "metadata": {},
   "source": [
    "Join the <b> DIAGNOSES and D_ICD_DIAGNOSES tables </b> to get diagnoses descriptions based on the ICD9 code"
   ]
  },
  {
   "cell_type": "code",
   "execution_count": 16,
   "id": "1c78f862",
   "metadata": {},
   "outputs": [],
   "source": [
    "full_diagnosis_data = diagnoses_icd_df.join(d_icd_diagnoses, on=\"ICD9_CODE\", how=\"left\")\n",
    "full_diagnosis_data = full_diagnosis_data.drop(\"SHORT_TITLE\")"
   ]
  },
  {
   "cell_type": "markdown",
   "id": "de4a50d3",
   "metadata": {},
   "source": [
    "Check total distinct number of diagnosis"
   ]
  },
  {
   "cell_type": "code",
   "execution_count": 58,
   "id": "7cfd6fd1",
   "metadata": {},
   "outputs": [
    {
     "data": {
      "text/plain": [
       "6985"
      ]
     },
     "execution_count": 58,
     "metadata": {},
     "output_type": "execute_result"
    }
   ],
   "source": [
    "full_diagnosis_data.select(\"ICD9_CODE\").distinct().count()"
   ]
  },
  {
   "cell_type": "code",
   "execution_count": 17,
   "id": "0d76e3d0",
   "metadata": {},
   "outputs": [],
   "source": [
    "p_268 = full_diagnosis_data[full_diagnosis_data[\"SUBJECT_ID\"]==268]"
   ]
  },
  {
   "cell_type": "code",
   "execution_count": 18,
   "id": "8751ab0a",
   "metadata": {},
   "outputs": [
    {
     "name": "stdout",
     "output_type": "stream",
     "text": [
      "+---------+----------+-------+-------+--------------------+\n",
      "|ICD9_CODE|SUBJECT_ID|HADM_ID|SEQ_NUM|          LONG_TITLE|\n",
      "+---------+----------+-------+-------+--------------------+\n",
      "|    48241|       268| 110404|      1|Methicillin susce...|\n",
      "|     4280|       268| 110404|      2|Congestive heart ...|\n",
      "|    51881|       268| 110404|      3|Acute respiratory...|\n",
      "|     5845|       268| 110404|      4|Acute kidney fail...|\n",
      "|     4275|       268| 110404|      5|      Cardiac arrest|\n",
      "|     0389|       268| 110404|      6|Unspecified septi...|\n",
      "|    49322|       268| 110404|      7|Chronic obstructi...|\n",
      "|     2761|       268| 110404|      8|Hyposmolality and...|\n",
      "|     4271|       268| 110404|      9|Paroxysmal ventri...|\n",
      "+---------+----------+-------+-------+--------------------+\n",
      "\n"
     ]
    }
   ],
   "source": [
    "p_268.show() # 1 patient can have multiple diagnoses for the same HADM"
   ]
  },
  {
   "cell_type": "code",
   "execution_count": 19,
   "id": "f2d61a96",
   "metadata": {},
   "outputs": [],
   "source": [
    "yo = p_268[p_268[\"SEQ_NUM\"]==1]"
   ]
  },
  {
   "cell_type": "code",
   "execution_count": 20,
   "id": "8a788051",
   "metadata": {},
   "outputs": [],
   "source": [
    "title = yo[\"LONG_TITLE\"]"
   ]
  },
  {
   "cell_type": "code",
   "execution_count": 21,
   "id": "fc3f0e08",
   "metadata": {},
   "outputs": [
    {
     "data": {
      "text/plain": [
       "'Methicillin susceptible pneumonia due to Staphylococcus aureus'"
      ]
     },
     "execution_count": 21,
     "metadata": {},
     "output_type": "execute_result"
    }
   ],
   "source": [
    "yo.select(\"LONG_TITLE\").collect()[0][0]"
   ]
  },
  {
   "cell_type": "code",
   "execution_count": 22,
   "id": "1449fae8",
   "metadata": {},
   "outputs": [
    {
     "data": {
      "text/plain": [
       "'Methicillin susceptible pneumonia due to Staphylococcus aureus'"
      ]
     },
     "execution_count": 22,
     "metadata": {},
     "output_type": "execute_result"
    }
   ],
   "source": [
    "yo.select(\"LONG_TITLE\").first()[0]"
   ]
  },
  {
   "cell_type": "code",
   "execution_count": 23,
   "id": "1732f4db",
   "metadata": {},
   "outputs": [
    {
     "name": "stdout",
     "output_type": "stream",
     "text": [
      "+---------+----------+-------+-------+--------------------+\n",
      "|ICD9_CODE|SUBJECT_ID|HADM_ID|SEQ_NUM|          LONG_TITLE|\n",
      "+---------+----------+-------+-------+--------------------+\n",
      "|    40301|       109| 172335|      1|Hypertensive chro...|\n",
      "|      486|       109| 172335|      2|Pneumonia, organi...|\n",
      "|    58281|       109| 172335|      3|Chronic glomerulo...|\n",
      "|     5855|       109| 172335|      4|Chronic kidney di...|\n",
      "|     4254|       109| 172335|      5|Other primary car...|\n",
      "+---------+----------+-------+-------+--------------------+\n",
      "only showing top 5 rows\n",
      "\n"
     ]
    }
   ],
   "source": [
    "full_diagnosis_data.show(5)"
   ]
  },
  {
   "cell_type": "markdown",
   "id": "2bb5899a",
   "metadata": {},
   "source": [
    "Now join <b> PATIENT and DIAGNOSES </b> data"
   ]
  },
  {
   "cell_type": "code",
   "execution_count": 24,
   "id": "45fcda6b",
   "metadata": {},
   "outputs": [],
   "source": [
    "patients_full_info_df = patients_full_info_df.join(full_diagnosis_data, on=[\"SUBJECT_ID\",\"HADM_ID\"], how=\"left\")"
   ]
  },
  {
   "cell_type": "code",
   "execution_count": 25,
   "id": "ec3a0d50",
   "metadata": {},
   "outputs": [
    {
     "name": "stdout",
     "output_type": "stream",
     "text": [
      "+----------+-------+----------+--------+--------------+-------------+------------+-----------+-------------------+-------------------+-----+-------------------+-------------------+-------------------+--------------+--------------------+------------------+---------+--------+--------+--------------+------------------+-------------------+-------------------+---------+--------------------+--------------------+------+-------------------+-------------------+-----------+---------+-------+--------------------+\n",
      "|SUBJECT_ID|HADM_ID|ICUSTAY_ID|DBSOURCE|FIRST_CAREUNIT|LAST_CAREUNIT|FIRST_WARDID|LAST_WARDID|             INTIME|            OUTTIME|  LOS|          ADMITTIME|          DISCHTIME|          DEATHTIME|ADMISSION_TYPE|  ADMISSION_LOCATION|DISCHARGE_LOCATION|INSURANCE|LANGUAGE|RELIGION|MARITAL_STATUS|         ETHNICITY|          EDREGTIME|          EDOUTTIME|DIAGNOSIS|HOSPITAL_EXPIRE_FLAG|HAS_CHARTEVENTS_DATA|GENDER|                DOB|                DOD|EXPIRE_FLAG|ICD9_CODE|SEQ_NUM|          LONG_TITLE|\n",
      "+----------+-------+----------+--------+--------------+-------------+------------+-----------+-------------------+-------------------+-----+-------------------+-------------------+-------------------+--------------+--------------------+------------------+---------+--------+--------+--------------+------------------+-------------------+-------------------+---------+--------------------+--------------------+------+-------------------+-------------------+-----------+---------+-------+--------------------+\n",
      "|       268| 110404|    280836| carevue|          MICU|         MICU|          52|         52|2198-02-14 23:27:38|2198-02-18 05:26:11|3.249|2198-02-11 13:40:00|2198-02-18 03:55:00|2198-02-18 03:55:00|     EMERGENCY|EMERGENCY ROOM ADMIT|      DEAD/EXPIRED| Medicare|    NULL|CATHOLIC|     SEPARATED|HISPANIC OR LATINO|2198-02-11 09:41:00|2198-02-11 15:18:00|  DYSPNEA|                   1|                   1|     F|2132-02-21 00:00:00|2198-02-18 00:00:00|          1|    48241|      1|Methicillin susce...|\n",
      "|       268| 110404|    280836| carevue|          MICU|         MICU|          52|         52|2198-02-14 23:27:38|2198-02-18 05:26:11|3.249|2198-02-11 13:40:00|2198-02-18 03:55:00|2198-02-18 03:55:00|     EMERGENCY|EMERGENCY ROOM ADMIT|      DEAD/EXPIRED| Medicare|    NULL|CATHOLIC|     SEPARATED|HISPANIC OR LATINO|2198-02-11 09:41:00|2198-02-11 15:18:00|  DYSPNEA|                   1|                   1|     F|2132-02-21 00:00:00|2198-02-18 00:00:00|          1|     4280|      2|Congestive heart ...|\n",
      "|       268| 110404|    280836| carevue|          MICU|         MICU|          52|         52|2198-02-14 23:27:38|2198-02-18 05:26:11|3.249|2198-02-11 13:40:00|2198-02-18 03:55:00|2198-02-18 03:55:00|     EMERGENCY|EMERGENCY ROOM ADMIT|      DEAD/EXPIRED| Medicare|    NULL|CATHOLIC|     SEPARATED|HISPANIC OR LATINO|2198-02-11 09:41:00|2198-02-11 15:18:00|  DYSPNEA|                   1|                   1|     F|2132-02-21 00:00:00|2198-02-18 00:00:00|          1|    51881|      3|Acute respiratory...|\n",
      "|       268| 110404|    280836| carevue|          MICU|         MICU|          52|         52|2198-02-14 23:27:38|2198-02-18 05:26:11|3.249|2198-02-11 13:40:00|2198-02-18 03:55:00|2198-02-18 03:55:00|     EMERGENCY|EMERGENCY ROOM ADMIT|      DEAD/EXPIRED| Medicare|    NULL|CATHOLIC|     SEPARATED|HISPANIC OR LATINO|2198-02-11 09:41:00|2198-02-11 15:18:00|  DYSPNEA|                   1|                   1|     F|2132-02-21 00:00:00|2198-02-18 00:00:00|          1|     5845|      4|Acute kidney fail...|\n",
      "|       268| 110404|    280836| carevue|          MICU|         MICU|          52|         52|2198-02-14 23:27:38|2198-02-18 05:26:11|3.249|2198-02-11 13:40:00|2198-02-18 03:55:00|2198-02-18 03:55:00|     EMERGENCY|EMERGENCY ROOM ADMIT|      DEAD/EXPIRED| Medicare|    NULL|CATHOLIC|     SEPARATED|HISPANIC OR LATINO|2198-02-11 09:41:00|2198-02-11 15:18:00|  DYSPNEA|                   1|                   1|     F|2132-02-21 00:00:00|2198-02-18 00:00:00|          1|     4275|      5|      Cardiac arrest|\n",
      "+----------+-------+----------+--------+--------------+-------------+------------+-----------+-------------------+-------------------+-----+-------------------+-------------------+-------------------+--------------+--------------------+------------------+---------+--------+--------+--------------+------------------+-------------------+-------------------+---------+--------------------+--------------------+------+-------------------+-------------------+-----------+---------+-------+--------------------+\n",
      "only showing top 5 rows\n",
      "\n"
     ]
    }
   ],
   "source": [
    "patients_full_info_df.show(5)"
   ]
  },
  {
   "cell_type": "code",
   "execution_count": 64,
   "id": "c61d6bfc",
   "metadata": {},
   "outputs": [],
   "source": [
    "distinct_diagnosis = patients_full_info_df.select(\"LONG_TITLE\").distinct()"
   ]
  },
  {
   "cell_type": "code",
   "execution_count": 66,
   "id": "69377d8f",
   "metadata": {},
   "outputs": [
    {
     "data": {
      "text/plain": [
       "6803"
      ]
     },
     "execution_count": 66,
     "metadata": {},
     "output_type": "execute_result"
    }
   ],
   "source": [
    "distinct_diagnosis.count()"
   ]
  },
  {
   "cell_type": "code",
   "execution_count": 65,
   "id": "0eb57f20",
   "metadata": {},
   "outputs": [
    {
     "name": "stdout",
     "output_type": "stream",
     "text": [
      "+--------------------+\n",
      "|          LONG_TITLE|\n",
      "+--------------------+\n",
      "|Closed fracture o...|\n",
      "|Coronary atherosc...|\n",
      "|Fetal growth reta...|\n",
      "|Fall from other s...|\n",
      "|Atherosclerosis o...|\n",
      "|Fistula of bile duct|\n",
      "|Ulcerative (chron...|\n",
      "|Intestinal bypass...|\n",
      "|Striking against ...|\n",
      "|Open fracture of ...|\n",
      "|Chronic combined ...|\n",
      "|Malignant neoplas...|\n",
      "|Closed fracture o...|\n",
      "|Unspecified cataract|\n",
      "|Benign paroxysmal...|\n",
      "|Intermittent expl...|\n",
      "|Pneumonia due to ...|\n",
      "|Disorders of phos...|\n",
      "|Secondary maligna...|\n",
      "|Influenza with pn...|\n",
      "+--------------------+\n",
      "only showing top 20 rows\n",
      "\n"
     ]
    },
    {
     "name": "stderr",
     "output_type": "stream",
     "text": [
      "                                                                                \r"
     ]
    }
   ],
   "source": [
    "distinct_diagnosis.show()"
   ]
  },
  {
   "cell_type": "code",
   "execution_count": 26,
   "id": "bbfdb376",
   "metadata": {},
   "outputs": [
    {
     "data": {
      "text/plain": [
       "705921"
      ]
     },
     "execution_count": 26,
     "metadata": {},
     "output_type": "execute_result"
    }
   ],
   "source": [
    "patients_full_info_df.count()"
   ]
  },
  {
   "cell_type": "code",
   "execution_count": 68,
   "id": "e1b0e561",
   "metadata": {},
   "outputs": [],
   "source": [
    "# Get top N most frequent diagnoses\n",
    "top_diagnoses = diagnoses_icd_df.groupBy(\"ICD9_CODE\").count() \\\n",
    "    .orderBy(desc(\"count\")).limit(200)  # Top 200 covers ~80% of cases"
   ]
  },
  {
   "cell_type": "code",
   "execution_count": 84,
   "id": "4c20345a",
   "metadata": {},
   "outputs": [],
   "source": [
    "rare_diagnoses = diagnoses_icd_df.groupBy(\"ICD9_CODE\").count() \\\n",
    "    .filter(col(\"count\") <= 4000) \\\n",
    "    .orderBy(desc(\"count\"))"
   ]
  },
  {
   "cell_type": "code",
   "execution_count": 86,
   "id": "42d265ed",
   "metadata": {},
   "outputs": [
    {
     "name": "stdout",
     "output_type": "stream",
     "text": [
      "+---------+-----+\n",
      "|ICD9_CODE|count|\n",
      "+---------+-----+\n",
      "|    99592| 3912|\n",
      "|    V5861| 3806|\n",
      "|     0389| 3725|\n",
      "|     5070| 3680|\n",
      "|    V3000| 3566|\n",
      "|     5859| 3435|\n",
      "|      311| 3431|\n",
      "|    40390| 3421|\n",
      "|     3051| 3358|\n",
      "|      412| 3278|\n",
      "|     2875| 3065|\n",
      "|    V4581| 3056|\n",
      "|    41071| 3055|\n",
      "|     2761| 3039|\n",
      "|     4240| 2926|\n",
      "|    V1582| 2811|\n",
      "|    V3001| 2758|\n",
      "|     5119| 2734|\n",
      "|    V4582| 2725|\n",
      "|    40391| 2630|\n",
      "|    78552| 2586|\n",
      "|     4241| 2550|\n",
      "|    V5867| 2538|\n",
      "|    42789| 2453|\n",
      "|    32723| 2380|\n",
      "|     9971| 2343|\n",
      "|     5845| 2287|\n",
      "|     2760| 2272|\n",
      "|     7742| 2264|\n",
      "|    49390| 2195|\n",
      "|     2767| 2169|\n",
      "|     5180| 2165|\n",
      "|     4168| 2148|\n",
      "|    45829| 2121|\n",
      "|     2749| 2082|\n",
      "|     4589| 2051|\n",
      "|     V502| 2016|\n",
      "|    73300| 1947|\n",
      "|    78039| 1934|\n",
      "|     5856| 1926|\n",
      "|     4271| 1811|\n",
      "|     5185| 1807|\n",
      "|     4254| 1709|\n",
      "|     4111| 1663|\n",
      "|    V1251| 1612|\n",
      "|     3572| 1584|\n",
      "|    30000| 1580|\n",
      "|    99811| 1535|\n",
      "|    27800| 1511|\n",
      "|    E8798| 1502|\n",
      "|    41400| 1494|\n",
      "|    60000| 1490|\n",
      "|     7907| 1478|\n",
      "|     2930| 1445|\n",
      "|    00845| 1444|\n",
      "|     2768| 1425|\n",
      "|     4439| 1401|\n",
      "|     5789| 1397|\n",
      "|    V4501| 1390|\n",
      "|    27651| 1385|\n",
      "|    28521| 1384|\n",
      "|    27652| 1374|\n",
      "|      431| 1367|\n",
      "|     4275| 1361|\n",
      "|    E8788| 1350|\n",
      "|     2765| 1348|\n",
      "|    V4986| 1327|\n",
      "|      769| 1314|\n",
      "|    79902| 1298|\n",
      "|    70703| 1289|\n",
      "|     5715| 1287|\n",
      "|     V103| 1277|\n",
      "|    99591| 1272|\n",
      "|     2639| 1259|\n",
      "|    42832| 1240|\n",
      "|    99812| 1224|\n",
      "|    42833| 1220|\n",
      "|    07054| 1218|\n",
      "|    42732| 1217|\n",
      "|    E8782| 1211|\n",
      "|    V1046| 1207|\n",
      "|     5712| 1202|\n",
      "|    49121| 1198|\n",
      "|    99859| 1186|\n",
      "|     2809| 1171|\n",
      "|    27801| 1170|\n",
      "|    78551| 1154|\n",
      "|    42823| 1143|\n",
      "|    25060| 1138|\n",
      "|     2948| 1126|\n",
      "|     3004| 1109|\n",
      "|     4139| 1100|\n",
      "|    42822| 1097|\n",
      "|    28529| 1093|\n",
      "|    V1254| 1072|\n",
      "|     5601| 1072|\n",
      "|     7793| 1068|\n",
      "|      570| 1067|\n",
      "|    78791| 1049|\n",
      "|    77081| 1043|\n",
      "|    E8497| 1039|\n",
      "|    78820| 1020|\n",
      "|     V667| 1020|\n",
      "|     2869| 1016|\n",
      "|     2800| 1012|\n",
      "|     5723| 1007|\n",
      "|    V3101| 1000|\n",
      "|    E8889|  997|\n",
      "|    79092|  994|\n",
      "|     2763|  984|\n",
      "|     3485|  978|\n",
      "|    78959|  978|\n",
      "|    34590|  977|\n",
      "|    30500|  977|\n",
      "|     0414|  967|\n",
      "|     5770|  961|\n",
      "|    25040|  954|\n",
      "|    99662|  950|\n",
      "|     9982|  929|\n",
      "|    76518|  924|\n",
      "|    V5865|  893|\n",
      "|    71590|  891|\n",
      "|    76527|  881|\n",
      "|    36201|  875|\n",
      "|    76528|  874|\n",
      "|     4148|  865|\n",
      "|    41519|  859|\n",
      "|    28860|  856|\n",
      "|    56210|  849|\n",
      "|     1985|  843|\n",
      "|    43310|  833|\n",
      "|    56400|  830|\n",
      "|    V4365|  816|\n",
      "|    29181|  812|\n",
      "|    42830|  800|\n",
      "|    V4364|  800|\n",
      "|     1977|  794|\n",
      "|    48241|  789|\n",
      "|     5121|  786|\n",
      "|     3970|  779|\n",
      "|    V1005|  771|\n",
      "|     1983|  767|\n",
      "|    51882|  761|\n",
      "|     9974|  760|\n",
      "|     7706|  754|\n",
      "|     1970|  754|\n",
      "|    49320|  752|\n",
      "|    76519|  744|\n",
      "|     5853|  735|\n",
      "|    V4502|  733|\n",
      "|     6826|  732|\n",
      "|    43491|  731|\n",
      "|    30391|  719|\n",
      "|     3659|  711|\n",
      "|     3484|  711|\n",
      "|    E8781|  707|\n",
      "|    E8859|  704|\n",
      "|     V173|  703|\n",
      "|    04111|  703|\n",
      "|     V153|  695|\n",
      "|    51889|  694|\n",
      "|    33829|  692|\n",
      "|     5781|  690|\n",
      "|    E9342|  685|\n",
      "|    51884|  684|\n",
      "|     5939|  679|\n",
      "|     V433|  679|\n",
      "|    34830|  674|\n",
      "|    07070|  674|\n",
      "|     7455|  668|\n",
      "|     5722|  666|\n",
      "|     5533|  663|\n",
      "|     5761|  662|\n",
      "|     4414|  660|\n",
      "|     7746|  659|\n",
      "|     V090|  658|\n",
      "|      430|  658|\n",
      "|     7140|  649|\n",
      "|     1120|  646|\n",
      "|    34982|  643|\n",
      "|    V1581|  643|\n",
      "|    43411|  642|\n",
      "|     4928|  641|\n",
      "|    04104|  614|\n",
      "|    29410|  613|\n",
      "|     7850|  607|\n",
      "|     4538|  607|\n",
      "|    77981|  606|\n",
      "|    29680|  603|\n",
      "|    30390|  597|\n",
      "|    V4511|  594|\n",
      "|    58381|  594|\n",
      "|     2874|  584|\n",
      "|    77089|  583|\n",
      "|    78057|  581|\n",
      "|     V440|  580|\n",
      "|    78009|  577|\n",
      "|     3314|  576|\n",
      "|    99674|  576|\n",
      "|     2766|  575|\n",
      "+---------+-----+\n",
      "only showing top 200 rows\n",
      "\n"
     ]
    }
   ],
   "source": [
    "rare_diagnoses.show(200)"
   ]
  },
  {
   "cell_type": "code",
   "execution_count": 27,
   "id": "fd5697cb",
   "metadata": {},
   "outputs": [
    {
     "name": "stdout",
     "output_type": "stream",
     "text": [
      "Fixing duplicates by creating diagnosis features...\n",
      "Rows after creating diagnosis features: 61532\n"
     ]
    }
   ],
   "source": [
    "from pyspark.sql.functions import when, max as spark_max, col, count\n",
    "\n",
    "def fix_diagnosis_duplicates_with_features(patients_full_info_df):\n",
    "    \"\"\"\n",
    "    Create binary features for major diagnosis categories.\n",
    "    \"\"\"\n",
    "    print(\"Fixing duplicates by creating diagnosis features...\")\n",
    "    \n",
    "    # Get base data without diagnoses\n",
    "    base_cols = [col_name for col_name in patients_full_info_df.columns \n",
    "                 if col_name not in [\"ICD9_CODE\", \"LONG_TITLE\", \"SEQ_NUM\"]]\n",
    "    base_data = patients_full_info_df.select(*base_cols).distinct()\n",
    "    \n",
    "    # Create binary features for major diagnosis categories\n",
    "    diagnosis_features = patients_full_info_df.filter(col(\"ICD9_CODE\").isNotNull()) \\\n",
    "        .withColumn(\"has_cardiac\", \n",
    "                   when(col(\"LONG_TITLE\").rlike(\"(?i)(cardiac|heart|myocardial|coronary)\"), 1).otherwise(0)) \\\n",
    "        .withColumn(\"has_respiratory\", \n",
    "                   when(col(\"LONG_TITLE\").rlike(\"(?i)(respiratory|pneumonia|copd|lung)\"), 1).otherwise(0)) \\\n",
    "        .withColumn(\"has_renal\", \n",
    "                   when(col(\"LONG_TITLE\").rlike(\"(?i)(renal|kidney)\"), 1).otherwise(0)) \\\n",
    "        .withColumn(\"has_infectious\", \n",
    "                   when(col(\"LONG_TITLE\").rlike(\"(?i)(sepsis|septic|infection)\"), 1).otherwise(0)) \\\n",
    "        .withColumn(\"has_diabetes\", \n",
    "                   when(col(\"LONG_TITLE\").rlike(\"(?i)(diabetes|diabetic)\"), 1).otherwise(0)) \\\n",
    "        .withColumn(\"has_stroke\", \n",
    "                   when(col(\"LONG_TITLE\").rlike(\"(?i)(stroke|cerebral)\"), 1).otherwise(0)) \\\n",
    "        .withColumn(\"has_trauma\", \n",
    "                   when(col(\"LONG_TITLE\").rlike(\"(?i)(trauma|fracture|injury)\"), 1).otherwise(0)) \\\n",
    "        .groupBy(\"ICUSTAY_ID\") \\\n",
    "        .agg(\n",
    "            spark_max(\"has_cardiac\").alias(\"has_cardiac\"),\n",
    "            spark_max(\"has_respiratory\").alias(\"has_respiratory\"), \n",
    "            spark_max(\"has_renal\").alias(\"has_renal\"),\n",
    "            spark_max(\"has_infectious\").alias(\"has_infectious\"),\n",
    "            spark_max(\"has_diabetes\").alias(\"has_diabetes\"),\n",
    "            spark_max(\"has_stroke\").alias(\"has_stroke\"),\n",
    "            spark_max(\"has_trauma\").alias(\"has_trauma\"),\n",
    "            count(\"ICD9_CODE\").alias(\"total_diagnoses\")\n",
    "        )\n",
    "    \n",
    "    # Join with base data\n",
    "    result = base_data.join(diagnosis_features, on=\"ICUSTAY_ID\", how=\"left\")\n",
    "    \n",
    "    print(f\"Rows after creating diagnosis features: {result.count()}\")\n",
    "    return result\n",
    "\n",
    "# Apply the fix\n",
    "patients_full_info_fixed = fix_diagnosis_duplicates_with_features(patients_full_info_df)"
   ]
  },
  {
   "cell_type": "code",
   "execution_count": 95,
   "id": "53a50151",
   "metadata": {},
   "outputs": [],
   "source": [
    "stroke = patients_full_info_fixed[patients_full_info_fixed[\"has_stroke\"] == 1]"
   ]
  },
  {
   "cell_type": "code",
   "execution_count": 98,
   "id": "1157dcbc",
   "metadata": {},
   "outputs": [
    {
     "data": {
      "text/plain": [
       "6869"
      ]
     },
     "execution_count": 98,
     "metadata": {},
     "output_type": "execute_result"
    }
   ],
   "source": [
    "stroke.distinct().count()"
   ]
  },
  {
   "cell_type": "code",
   "execution_count": 59,
   "id": "130d60b3",
   "metadata": {},
   "outputs": [
    {
     "name": "stdout",
     "output_type": "stream",
     "text": [
      "=== Diagnosis Coverage Analysis ===\n",
      "Total diagnosis entries: 705,914\n",
      "Cardiac: 70,350 diagnoses (10.0%)\n",
      "Respiratory: 27,434 diagnoses (3.9%)\n",
      "Renal: 37,468 diagnoses (5.3%)\n",
      "Infectious: 36,284 diagnoses (5.1%)\n",
      "Diabetes: 20,711 diagnoses (2.9%)\n",
      "Stroke: 8,331 diagnoses (1.2%)\n",
      "Trauma: 16,823 diagnoses (2.4%)\n",
      "\n",
      "Coverage Summary:\n",
      "Unique diagnosis codes covered: 1,467 out of 6,954\n",
      "Coverage percentage: 21.1%\n",
      "\n",
      "Most common UNCOVERED diagnoses:\n"
     ]
    },
    {
     "name": "stderr",
     "output_type": "stream",
     "text": [
      "[Stage 428:===========>                                             (1 + 4) / 5]\r"
     ]
    },
    {
     "name": "stdout",
     "output_type": "stream",
     "text": [
      "+---------+--------------------------------------------------------------------------------+-----+\n",
      "|ICD9_CODE|LONG_TITLE                                                                      |count|\n",
      "+---------+--------------------------------------------------------------------------------+-----+\n",
      "|4019     |Unspecified essential hypertension                                              |21530|\n",
      "|42731    |Atrial fibrillation                                                             |14048|\n",
      "|2724     |Other and unspecified hyperlipidemia                                            |9095 |\n",
      "|53081    |Esophageal reflux                                                               |6552 |\n",
      "|2720     |Pure hypercholesterolemia                                                       |6124 |\n",
      "|V053     |Need for prophylactic vaccination and inoculation against viral hepatitis       |5786 |\n",
      "|2859     |Anemia, unspecified                                                             |5756 |\n",
      "|V290     |Observation for suspected infectious condition                                  |5589 |\n",
      "|2449     |Unspecified acquired hypothyroidism                                             |5211 |\n",
      "|2851     |Acute posthemorrhagic anemia                                                    |5026 |\n",
      "|2762     |Acidosis                                                                        |5018 |\n",
      "|496      |Chronic airway obstruction, not elsewhere classified                            |4699 |\n",
      "|5070     |Pneumonitis due to inhalation of food or vomitus                                |4253 |\n",
      "|V5861    |Long-term (current) use of anticoagulants                                       |4063 |\n",
      "|311      |Depressive disorder, not elsewhere classified                                   |3616 |\n",
      "|3051     |Tobacco use disorder                                                            |3570 |\n",
      "|V3000    |Single liveborn, born in hospital, delivered without mention of cesarean section|3537 |\n",
      "|2761     |Hyposmolality and/or hyponatremia                                               |3431 |\n",
      "|2875     |Thrombocytopenia, unspecified                                                   |3425 |\n",
      "|41071    |Subendocardial infarction, initial episode of care                              |3405 |\n",
      "+---------+--------------------------------------------------------------------------------+-----+\n",
      "only showing top 20 rows\n",
      "\n"
     ]
    },
    {
     "name": "stderr",
     "output_type": "stream",
     "text": [
      "                                                                                \r"
     ]
    }
   ],
   "source": [
    "def analyze_diagnosis_coverage(patients_full_info_df):\n",
    "    \"\"\"\n",
    "    Analyze how much of the diagnosis data our current categories capture.\n",
    "    \"\"\"\n",
    "    print(\"=== Diagnosis Coverage Analysis ===\")\n",
    "    \n",
    "    # Get total diagnosis entries\n",
    "    total_diagnoses = patients_full_info_df.filter(col(\"ICD9_CODE\").isNotNull()).count()\n",
    "    print(f\"Total diagnosis entries: {total_diagnoses:,}\")\n",
    "    \n",
    "    # Check coverage for each of our current categories\n",
    "    current_categories = {\n",
    "        'cardiac': \"(?i)(cardiac|heart|myocardial|coronary)\",\n",
    "        'respiratory': \"(?i)(respiratory|pneumonia|copd|lung)\",\n",
    "        'renal': \"(?i)(renal|kidney)\",\n",
    "        'infectious': \"(?i)(sepsis|septic|infection)\",\n",
    "        'diabetes': \"(?i)(diabetes|diabetic)\",\n",
    "        'stroke': \"(?i)(stroke|cerebral)\",\n",
    "        'trauma': \"(?i)(trauma|fracture|injury)\"\n",
    "    }\n",
    "    \n",
    "    # Count matches for each category\n",
    "    category_counts = {}\n",
    "    covered_diagnoses = set()\n",
    "    \n",
    "    for category, pattern in current_categories.items():\n",
    "        matches = patients_full_info_df.filter(\n",
    "            col(\"ICD9_CODE\").isNotNull() & \n",
    "            col(\"LONG_TITLE\").rlike(pattern)\n",
    "        )\n",
    "        \n",
    "        count = matches.count()\n",
    "        category_counts[category] = count\n",
    "        print(f\"{category.capitalize()}: {count:,} diagnoses ({count/total_diagnoses*100:.1f}%)\")\n",
    "        \n",
    "        # Collect covered diagnosis codes\n",
    "        diagnosis_codes = matches.select(\"ICD9_CODE\").distinct().rdd.flatMap(lambda x: x).collect()\n",
    "        covered_diagnoses.update(diagnosis_codes)\n",
    "    \n",
    "    # Calculate total coverage\n",
    "    total_covered = len(covered_diagnoses)\n",
    "    unique_diagnoses = patients_full_info_df.filter(col(\"ICD9_CODE\").isNotNull()).select(\"ICD9_CODE\").distinct().count()\n",
    "    \n",
    "    print(f\"\\nCoverage Summary:\")\n",
    "    print(f\"Unique diagnosis codes covered: {total_covered:,} out of {unique_diagnoses:,}\")\n",
    "    print(f\"Coverage percentage: {total_covered/unique_diagnoses*100:.1f}%\")\n",
    "    \n",
    "    # Find most common uncovered diagnoses\n",
    "    print(\"\\nMost common UNCOVERED diagnoses:\")\n",
    "    uncovered = patients_full_info_df.filter(\n",
    "        col(\"ICD9_CODE\").isNotNull()\n",
    "    ).filter(\n",
    "        ~col(\"ICD9_CODE\").isin(list(covered_diagnoses))\n",
    "    ).groupBy(\"ICD9_CODE\", \"LONG_TITLE\").count().orderBy(\"count\", ascending=False)\n",
    "    \n",
    "    uncovered.show(20, truncate=False)\n",
    "    \n",
    "    return category_counts, covered_diagnoses\n",
    "\n",
    "# Run the analysis\n",
    "coverage_stats, covered_codes = analyze_diagnosis_coverage(patients_full_info_df)"
   ]
  },
  {
   "cell_type": "code",
   "execution_count": 60,
   "id": "4948cd92",
   "metadata": {},
   "outputs": [
    {
     "name": "stdout",
     "output_type": "stream",
     "text": [
      "Creating enhanced diagnosis features with better coverage...\n",
      "Enhanced diagnosis features created: 61532 rows\n"
     ]
    }
   ],
   "source": [
    "def create_enhanced_diagnosis_features(patients_full_info_df):\n",
    "    \"\"\"\n",
    "    Create enhanced diagnosis features with better coverage.\n",
    "    \"\"\"\n",
    "    print(\"Creating enhanced diagnosis features with better coverage...\")\n",
    "    \n",
    "    # Get base data without diagnoses\n",
    "    base_cols = [col_name for col_name in patients_full_info_df.columns \n",
    "                 if col_name not in [\"ICD9_CODE\", \"LONG_TITLE\", \"SEQ_NUM\"]]\n",
    "    base_data = patients_full_info_df.select(*base_cols).distinct()\n",
    "    \n",
    "    # Enhanced diagnosis categories with broader patterns\n",
    "    diagnosis_features = patients_full_info_df.filter(col(\"ICD9_CODE\").isNotNull()) \\\n",
    "        .withColumn(\"has_cardiovascular\", \n",
    "                   when(col(\"LONG_TITLE\").rlike(\"(?i)(cardiac|heart|myocardial|coronary|arrhythmia|atrial|ventricular|valve|aortic|mitral|chest pain|angina)\"), 1).otherwise(0)) \\\n",
    "        .withColumn(\"has_respiratory\", \n",
    "                   when(col(\"LONG_TITLE\").rlike(\"(?i)(respiratory|pneumonia|copd|lung|asthma|bronch|pleural|dyspnea|hypoxia|ventilat)\"), 1).otherwise(0)) \\\n",
    "        .withColumn(\"has_renal\", \n",
    "                   when(col(\"LONG_TITLE\").rlike(\"(?i)(renal|kidney|nephritis|dialysis|uremia|creatinine|acute kidney|chronic kidney)\"), 1).otherwise(0)) \\\n",
    "        .withColumn(\"has_infectious\", \n",
    "                   when(col(\"LONG_TITLE\").rlike(\"(?i)(sepsis|septic|infection|abscess|cellulitis|endocarditis|meningitis|peritonitis|bacteremia)\"), 1).otherwise(0)) \\\n",
    "        .withColumn(\"has_endocrine\", \n",
    "                   when(col(\"LONG_TITLE\").rlike(\"(?i)(diabetes|diabetic|thyroid|adrenal|hormone|insulin|glucose|ketoacidosis)\"), 1).otherwise(0)) \\\n",
    "        .withColumn(\"has_neurological\", \n",
    "                   when(col(\"LONG_TITLE\").rlike(\"(?i)(stroke|cerebral|brain|neurologic|seizure|coma|encephalopathy|hemorrhage|ischemia)\"), 1).otherwise(0)) \\\n",
    "        .withColumn(\"has_trauma\", \n",
    "                   when(col(\"LONG_TITLE\").rlike(\"(?i)(trauma|fracture|injury|accident|burn|laceration|contusion|wound)\"), 1).otherwise(0)) \\\n",
    "        .withColumn(\"has_gastrointestinal\", \n",
    "                   when(col(\"LONG_TITLE\").rlike(\"(?i)(gastrointestinal|liver|hepatic|pancrea|gallbladder|bowel|intestinal|gastric|duodenal|bleeding|obstruction)\"), 1).otherwise(0)) \\\n",
    "        .withColumn(\"has_hematologic\", \n",
    "                   when(col(\"LONG_TITLE\").rlike(\"(?i)(anemia|blood|coagulation|bleeding|thrombocytopenia|leukemia|lymphoma|transfusion)\"), 1).otherwise(0)) \\\n",
    "        .withColumn(\"has_malignancy\", \n",
    "                   when(col(\"LONG_TITLE\").rlike(\"(?i)(cancer|malignant|neoplasm|tumor|carcinoma|metastatic|oncology)\"), 1).otherwise(0)) \\\n",
    "        .withColumn(\"has_psychiatric\", \n",
    "                   when(col(\"LONG_TITLE\").rlike(\"(?i)(depression|anxiety|psychosis|delirium|substance|alcohol|drug|overdose)\"), 1).otherwise(0)) \\\n",
    "        .withColumn(\"has_surgical\", \n",
    "                   when(col(\"LONG_TITLE\").rlike(\"(?i)(post.surgical|post.operative|surgical|operation|procedure|complication)\"), 1).otherwise(0)) \\\n",
    "        .groupBy(\"ICUSTAY_ID\") \\\n",
    "        .agg(\n",
    "            spark_max(\"has_cardiovascular\").alias(\"has_cardiovascular\"),\n",
    "            spark_max(\"has_respiratory\").alias(\"has_respiratory\"), \n",
    "            spark_max(\"has_renal\").alias(\"has_renal\"),\n",
    "            spark_max(\"has_infectious\").alias(\"has_infectious\"),\n",
    "            spark_max(\"has_endocrine\").alias(\"has_endocrine\"),\n",
    "            spark_max(\"has_neurological\").alias(\"has_neurological\"),\n",
    "            spark_max(\"has_trauma\").alias(\"has_trauma\"),\n",
    "            spark_max(\"has_gastrointestinal\").alias(\"has_gastrointestinal\"),\n",
    "            spark_max(\"has_hematologic\").alias(\"has_hematologic\"),\n",
    "            spark_max(\"has_malignancy\").alias(\"has_malignancy\"),\n",
    "            spark_max(\"has_psychiatric\").alias(\"has_psychiatric\"),\n",
    "            spark_max(\"has_surgical\").alias(\"has_surgical\"),\n",
    "            count(\"ICD9_CODE\").alias(\"total_diagnoses\")\n",
    "        )\n",
    "    \n",
    "    # Join with base data and fill nulls\n",
    "    result = base_data.join(diagnosis_features, on=\"ICUSTAY_ID\", how=\"left\")\n",
    "    \n",
    "    # Fill nulls with 0 for diagnosis features\n",
    "    diagnosis_cols = [\"has_cardiovascular\", \"has_respiratory\", \"has_renal\", \"has_infectious\", \n",
    "                     \"has_endocrine\", \"has_neurological\", \"has_trauma\", \"has_gastrointestinal\",\n",
    "                     \"has_hematologic\", \"has_malignancy\", \"has_psychiatric\", \"has_surgical\", \n",
    "                     \"total_diagnoses\"]\n",
    "    \n",
    "    for col_name in diagnosis_cols:\n",
    "        result = result.withColumn(col_name, when(col(col_name).isNull(), 0).otherwise(col(col_name)))\n",
    "    \n",
    "    print(f\"Enhanced diagnosis features created: {result.count()} rows\")\n",
    "    return result\n",
    "\n",
    "# Apply enhanced approach\n",
    "patients_enhanced_diagnoses = create_enhanced_diagnosis_features(patients_full_info_df)"
   ]
  },
  {
   "cell_type": "code",
   "execution_count": 62,
   "id": "1fcd08ff",
   "metadata": {},
   "outputs": [
    {
     "name": "stderr",
     "output_type": "stream",
     "text": [
      "[Stage 455:===========>                                            (2 + 8) / 10]\r"
     ]
    },
    {
     "name": "stdout",
     "output_type": "stream",
     "text": [
      "+----------+----------+-------+----------+--------------+-------------+------------+-----------+-------------------+-------------------+-------+-------------------+-------------------+-------------------+--------------+--------------------+------------------+---------+--------+-------------+--------------+--------------------+-------------------+-------------------+--------------------+--------------------+--------------------+------+-------------------+-------------------+-----------+------------------+---------------+---------+--------------+-------------+----------------+----------+--------------------+---------------+--------------+---------------+------------+---------------+\n",
      "|ICUSTAY_ID|SUBJECT_ID|HADM_ID|  DBSOURCE|FIRST_CAREUNIT|LAST_CAREUNIT|FIRST_WARDID|LAST_WARDID|             INTIME|            OUTTIME|    LOS|          ADMITTIME|          DISCHTIME|          DEATHTIME|ADMISSION_TYPE|  ADMISSION_LOCATION|DISCHARGE_LOCATION|INSURANCE|LANGUAGE|     RELIGION|MARITAL_STATUS|           ETHNICITY|          EDREGTIME|          EDOUTTIME|           DIAGNOSIS|HOSPITAL_EXPIRE_FLAG|HAS_CHARTEVENTS_DATA|GENDER|                DOB|                DOD|EXPIRE_FLAG|has_cardiovascular|has_respiratory|has_renal|has_infectious|has_endocrine|has_neurological|has_trauma|has_gastrointestinal|has_hematologic|has_malignancy|has_psychiatric|has_surgical|total_diagnoses|\n",
      "+----------+----------+-------+----------+--------------+-------------+------------+-----------+-------------------+-------------------+-------+-------------------+-------------------+-------------------+--------------+--------------------+------------------+---------+--------+-------------+--------------+--------------------+-------------------+-------------------+--------------------+--------------------+--------------------+------+-------------------+-------------------+-----------+------------------+---------------+---------+--------------+-------------+----------------+----------+--------------------+---------------+--------------+---------------+------------+---------------+\n",
      "|    244615|      4962| 128158|metavision|          MICU|         MICU|          23|         23|2145-12-28 20:40:37|2146-01-17 05:12:14|19.3553|2145-12-28 20:39:00|2146-01-17 01:52:00|2146-01-17 01:52:00|     EMERGENCY|EMERGENCY ROOM ADMIT|      DEAD/EXPIRED| Medicare|    ENGL|NOT SPECIFIED|        SINGLE|BLACK/AFRICAN AME...|2145-12-28 17:24:00|2145-12-28 23:01:00|GASTROINTESTINAL ...|                   1|                   1|     M|2088-09-20 00:00:00|2146-01-17 00:00:00|          1|                 0|              1|        1|             1|            0|               1|         0|                   1|              1|             0|              0|           0|             16|\n",
      "|    208309|      3400| 111651|   carevue|          SICU|         MICU|          33|         52|2167-11-05 21:28:13|2167-11-09 06:09:24| 3.3619|2167-11-05 21:27:00|2167-11-09 03:15:00|2167-11-09 03:15:00|     EMERGENCY|EMERGENCY ROOM ADMIT|      DEAD/EXPIRED| Medicare|    RUSS| UNOBTAINABLE|       MARRIED|               WHITE|2167-11-05 15:25:00|2167-11-06 00:36:00|              SEPTIC|                   1|                   1|     F|2087-03-14 00:00:00|2167-11-09 00:00:00|          1|                 1|              1|        1|             1|            0|               0|         0|                   0|              0|             1|              0|           0|             18|\n",
      "|    277885|      5544| 174069|metavision|           CCU|          CCU|           7|          7|2124-02-12 01:47:40|2124-02-15 09:40:54| 3.3286|2124-02-12 01:47:00|2124-02-16 03:57:00|2124-02-16 03:57:00|     EMERGENCY|CLINIC REFERRAL/P...|      DEAD/EXPIRED| Medicare|    ENGL|NOT SPECIFIED|       MARRIED|               WHITE|2124-02-12 01:16:00|2124-02-12 03:14:00|CONGESTIVE HEART ...|                   1|                   1|     M|2047-10-15 00:00:00|2124-02-16 00:00:00|          1|                 1|              0|        1|             0|            1|               1|         0|                   0|              1|             0|              0|           0|             19|\n",
      "|    293734|      4954| 158018|metavision|          MICU|         MICU|          50|         50|2153-01-16 08:44:54|2153-01-19 06:18:29| 2.8983|2153-01-16 08:43:00|2153-01-19 04:55:00|2153-01-19 04:55:00|     EMERGENCY|EMERGENCY ROOM ADMIT|      DEAD/EXPIRED|  Private|    ENGL|     CATHOLIC|       MARRIED|               WHITE|2153-01-16 06:36:00|2153-01-16 10:07:00|     DYSPNEA;HYPOXIA|                   1|                   1|     F|2088-09-16 00:00:00|2153-01-19 00:00:00|          1|                 0|              1|        1|             0|            0|               0|         0|                   0|              0|             0|              0|           0|              8|\n",
      "|    257944|      1544| 175858|metavision|          MICU|         MICU|          52|         52|2164-02-24 04:09:03|2164-02-25 01:52:38| 0.9053|2164-02-24 04:08:00|2164-02-25 03:00:00|2164-02-25 03:00:00|     EMERGENCY|EMERGENCY ROOM ADMIT|      DEAD/EXPIRED| Medicare|    ENGL|     CATHOLIC|      DIVORCED|               WHITE|2164-02-23 19:36:00|2164-02-24 05:44:00|              SEPSIS|                   1|                   1|     M|2115-12-01 00:00:00|2164-02-25 00:00:00|          1|                 0|              1|        1|             1|            1|               0|         0|                   1|              0|             0|              0|           1|             11|\n",
      "+----------+----------+-------+----------+--------------+-------------+------------+-----------+-------------------+-------------------+-------+-------------------+-------------------+-------------------+--------------+--------------------+------------------+---------+--------+-------------+--------------+--------------------+-------------------+-------------------+--------------------+--------------------+--------------------+------+-------------------+-------------------+-----------+------------------+---------------+---------+--------------+-------------+----------------+----------+--------------------+---------------+--------------+---------------+------------+---------------+\n",
      "only showing top 5 rows\n",
      "\n"
     ]
    },
    {
     "name": "stderr",
     "output_type": "stream",
     "text": [
      "                                                                                \r"
     ]
    }
   ],
   "source": [
    "patients_enhanced_diagnoses.show(5)"
   ]
  },
  {
   "cell_type": "code",
   "execution_count": 28,
   "id": "be8348de",
   "metadata": {},
   "outputs": [
    {
     "name": "stderr",
     "output_type": "stream",
     "text": [
      "[Stage 167:===========>                                            (2 + 8) / 10]\r"
     ]
    },
    {
     "name": "stdout",
     "output_type": "stream",
     "text": [
      "+----------+----------+-------+----------+--------------+-------------+------------+-----------+-------------------+-------------------+-------+-------------------+-------------------+-------------------+--------------+--------------------+------------------+---------+--------+-------------+--------------+--------------------+-------------------+-------------------+--------------------+--------------------+--------------------+------+-------------------+-------------------+-----------+-----------+---------------+---------+--------------+------------+----------+----------+---------------+\n",
      "|ICUSTAY_ID|SUBJECT_ID|HADM_ID|  DBSOURCE|FIRST_CAREUNIT|LAST_CAREUNIT|FIRST_WARDID|LAST_WARDID|             INTIME|            OUTTIME|    LOS|          ADMITTIME|          DISCHTIME|          DEATHTIME|ADMISSION_TYPE|  ADMISSION_LOCATION|DISCHARGE_LOCATION|INSURANCE|LANGUAGE|     RELIGION|MARITAL_STATUS|           ETHNICITY|          EDREGTIME|          EDOUTTIME|           DIAGNOSIS|HOSPITAL_EXPIRE_FLAG|HAS_CHARTEVENTS_DATA|GENDER|                DOB|                DOD|EXPIRE_FLAG|has_cardiac|has_respiratory|has_renal|has_infectious|has_diabetes|has_stroke|has_trauma|total_diagnoses|\n",
      "+----------+----------+-------+----------+--------------+-------------+------------+-----------+-------------------+-------------------+-------+-------------------+-------------------+-------------------+--------------+--------------------+------------------+---------+--------+-------------+--------------+--------------------+-------------------+-------------------+--------------------+--------------------+--------------------+------+-------------------+-------------------+-----------+-----------+---------------+---------+--------------+------------+----------+----------+---------------+\n",
      "|    244615|      4962| 128158|metavision|          MICU|         MICU|          23|         23|2145-12-28 20:40:37|2146-01-17 05:12:14|19.3553|2145-12-28 20:39:00|2146-01-17 01:52:00|2146-01-17 01:52:00|     EMERGENCY|EMERGENCY ROOM ADMIT|      DEAD/EXPIRED| Medicare|    ENGL|NOT SPECIFIED|        SINGLE|BLACK/AFRICAN AME...|2145-12-28 17:24:00|2145-12-28 23:01:00|GASTROINTESTINAL ...|                   1|                   1|     M|2088-09-20 00:00:00|2146-01-17 00:00:00|          1|          0|              1|        1|             1|           0|         0|         0|             16|\n",
      "|    208309|      3400| 111651|   carevue|          SICU|         MICU|          33|         52|2167-11-05 21:28:13|2167-11-09 06:09:24| 3.3619|2167-11-05 21:27:00|2167-11-09 03:15:00|2167-11-09 03:15:00|     EMERGENCY|EMERGENCY ROOM ADMIT|      DEAD/EXPIRED| Medicare|    RUSS| UNOBTAINABLE|       MARRIED|               WHITE|2167-11-05 15:25:00|2167-11-06 00:36:00|              SEPTIC|                   1|                   1|     F|2087-03-14 00:00:00|2167-11-09 00:00:00|          1|          1|              1|        1|             1|           0|         0|         0|             18|\n",
      "|    277885|      5544| 174069|metavision|           CCU|          CCU|           7|          7|2124-02-12 01:47:40|2124-02-15 09:40:54| 3.3286|2124-02-12 01:47:00|2124-02-16 03:57:00|2124-02-16 03:57:00|     EMERGENCY|CLINIC REFERRAL/P...|      DEAD/EXPIRED| Medicare|    ENGL|NOT SPECIFIED|       MARRIED|               WHITE|2124-02-12 01:16:00|2124-02-12 03:14:00|CONGESTIVE HEART ...|                   1|                   1|     M|2047-10-15 00:00:00|2124-02-16 00:00:00|          1|          1|              0|        1|             0|           1|         0|         0|             19|\n",
      "|    293734|      4954| 158018|metavision|          MICU|         MICU|          50|         50|2153-01-16 08:44:54|2153-01-19 06:18:29| 2.8983|2153-01-16 08:43:00|2153-01-19 04:55:00|2153-01-19 04:55:00|     EMERGENCY|EMERGENCY ROOM ADMIT|      DEAD/EXPIRED|  Private|    ENGL|     CATHOLIC|       MARRIED|               WHITE|2153-01-16 06:36:00|2153-01-16 10:07:00|     DYSPNEA;HYPOXIA|                   1|                   1|     F|2088-09-16 00:00:00|2153-01-19 00:00:00|          1|          0|              1|        1|             0|           0|         0|         0|              8|\n",
      "|    257944|      1544| 175858|metavision|          MICU|         MICU|          52|         52|2164-02-24 04:09:03|2164-02-25 01:52:38| 0.9053|2164-02-24 04:08:00|2164-02-25 03:00:00|2164-02-25 03:00:00|     EMERGENCY|EMERGENCY ROOM ADMIT|      DEAD/EXPIRED| Medicare|    ENGL|     CATHOLIC|      DIVORCED|               WHITE|2164-02-23 19:36:00|2164-02-24 05:44:00|              SEPSIS|                   1|                   1|     M|2115-12-01 00:00:00|2164-02-25 00:00:00|          1|          0|              1|        1|             1|           1|         0|         0|             11|\n",
      "+----------+----------+-------+----------+--------------+-------------+------------+-----------+-------------------+-------------------+-------+-------------------+-------------------+-------------------+--------------+--------------------+------------------+---------+--------+-------------+--------------+--------------------+-------------------+-------------------+--------------------+--------------------+--------------------+------+-------------------+-------------------+-----------+-----------+---------------+---------+--------------+------------+----------+----------+---------------+\n",
      "only showing top 5 rows\n",
      "\n"
     ]
    },
    {
     "name": "stderr",
     "output_type": "stream",
     "text": [
      "                                                                                \r"
     ]
    }
   ],
   "source": [
    "patients_full_info_fixed.show(5)"
   ]
  },
  {
   "cell_type": "code",
   "execution_count": 88,
   "id": "23ac59dc",
   "metadata": {},
   "outputs": [
    {
     "name": "stdout",
     "output_type": "stream",
     "text": [
      "=== TESTING DIAGNOSIS COVERAGE ===\n",
      "Total unique diagnosis codes: 6954\n"
     ]
    },
    {
     "name": "stderr",
     "output_type": "stream",
     "text": [
      "                                                                                \r"
     ]
    },
    {
     "name": "stdout",
     "output_type": "stream",
     "text": [
      "=== COVERAGE IMPROVEMENT ===\n",
      "Unique diagnosis codes covered: 4,081 out of 6,954\n",
      "NEW Coverage percentage: 58.7%\n",
      "Uncovered codes: 2,873\n",
      "\n",
      "=== COVERAGE BY CATEGORY ===\n",
      "has_cardiovascular: 241 codes\n",
      "has_respiratory: 274 codes\n",
      "has_renal: 212 codes\n",
      "has_infectious: 285 codes\n",
      "has_endocrine: 142 codes\n",
      "has_neurological: 473 codes\n",
      "has_trauma: 1,385 codes\n",
      "has_gastrointestinal: 445 codes\n",
      "has_hematologic: 180 codes\n",
      "has_malignancy: 511 codes\n",
      "has_psychiatric: 181 codes\n",
      "has_surgical: 355 codes\n",
      "has_musculoskeletal: 344 codes\n",
      "has_skin: 209 codes\n",
      "has_genitourinary: 204 codes\n",
      "\n",
      "=== SAMPLE UNCOVERED DIAGNOSES ===\n"
     ]
    },
    {
     "name": "stderr",
     "output_type": "stream",
     "text": [
      "[Stage 1143:===========>                                            (1 + 4) / 5]\r"
     ]
    },
    {
     "name": "stdout",
     "output_type": "stream",
     "text": [
      "+---------+------------------------------------------------------------------------------------------------------+\n",
      "|ICD9_CODE|LONG_TITLE                                                                                            |\n",
      "+---------+------------------------------------------------------------------------------------------------------+\n",
      "|5559     |Regional enteritis of unspecified site                                                                |\n",
      "|27911    |Digeorge's syndrome                                                                                   |\n",
      "|53789    |Other specified disorders of stomach and duodenum                                                     |\n",
      "|78065    |Hypothermia not associated with low environmental temperature                                         |\n",
      "|7421     |Microcephalus                                                                                         |\n",
      "|7835     |Polydipsia                                                                                            |\n",
      "|5275     |Sialolithiasis                                                                                        |\n",
      "|6963     |Pityriasis rosea                                                                                      |\n",
      "|33829    |Other chronic pain                                                                                    |\n",
      "|04112    |Methicillin resistant Staphylococcus aureus in conditions classified elsewhere and of unspecified site|\n",
      "+---------+------------------------------------------------------------------------------------------------------+\n",
      "\n"
     ]
    },
    {
     "name": "stderr",
     "output_type": "stream",
     "text": [
      "                                                                                \r"
     ]
    }
   ],
   "source": [
    "def test_diagnosis_coverage(patients_full_info_df, diagnosis_cols):\n",
    "    \"\"\"\n",
    "    Test how many unique diagnosis codes are covered by the clinical categories.\n",
    "    \"\"\"\n",
    "    print(\"=== TESTING DIAGNOSIS COVERAGE ===\")\n",
    "    \n",
    "    # Get all unique diagnosis codes\n",
    "    all_codes = patients_full_info_df.filter(col(\"ICD9_CODE\").isNotNull()) \\\n",
    "        .select(\"ICD9_CODE\", \"LONG_TITLE\").distinct()\n",
    "    \n",
    "    total_unique_codes = all_codes.count()\n",
    "    print(f\"Total unique diagnosis codes: {total_unique_codes}\")\n",
    "    \n",
    "    # Test each diagnosis against all categories\n",
    "    test_df = all_codes\n",
    "    \n",
    "    # Apply the same logic as in your main function\n",
    "    test_df = test_df \\\n",
    "        .withColumn(\"has_cardiovascular\", \n",
    "                   when(col(\"LONG_TITLE\").rlike(\"(?i)(cardiac|heart|myocardial|coronary|arrhythmia|atrial|ventricular|valve|aortic|mitral|chest pain|angina|hypertension|blood pressure|pericardial|endocardial)\"), 1).otherwise(0)) \\\n",
    "        .withColumn(\"has_respiratory\", \n",
    "                   when(col(\"LONG_TITLE\").rlike(\"(?i)(respiratory|pneumonia|copd|lung|asthma|bronch|pleural|dyspnea|hypoxia|ventilat|pulmonary|trachea|larynx|pharynx|cough|apnea)\"), 1).otherwise(0)) \\\n",
    "        .withColumn(\"has_renal\", \n",
    "                   when(col(\"LONG_TITLE\").rlike(\"(?i)(renal|kidney|nephritis|dialysis|uremia|creatinine|acute kidney|chronic kidney|glomerular|proteinuria|hematuria|bladder)\"), 1).otherwise(0)) \\\n",
    "        .withColumn(\"has_infectious\", \n",
    "                   when(col(\"LONG_TITLE\").rlike(\"(?i)(sepsis|septic|infection|abscess|cellulitis|endocarditis|meningitis|peritonitis|bacteremia|pneumococcal|staphylococcal|streptococcal|viral|fungal)\"), 1).otherwise(0)) \\\n",
    "        .withColumn(\"has_endocrine\", \n",
    "                   when(col(\"LONG_TITLE\").rlike(\"(?i)(diabetes|diabetic|thyroid|adrenal|hormone|insulin|glucose|ketoacidosis|hypoglycemia|hyperglycemia|metabolic|electrolyte)\"), 1).otherwise(0)) \\\n",
    "        .withColumn(\"has_neurological\", \n",
    "                   when(col(\"LONG_TITLE\").rlike(\"(?i)(stroke|cerebral|brain|neurologic|seizure|coma|encephalopathy|hemorrhage|ischemia|paralysis|paresis|dementia|alzheimer)\"), 1).otherwise(0)) \\\n",
    "        .withColumn(\"has_trauma\", \n",
    "                   when(col(\"LONG_TITLE\").rlike(\"(?i)(trauma|fracture|injury|accident|burn|laceration|contusion|wound|dislocation|sprain|crushing)\"), 1).otherwise(0)) \\\n",
    "        .withColumn(\"has_gastrointestinal\", \n",
    "                   when(col(\"LONG_TITLE\").rlike(\"(?i)(gastrointestinal|liver|hepatic|pancrea|gallbladder|bowel|intestinal|gastric|duodenal|bleeding|obstruction|colitis|gastritis|ulcer)\"), 1).otherwise(0)) \\\n",
    "        .withColumn(\"has_hematologic\", \n",
    "                   when(col(\"LONG_TITLE\").rlike(\"(?i)(anemia|blood|coagulation|bleeding|thrombocytopenia|leukemia|lymphoma|transfusion|hemoglobin|platelet|clotting)\"), 1).otherwise(0)) \\\n",
    "        .withColumn(\"has_malignancy\", \n",
    "                   when(col(\"LONG_TITLE\").rlike(\"(?i)(cancer|malignant|neoplasm|tumor|carcinoma|metastatic|oncology|sarcoma|melanoma|lymphoma|leukemia)\"), 1).otherwise(0)) \\\n",
    "        .withColumn(\"has_psychiatric\", \n",
    "                   when(col(\"LONG_TITLE\").rlike(\"(?i)(depression|anxiety|psychosis|delirium|substance|alcohol|drug|overdose|bipolar|schizophrenia|suicidal)\"), 1).otherwise(0)) \\\n",
    "        .withColumn(\"has_surgical\", \n",
    "                   when(col(\"LONG_TITLE\").rlike(\"(?i)(post.surgical|post.operative|surgical|operation|procedure|complication|postoperative|anastomosis)\"), 1).otherwise(0)) \\\n",
    "        .withColumn(\"has_musculoskeletal\", \n",
    "                   when(col(\"LONG_TITLE\").rlike(\"(?i)(arthritis|joint|bone|muscle|tendon|ligament|osteo|rheumat|fibromyalgia|gout|skeletal)\"), 1).otherwise(0)) \\\n",
    "        .withColumn(\"has_skin\", \n",
    "                   when(col(\"LONG_TITLE\").rlike(\"(?i)(skin|dermat|rash|eczema|psoriasis|ulcer|decubitus|pressure sore|cellulitis)\"), 1).otherwise(0)) \\\n",
    "        .withColumn(\"has_genitourinary\", \n",
    "                   when(col(\"LONG_TITLE\").rlike(\"(?i)(urinary|genital|prostate|ovarian|uterine|testicular|menstrual|reproductive)\"), 1).otherwise(0))\n",
    "    \n",
    "    # Create a column that indicates if ANY category matches\n",
    "    category_cols = [\"has_cardiovascular\", \"has_respiratory\", \"has_renal\", \"has_infectious\", \n",
    "                    \"has_endocrine\", \"has_neurological\", \"has_trauma\", \"has_gastrointestinal\",\n",
    "                    \"has_hematologic\", \"has_malignancy\", \"has_psychiatric\", \"has_surgical\", \n",
    "                    \"has_musculoskeletal\", \"has_skin\", \"has_genitourinary\"]\n",
    "    \n",
    "    # Sum all category columns to see if any diagnosis is covered\n",
    "    test_df = test_df.withColumn(\"covered\", \n",
    "                                sum([col(category) for category in category_cols]))\n",
    "    \n",
    "    # Count how many codes are covered (covered > 0)\n",
    "    covered_codes = test_df.filter(col(\"covered\") > 0).count()\n",
    "    uncovered_codes = test_df.filter(col(\"covered\") == 0).count()\n",
    "    \n",
    "    coverage_percentage = (covered_codes / total_unique_codes) * 100\n",
    "    \n",
    "    print(f\"=== COVERAGE IMPROVEMENT ===\")\n",
    "    print(f\"Unique diagnosis codes covered: {covered_codes:,} out of {total_unique_codes:,}\")\n",
    "    print(f\"NEW Coverage percentage: {coverage_percentage:.1f}%\")\n",
    "    print(f\"Uncovered codes: {uncovered_codes:,}\")\n",
    "    \n",
    "    # Show breakdown by category\n",
    "    print(\"\\n=== COVERAGE BY CATEGORY ===\")\n",
    "    for category in category_cols:\n",
    "        category_count = test_df.filter(col(category) == 1).count()\n",
    "        print(f\"{category}: {category_count:,} codes\")\n",
    "    \n",
    "    # Show some uncovered examples\n",
    "    print(\"\\n=== SAMPLE UNCOVERED DIAGNOSES ===\")\n",
    "    uncovered_sample = test_df.filter(col(\"covered\") == 0) \\\n",
    "        .select(\"ICD9_CODE\", \"LONG_TITLE\") \\\n",
    "        .limit(10)\n",
    "    uncovered_sample.show(truncate=False)\n",
    "    \n",
    "    return coverage_percentage\n",
    "\n",
    "# Test the improved coverage\n",
    "diagnosis_cols = [\"has_cardiovascular\", \"has_respiratory\", \"has_renal\", \"has_infectious\", \n",
    "                 \"has_endocrine\", \"has_neurological\", \"has_trauma\", \"has_gastrointestinal\",\n",
    "                 \"has_hematologic\", \"has_malignancy\", \"has_psychiatric\", \"has_surgical\", \n",
    "                 \"has_musculoskeletal\", \"has_skin\", \"has_genitourinary\"]\n",
    "\n",
    "coverage = test_diagnosis_coverage(patients_full_info_df, diagnosis_cols)"
   ]
  },
  {
   "cell_type": "code",
   "execution_count": 89,
   "id": "53875c5a",
   "metadata": {},
   "outputs": [],
   "source": [
    "def create_comprehensive_diagnosis_features(patients_full_info_df):\n",
    "    \"\"\"\n",
    "    Create comprehensive diagnosis features with maximum coverage.\n",
    "    \"\"\"\n",
    "    print(\"Creating comprehensive diagnosis features with maximum coverage...\")\n",
    "    \n",
    "    # Get base data without diagnoses\n",
    "    base_cols = [col_name for col_name in patients_full_info_df.columns \n",
    "                 if col_name not in [\"ICD9_CODE\", \"LONG_TITLE\", \"SEQ_NUM\"]]\n",
    "    base_data = patients_full_info_df.select(*base_cols).distinct()\n",
    "    \n",
    "    # Comprehensive diagnosis categories with broader patterns\n",
    "    diagnosis_features = patients_full_info_df.filter(col(\"ICD9_CODE\").isNotNull()) \\\n",
    "        .withColumn(\"has_cardiovascular\", \n",
    "                   when(col(\"LONG_TITLE\").rlike(\"(?i)(cardiac|heart|myocardial|coronary|arrhythmia|atrial|ventricular|valve|aortic|mitral|chest pain|angina|hypertension|blood pressure|pericardial|endocardial)\"), 1).otherwise(0)) \\\n",
    "        .withColumn(\"has_respiratory\", \n",
    "                   when(col(\"LONG_TITLE\").rlike(\"(?i)(respiratory|pneumonia|copd|lung|asthma|bronch|pleural|dyspnea|hypoxia|ventilat|pulmonary|trachea|larynx|pharynx|cough|apnea)\"), 1).otherwise(0)) \\\n",
    "        .withColumn(\"has_renal\", \n",
    "                   when(col(\"LONG_TITLE\").rlike(\"(?i)(renal|kidney|nephritis|dialysis|uremia|creatinine|acute kidney|chronic kidney|glomerular|proteinuria|hematuria|bladder)\"), 1).otherwise(0)) \\\n",
    "        .withColumn(\"has_infectious\", \n",
    "                   when(col(\"LONG_TITLE\").rlike(\"(?i)(sepsis|septic|infection|abscess|cellulitis|endocarditis|meningitis|peritonitis|bacteremia|pneumococcal|staphylococcal|streptococcal|viral|fungal)\"), 1).otherwise(0)) \\\n",
    "        .withColumn(\"has_endocrine\", \n",
    "                   when(col(\"LONG_TITLE\").rlike(\"(?i)(diabetes|diabetic|thyroid|adrenal|hormone|insulin|glucose|ketoacidosis|hypoglycemia|hyperglycemia|metabolic|electrolyte)\"), 1).otherwise(0)) \\\n",
    "        .withColumn(\"has_neurological\", \n",
    "                   when(col(\"LONG_TITLE\").rlike(\"(?i)(stroke|cerebral|brain|neurologic|seizure|coma|encephalopathy|hemorrhage|ischemia|paralysis|paresis|dementia|alzheimer)\"), 1).otherwise(0)) \\\n",
    "        .withColumn(\"has_trauma\", \n",
    "                   when(col(\"LONG_TITLE\").rlike(\"(?i)(trauma|fracture|injury|accident|burn|laceration|contusion|wound|dislocation|sprain|crushing)\"), 1).otherwise(0)) \\\n",
    "        .withColumn(\"has_gastrointestinal\", \n",
    "                   when(col(\"LONG_TITLE\").rlike(\"(?i)(gastrointestinal|liver|hepatic|pancrea|gallbladder|bowel|intestinal|gastric|duodenal|bleeding|obstruction|colitis|gastritis|ulcer)\"), 1).otherwise(0)) \\\n",
    "        .withColumn(\"has_hematologic\", \n",
    "                   when(col(\"LONG_TITLE\").rlike(\"(?i)(anemia|blood|coagulation|bleeding|thrombocytopenia|leukemia|lymphoma|transfusion|hemoglobin|platelet|clotting)\"), 1).otherwise(0)) \\\n",
    "        .withColumn(\"has_malignancy\", \n",
    "                   when(col(\"LONG_TITLE\").rlike(\"(?i)(cancer|malignant|neoplasm|tumor|carcinoma|metastatic|oncology|sarcoma|melanoma|lymphoma|leukemia)\"), 1).otherwise(0)) \\\n",
    "        .withColumn(\"has_psychiatric\", \n",
    "                   when(col(\"LONG_TITLE\").rlike(\"(?i)(depression|anxiety|psychosis|delirium|substance|alcohol|drug|overdose|bipolar|schizophrenia|suicidal)\"), 1).otherwise(0)) \\\n",
    "        .withColumn(\"has_surgical\", \n",
    "                   when(col(\"LONG_TITLE\").rlike(\"(?i)(post.surgical|post.operative|surgical|operation|procedure|complication|postoperative|anastomosis)\"), 1).otherwise(0)) \\\n",
    "        .withColumn(\"has_musculoskeletal\", \n",
    "                   when(col(\"LONG_TITLE\").rlike(\"(?i)(arthritis|joint|bone|muscle|tendon|ligament|osteo|rheumat|fibromyalgia|gout|skeletal)\"), 1).otherwise(0)) \\\n",
    "        .withColumn(\"has_skin\", \n",
    "                   when(col(\"LONG_TITLE\").rlike(\"(?i)(skin|dermat|rash|eczema|psoriasis|ulcer|decubitus|pressure sore|cellulitis)\"), 1).otherwise(0)) \\\n",
    "        .withColumn(\"has_genitourinary\", \n",
    "                   when(col(\"LONG_TITLE\").rlike(\"(?i)(urinary|genital|prostate|ovarian|uterine|testicular|menstrual|reproductive)\"), 1).otherwise(0)) \\\n",
    "        .withColumn(\"has_obstetric\", \n",
    "                   when(col(\"LONG_TITLE\").rlike(\"(?i)(pregnancy|obstetric|delivery|labor|fetal|maternal|cesarean|abortion|miscarriage)\"), 1).otherwise(0)) \\\n",
    "        .withColumn(\"has_ophthalmologic\", \n",
    "                   when(col(\"LONG_TITLE\").rlike(\"(?i)(eye|vision|retinal|glaucoma|cataract|visual|optic|corneal)\"), 1).otherwise(0)) \\\n",
    "        .withColumn(\"has_otolaryngologic\", \n",
    "                   when(col(\"LONG_TITLE\").rlike(\"(?i)(ear|nose|throat|hearing|sinus|tonsil|pharyngeal|laryngeal)\"), 1).otherwise(0)) \\\n",
    "        .withColumn(\"has_nutritional\", \n",
    "                   when(col(\"LONG_TITLE\").rlike(\"(?i)(nutrition|vitamin|deficiency|malnutrition|obesity|feeding)\"), 1).otherwise(0)) \\\n",
    "        .groupBy(\"ICUSTAY_ID\") \\\n",
    "        .agg(\n",
    "            spark_max(\"has_cardiovascular\").alias(\"has_cardiovascular\"),\n",
    "            spark_max(\"has_respiratory\").alias(\"has_respiratory\"), \n",
    "            spark_max(\"has_renal\").alias(\"has_renal\"),\n",
    "            spark_max(\"has_infectious\").alias(\"has_infectious\"),\n",
    "            spark_max(\"has_endocrine\").alias(\"has_endocrine\"),\n",
    "            spark_max(\"has_neurological\").alias(\"has_neurological\"),\n",
    "            spark_max(\"has_trauma\").alias(\"has_trauma\"),\n",
    "            spark_max(\"has_gastrointestinal\").alias(\"has_gastrointestinal\"),\n",
    "            spark_max(\"has_hematologic\").alias(\"has_hematologic\"),\n",
    "            spark_max(\"has_malignancy\").alias(\"has_malignancy\"),\n",
    "            spark_max(\"has_psychiatric\").alias(\"has_psychiatric\"),\n",
    "            spark_max(\"has_surgical\").alias(\"has_surgical\"),\n",
    "            spark_max(\"has_musculoskeletal\").alias(\"has_musculoskeletal\"),\n",
    "            spark_max(\"has_skin\").alias(\"has_skin\"),\n",
    "            spark_max(\"has_genitourinary\").alias(\"has_genitourinary\"),\n",
    "            spark_max(\"has_obstetric\").alias(\"has_obstetric\"),\n",
    "            spark_max(\"has_ophthalmologic\").alias(\"has_ophthalmologic\"),\n",
    "            spark_max(\"has_otolaryngologic\").alias(\"has_otolaryngologic\"),\n",
    "            spark_max(\"has_nutritional\").alias(\"has_nutritional\"),\n",
    "            count(\"ICD9_CODE\").alias(\"total_diagnoses\")\n",
    "        )\n",
    "    \n",
    "    # Join with base data and fill nulls\n",
    "    result = base_data.join(diagnosis_features, on=\"ICUSTAY_ID\", how=\"left\")\n",
    "    \n",
    "    # Fill nulls with 0 for diagnosis features\n",
    "    diagnosis_cols = [\"has_cardiovascular\", \"has_respiratory\", \"has_renal\", \"has_infectious\", \n",
    "                     \"has_endocrine\", \"has_neurological\", \"has_trauma\", \"has_gastrointestinal\",\n",
    "                     \"has_hematologic\", \"has_malignancy\", \"has_psychiatric\", \"has_surgical\", \n",
    "                     \"has_musculoskeletal\", \"has_skin\", \"has_genitourinary\", \"has_obstetric\",\n",
    "                     \"has_ophthalmologic\", \"has_otolaryngologic\", \"has_nutritional\", \"total_diagnoses\"]\n",
    "    \n",
    "    for col_name in diagnosis_cols:\n",
    "        result = result.withColumn(col_name, when(col(col_name).isNull(), 0).otherwise(col(col_name)))\n",
    "    \n",
    "    print(f\"Comprehensive diagnosis features created: {result.count()} rows\")\n",
    "    return result"
   ]
  },
  {
   "cell_type": "code",
   "execution_count": 91,
   "id": "be4f5b44",
   "metadata": {},
   "outputs": [
    {
     "name": "stdout",
     "output_type": "stream",
     "text": [
      "Creating comprehensive diagnosis features with maximum coverage...\n",
      "Comprehensive diagnosis features created: 61532 rows\n"
     ]
    }
   ],
   "source": [
    "patients_diagnosis_info = create_comprehensive_diagnosis_features(patients_full_info_df)"
   ]
  },
  {
   "cell_type": "code",
   "execution_count": 92,
   "id": "05ffaa37",
   "metadata": {},
   "outputs": [
    {
     "name": "stderr",
     "output_type": "stream",
     "text": [
      "[Stage 1535:======================>                                (4 + 6) / 10]\r"
     ]
    },
    {
     "name": "stdout",
     "output_type": "stream",
     "text": [
      "+----------+----------+-------+----------+--------------+-------------+------------+-----------+-------------------+-------------------+-------+-------------------+-------------------+-------------------+--------------+--------------------+------------------+----------+--------+-----------------+-----------------+--------------------+-------------------+-------------------+--------------------+--------------------+--------------------+------+-------------------+-------------------+-----------+------------------+---------------+---------+--------------+-------------+----------------+----------+--------------------+---------------+--------------+---------------+------------+-------------------+--------+-----------------+-------------+------------------+-------------------+---------------+---------------+\n",
      "|ICUSTAY_ID|SUBJECT_ID|HADM_ID|  DBSOURCE|FIRST_CAREUNIT|LAST_CAREUNIT|FIRST_WARDID|LAST_WARDID|             INTIME|            OUTTIME|    LOS|          ADMITTIME|          DISCHTIME|          DEATHTIME|ADMISSION_TYPE|  ADMISSION_LOCATION|DISCHARGE_LOCATION| INSURANCE|LANGUAGE|         RELIGION|   MARITAL_STATUS|           ETHNICITY|          EDREGTIME|          EDOUTTIME|           DIAGNOSIS|HOSPITAL_EXPIRE_FLAG|HAS_CHARTEVENTS_DATA|GENDER|                DOB|                DOD|EXPIRE_FLAG|has_cardiovascular|has_respiratory|has_renal|has_infectious|has_endocrine|has_neurological|has_trauma|has_gastrointestinal|has_hematologic|has_malignancy|has_psychiatric|has_surgical|has_musculoskeletal|has_skin|has_genitourinary|has_obstetric|has_ophthalmologic|has_otolaryngologic|has_nutritional|total_diagnoses|\n",
      "+----------+----------+-------+----------+--------------+-------------+------------+-----------+-------------------+-------------------+-------+-------------------+-------------------+-------------------+--------------+--------------------+------------------+----------+--------+-----------------+-----------------+--------------------+-------------------+-------------------+--------------------+--------------------+--------------------+------+-------------------+-------------------+-----------+------------------+---------------+---------+--------------+-------------+----------------+----------+--------------------+---------------+--------------+---------------+------------+-------------------+--------+-----------------+-------------+------------------+-------------------+---------------+---------------+\n",
      "|    202641|      5453| 171739|metavision|          MICU|         MICU|          23|         23|2196-02-19 22:23:36|2196-02-21 17:54:15|  1.813|2196-02-12 16:49:00|2196-03-09 20:52:00|2196-03-09 20:52:00|     EMERGENCY|CLINIC REFERRAL/P...|      DEAD/EXPIRED|  Medicaid|    ENGL|PROTESTANT QUAKER|UNKNOWN (DEFAULT)|               WHITE|2196-02-12 13:22:00|2196-02-12 21:26:00|           CONFUSION|                   1|                   1|     M|2134-07-25 00:00:00|2196-03-09 00:00:00|          1|                 1|              1|        1|             1|            1|               1|         0|                   1|              1|             0|              1|           1|                  0|       0|                1|            0|                 0|                  0|              1|             33|\n",
      "|    203401|      5382| 172484|metavision|          MICU|         SICU|          23|         57|2190-12-03 07:47:28|2191-02-04 18:40:10|63.4533|2190-12-03 07:45:00|2191-02-07 16:02:00|2191-02-07 16:02:00|     EMERGENCY|EMERGENCY ROOM ADMIT|      DEAD/EXPIRED|   Private|    ENGL|         CATHOLIC|          MARRIED|               WHITE|2190-12-03 04:51:00|2190-12-03 09:35:00| BLEEDING FROM TRACH|                   1|                   1|     M|2138-06-04 00:00:00|2191-02-07 00:00:00|          1|                 1|              0|        0|             0|            0|               0|         0|                   1|              1|             1|              1|           0|                  0|       1|                0|            0|                 0|                  1|              0|             19|\n",
      "|    203667|      9002| 120994|      both|          MICU|         MICU|          52|         52|2177-05-04 12:11:40|2177-05-05 06:24:38|  0.759|2177-04-20 21:45:00|2177-05-05 01:40:00|2177-05-05 01:40:00|     EMERGENCY|EMERGENCY ROOM ADMIT|      DEAD/EXPIRED|  Medicare|    ENGL|         CATHOLIC|          MARRIED|               WHITE|2177-04-20 17:29:00|2177-04-20 22:14:00|              SEPSIS|                   1|                   1|     M|2104-10-18 00:00:00|2177-05-05 00:00:00|          1|                 1|              1|        1|             1|            0|               0|         0|                   1|              0|             1|              0|           0|                  0|       0|                0|            0|                 0|                  1|              1|             15|\n",
      "|    203942|      1386| 150628|   carevue|          MICU|         MICU|          23|         23|2157-12-20 11:28:13|2158-01-09 12:06:47|20.0268|2157-12-03 04:14:00|2158-01-09 10:10:00|2158-01-09 10:10:00|     EMERGENCY|EMERGENCY ROOM ADMIT|      DEAD/EXPIRED|   Private|    ENGL|         CATHOLIC|          MARRIED|               WHITE|2157-12-03 00:40:00|2157-12-03 05:45:00|UPPER GASTROINTES...|                   1|                   1|     M|2101-12-25 00:00:00|2158-01-09 00:00:00|          1|                 1|              1|        1|             1|            0|               1|         0|                   1|              1|             0|              1|           0|                  0|       0|                1|            0|                 0|                  1|              1|             29|\n",
      "|    205951|       250| 124271|   carevue|          MICU|         CSRU|          15|         14|2188-11-12 09:25:47|2188-11-23 01:24:45|10.6659|2188-11-12 09:22:00|2188-11-22 12:00:00|2188-11-22 12:00:00|     EMERGENCY|EMERGENCY ROOM ADMIT|      DEAD/EXPIRED|  Self Pay|    HAIT|    NOT SPECIFIED|           SINGLE|BLACK/AFRICAN AME...|2188-11-12 06:56:00|2188-11-12 10:10:00|    PNEUMONIA;R/O TB|                   1|                   1|     F|2164-12-27 00:00:00|2188-11-22 00:00:00|          1|                 0|              1|        1|             1|            0|               0|         1|                   0|              1|             1|              0|           1|                  0|       0|                0|            0|                 0|                  0|              0|             12|\n",
      "|    207646|       907| 133125|metavision|          SICU|         SICU|          33|         33|2163-10-01 22:51:53|2163-10-02 17:33:37|  0.779|2163-10-01 22:51:00|2163-10-02 15:53:00|2163-10-02 15:53:00|     EMERGENCY|CLINIC REFERRAL/P...|      DEAD/EXPIRED|  Medicare|    CANT|    NOT SPECIFIED|          MARRIED|               ASIAN|2163-10-01 21:46:00|2163-10-01 23:10:00|INTRACRANIAL HEMO...|                   1|                   1|     F|2107-06-29 00:00:00|2163-10-02 00:00:00|          1|                 0|              0|        1|             0|            0|               1|         0|                   0|              0|             0|              0|           0|                  0|       0|                0|            0|                 0|                  0|              0|             10|\n",
      "|    207672|      2322| 181695|   carevue|          MICU|         MICU|          52|         52|2177-11-20 18:55:00|2177-12-05 21:36:03|15.1118|2177-11-20 18:54:00|2177-12-05 21:36:00|2177-12-05 21:36:00|     EMERGENCY|TRANSFER FROM HOS...|      DEAD/EXPIRED|Government|    HAIT|PROTESTANT QUAKER|          MARRIED|BLACK/AFRICAN AME...|2177-11-20 17:21:00|2177-11-20 18:49:00| RESPIRATORY FAILURE|                   1|                   1|     F|2137-09-14 00:00:00|2177-12-05 00:00:00|          1|                 1|              1|        0|             1|            0|               0|         0|                   0|              0|             0|              0|           0|                  0|       0|                0|            0|                 0|                  0|              1|              9|\n",
      "|    208309|      3400| 111651|   carevue|          SICU|         MICU|          33|         52|2167-11-05 21:28:13|2167-11-09 06:09:24| 3.3619|2167-11-05 21:27:00|2167-11-09 03:15:00|2167-11-09 03:15:00|     EMERGENCY|EMERGENCY ROOM ADMIT|      DEAD/EXPIRED|  Medicare|    RUSS|     UNOBTAINABLE|          MARRIED|               WHITE|2167-11-05 15:25:00|2167-11-06 00:36:00|              SEPTIC|                   1|                   1|     F|2087-03-14 00:00:00|2167-11-09 00:00:00|          1|                 1|              1|        1|             1|            0|               0|         0|                   0|              0|             1|              0|           0|                  1|       1|                1|            0|                 0|                  1|              0|             18|\n",
      "|    208376|     14802| 194727|   carevue|          MICU|         MICU|          52|         52|2109-09-01 09:49:02|2109-09-03 23:54:02| 2.5868|2109-09-01 04:58:00|2109-09-12 01:47:00|2109-09-12 01:47:00|     EMERGENCY|EMERGENCY ROOM ADMIT|      DEAD/EXPIRED|  Medicare|    CANT|            OTHER|          MARRIED|               ASIAN|2109-09-01 02:44:00|2109-09-01 11:02:00|      PNEUMONIA-COPD|                   1|                   1|     M|2028-02-20 00:00:00|2109-09-12 00:00:00|          1|                 1|              1|        1|             1|            0|               0|         0|                   0|              1|             1|              0|           0|                  0|       0|                0|            0|                 0|                  1|              0|              9|\n",
      "|    209798|     12508| 137241|   carevue|          MICU|         MICU|          23|         23|2199-05-19 21:44:27|2199-05-29 15:14:32| 9.7292|2199-05-19 21:43:00|2199-05-29 08:40:00|2199-05-29 08:40:00|     EMERGENCY|EMERGENCY ROOM ADMIT|      DEAD/EXPIRED|  Medicare|    ENGL|    NOT SPECIFIED|          MARRIED|               WHITE|2199-05-19 19:59:00|2199-05-19 22:50:00|              SEPSIS|                   1|                   1|     M|2150-10-21 00:00:00|2199-05-29 00:00:00|          1|                 1|              1|        1|             1|            1|               1|         0|                   1|              1|             0|              0|           1|                  0|       1|                0|            0|                 0|                  1|              1|             39|\n",
      "|    210012|      8586| 100826|   carevue|           CCU|          CCU|          57|         57|2180-01-21 16:39:20|2180-01-26 15:45:15| 4.9624|2180-01-18 18:27:00|2180-01-26 15:45:00|2180-01-26 15:45:00|     EMERGENCY|EMERGENCY ROOM ADMIT|      DEAD/EXPIRED|Government|    CAPE|         CATHOLIC|           SINGLE|               OTHER|2180-01-18 14:16:00|2180-01-18 20:51:00|    RIGHT CHEST PAIN|                   1|                   1|     F|2143-03-03 00:00:00|2180-01-26 00:00:00|          1|                 1|              1|        1|             1|            0|               0|         0|                   1|              0|             0|              0|           0|                  0|       0|                1|            0|                 0|                  1|              0|              9|\n",
      "|    211119|      6884| 128932|metavision|          MICU|         MICU|          52|         52|2122-03-18 13:04:48|2122-04-02 17:17:52|15.1757|2122-03-18 13:04:00|2122-04-02 15:07:00|2122-04-02 15:07:00|     EMERGENCY|EMERGENCY ROOM ADMIT|      DEAD/EXPIRED|  Medicare|    CANT|         BUDDHIST|          MARRIED|               ASIAN|2122-03-18 10:42:00|2122-03-18 17:38:00|             DYSPNEA|                   1|                   1|     F|2075-04-14 00:00:00|2122-04-02 00:00:00|          1|                 1|              1|        0|             0|            0|               1|         0|                   1|              0|             1|              1|           0|                  0|       1|                0|            0|                 0|                  1|              0|             23|\n",
      "|    211792|      3969| 147237|metavision|          MICU|         MICU|          52|         52|2152-06-04 02:57:43|2152-06-13 17:49:01|  9.619|2152-06-04 02:56:00|2152-06-13 14:28:00|2152-06-13 14:28:00|     EMERGENCY|EMERGENCY ROOM ADMIT|      DEAD/EXPIRED|  Medicare|    ENGL|         CATHOLIC|          MARRIED|BLACK/AFRICAN AME...|2152-06-04 01:16:00|2152-06-04 04:57:00|DIABETIC KETOACID...|                   1|                   1|     F|2086-10-05 00:00:00|2152-06-13 00:00:00|          1|                 1|              1|        1|             1|            1|               1|         0|                   0|              1|             1|              0|           0|                  1|       0|                0|            0|                 0|                  1|              0|             18|\n",
      "|    213041|     13436| 195728|   carevue|          SICU|         MICU|          23|         12|2197-06-03 14:54:14|2197-06-14 02:10:53|10.4699|2197-05-29 19:13:00|2197-06-13 12:00:00|2197-06-13 12:00:00|     EMERGENCY|EMERGENCY ROOM ADMIT|      DEAD/EXPIRED|  Medicare|    CANT|    NOT SPECIFIED|        SEPARATED|               ASIAN|2197-05-29 13:48:00|2197-05-29 21:20:00|       RENAL FAILURE|                   1|                   1|     F|2119-11-29 00:00:00|2197-06-13 00:00:00|          1|                 1|              1|        1|             1|            0|               0|         0|                   1|              0|             1|              0|           0|                  0|       0|                0|            0|                 0|                  0|              0|              9|\n",
      "|    213086|       773| 170261|   carevue|          MICU|         MICU|          50|         50|2109-02-18 06:05:21|2109-03-17 21:58:36| 27.662|2109-02-18 06:04:00|2109-03-17 20:25:00|2109-03-17 20:25:00|     EMERGENCY|EMERGENCY ROOM ADMIT|      DEAD/EXPIRED|   Private|    ENGL|    NOT SPECIFIED|           SINGLE|               WHITE|2109-02-18 04:55:00|2109-02-18 06:28:00|      ABDOMINAL PAIN|                   1|                   1|     M|2051-06-10 00:00:00|2109-03-17 00:00:00|          1|                 1|              1|        1|             1|            0|               1|         0|                   1|              1|             1|              1|           0|                  0|       0|                0|            0|                 0|                  0|              0|             19|\n",
      "|    213466|      5897| 137321|metavision|          CSRU|         CSRU|          15|         15|2128-01-07 13:28:56|2128-01-17 16:32:13|10.1273|2128-01-07 13:26:00|2128-01-17 12:30:00|2128-01-17 12:30:00|     EMERGENCY|CLINIC REFERRAL/P...|      DEAD/EXPIRED|   Private|    ENGL|         CATHOLIC|           SINGLE|               WHITE|2128-01-07 11:58:00|2128-01-07 13:06:00|     AORTIC STENOSIS|                   1|                   1|     M|2090-01-22 00:00:00|2128-01-17 00:00:00|          1|                 1|              0|        1|             0|            0|               1|         1|                   1|              1|             0|              0|           1|                  0|       0|                0|            0|                 0|                  0|              0|             13|\n",
      "|    214783|     11108| 161316|   carevue|           CCU|          CCU|           7|          7|2166-02-27 13:52:32|2166-03-13 13:29:43|13.9842|2166-02-20 01:42:00|2166-03-13 11:50:00|2166-03-13 11:50:00|     EMERGENCY|EMERGENCY ROOM ADMIT|      DEAD/EXPIRED|  Medicare|    RUSS|           JEWISH|          MARRIED|               WHITE|2166-02-19 16:02:00|2166-02-20 02:54:00|DEHYDRATION,FAILU...|                   1|                   1|     M|2091-03-15 00:00:00|2166-03-13 00:00:00|          1|                 1|              1|        1|             1|            0|               1|         0|                   1|              1|             0|              0|           1|                  0|       1|                1|            0|                 0|                  1|              0|             21|\n",
      "|    215253|      9651| 142074|   carevue|          MICU|          CCU|          50|          7|2138-11-09 17:19:54|2138-11-10 02:35:25| 0.3858|2138-11-09 17:17:00|2138-11-10 00:30:00|2138-11-10 00:30:00|     EMERGENCY|EMERGENCY ROOM ADMIT|      DEAD/EXPIRED|  Medicare|    RUSS|           JEWISH|          MARRIED|               WHITE|2138-11-09 16:02:00|2138-11-09 17:55:00|PNEUMONIA;S/P CAR...|                   1|                   1|     M|2062-04-03 00:00:00|2138-11-10 00:00:00|          1|                 1|              0|        1|             0|            0|               0|         0|                   0|              0|             1|              0|           0|                  0|       0|                1|            0|                 0|                  0|              0|             12|\n",
      "|    215874|      1556| 129719|   carevue|          MICU|         MICU|          12|         12|2155-03-03 14:35:13|2155-03-07 15:18:50| 4.0303|2155-03-02 17:03:00|2155-03-18 21:59:00|2155-03-18 21:59:00|     EMERGENCY|EMERGENCY ROOM ADMIT|      DEAD/EXPIRED|  Medicaid|    SPAN|         CATHOLIC|           SINGLE|  HISPANIC OR LATINO|2155-03-02 11:27:00|2155-03-02 19:10:00|           PNEUMONIA|                   1|                   1|     F|2115-05-15 00:00:00|2155-03-18 00:00:00|          1|                 0|              1|        0|             0|            1|               0|         0|                   0|              0|             0|              0|           1|                  0|       0|                0|            0|                 0|                  0|              1|              6|\n",
      "|    216125|      5476| 199622|metavision|           CCU|          CCU|           7|          7|2139-12-05 14:56:25|2139-12-05 23:32:28| 0.3584|2139-12-05 14:55:00|2139-12-05 21:20:00|2139-12-05 21:20:00|     EMERGENCY|CLINIC REFERRAL/P...|      DEAD/EXPIRED|  Medicare|    ENGL|           JEWISH|          WIDOWED|               WHITE|2139-12-05 11:50:00|2139-12-05 16:19:00|           PNEUMONIA|                   1|                   1|     F|2057-05-11 00:00:00|2139-12-05 00:00:00|          1|                 1|              1|        1|             1|            0|               1|         0|                   0|              0|             0|              0|           0|                  0|       0|                0|            0|                 0|                  0|              0|             11|\n",
      "+----------+----------+-------+----------+--------------+-------------+------------+-----------+-------------------+-------------------+-------+-------------------+-------------------+-------------------+--------------+--------------------+------------------+----------+--------+-----------------+-----------------+--------------------+-------------------+-------------------+--------------------+--------------------+--------------------+------+-------------------+-------------------+-----------+------------------+---------------+---------+--------------+-------------+----------------+----------+--------------------+---------------+--------------+---------------+------------+-------------------+--------+-----------------+-------------+------------------+-------------------+---------------+---------------+\n",
      "only showing top 20 rows\n",
      "\n"
     ]
    },
    {
     "name": "stderr",
     "output_type": "stream",
     "text": [
      "                                                                                \r"
     ]
    }
   ],
   "source": [
    "patients_diagnosis_info.show()"
   ]
  },
  {
   "cell_type": "code",
   "execution_count": 90,
   "id": "008fadb5",
   "metadata": {},
   "outputs": [
    {
     "name": "stdout",
     "output_type": "stream",
     "text": [
      "=== TESTING COMPREHENSIVE DIAGNOSIS COVERAGE ===\n",
      "Total unique diagnosis codes: 6954\n"
     ]
    },
    {
     "name": "stderr",
     "output_type": "stream",
     "text": [
      "                                                                                \r"
     ]
    },
    {
     "name": "stdout",
     "output_type": "stream",
     "text": [
      "=== COMPREHENSIVE COVERAGE RESULTS ===\n",
      "Unique diagnosis codes covered: 4,319 out of 6,954\n",
      "Coverage percentage: 62.1%\n",
      "Uncovered codes: 2,635\n",
      "\n",
      "=== COVERAGE BY CATEGORY ===\n",
      "has_cardiovascular: 241 codes\n",
      "has_respiratory: 274 codes\n",
      "has_renal: 212 codes\n",
      "has_infectious: 285 codes\n",
      "has_endocrine: 142 codes\n",
      "has_neurological: 473 codes\n",
      "has_trauma: 1,385 codes\n",
      "has_gastrointestinal: 445 codes\n",
      "has_hematologic: 180 codes\n",
      "has_malignancy: 511 codes\n",
      "has_psychiatric: 181 codes\n",
      "has_surgical: 355 codes\n",
      "has_musculoskeletal: 344 codes\n",
      "has_skin: 209 codes\n",
      "has_genitourinary: 204 codes\n",
      "has_obstetric: 158 codes\n",
      "has_ophthalmologic: 126 codes\n",
      "has_otolaryngologic: 225 codes\n",
      "has_nutritional: 64 codes\n",
      "\n",
      "=== SAMPLE UNCOVERED DIAGNOSES ===\n"
     ]
    },
    {
     "name": "stderr",
     "output_type": "stream",
     "text": [
      "[Stage 1502:============================================>           (4 + 1) / 5]\r"
     ]
    },
    {
     "name": "stdout",
     "output_type": "stream",
     "text": [
      "+---------+------------------------------------------------------------------------------------------------------+\n",
      "|ICD9_CODE|LONG_TITLE                                                                                            |\n",
      "+---------+------------------------------------------------------------------------------------------------------+\n",
      "|5559     |Regional enteritis of unspecified site                                                                |\n",
      "|27911    |Digeorge's syndrome                                                                                   |\n",
      "|53789    |Other specified disorders of stomach and duodenum                                                     |\n",
      "|78065    |Hypothermia not associated with low environmental temperature                                         |\n",
      "|7421     |Microcephalus                                                                                         |\n",
      "|7835     |Polydipsia                                                                                            |\n",
      "|5275     |Sialolithiasis                                                                                        |\n",
      "|6963     |Pityriasis rosea                                                                                      |\n",
      "|33829    |Other chronic pain                                                                                    |\n",
      "|04112    |Methicillin resistant Staphylococcus aureus in conditions classified elsewhere and of unspecified site|\n",
      "|4570     |Postmastectomy lymphedema syndrome                                                                    |\n",
      "|3548     |Other mononeuritis of upper limb                                                                      |\n",
      "|73732    |Progressive infantile idiopathic scoliosis                                                            |\n",
      "|78842    |Polyuria                                                                                              |\n",
      "|7625     |Other compression of umbilical cord affecting fetus or newborn                                        |\n",
      "+---------+------------------------------------------------------------------------------------------------------+\n",
      "\n"
     ]
    },
    {
     "name": "stderr",
     "output_type": "stream",
     "text": [
      "                                                                                \r"
     ]
    }
   ],
   "source": [
    "def test_comprehensive_diagnosis_coverage(patients_full_info_df):\n",
    "    \"\"\"\n",
    "    Test how many unique diagnosis codes are covered by the comprehensive clinical categories.\n",
    "    \"\"\"\n",
    "    print(\"=== TESTING COMPREHENSIVE DIAGNOSIS COVERAGE ===\")\n",
    "    \n",
    "    # Get all unique diagnosis codes\n",
    "    all_codes = patients_full_info_df.filter(col(\"ICD9_CODE\").isNotNull()) \\\n",
    "        .select(\"ICD9_CODE\", \"LONG_TITLE\").distinct()\n",
    "    \n",
    "    total_unique_codes = all_codes.count()\n",
    "    print(f\"Total unique diagnosis codes: {total_unique_codes}\")\n",
    "    \n",
    "    # Test each diagnosis against all categories\n",
    "    test_df = all_codes\n",
    "    \n",
    "    # Apply the same logic as in your main function\n",
    "    test_df = test_df \\\n",
    "        .withColumn(\"has_cardiovascular\", \n",
    "                   when(col(\"LONG_TITLE\").rlike(\"(?i)(cardiac|heart|myocardial|coronary|arrhythmia|atrial|ventricular|valve|aortic|mitral|chest pain|angina|hypertension|blood pressure|pericardial|endocardial)\"), 1).otherwise(0)) \\\n",
    "        .withColumn(\"has_respiratory\", \n",
    "                   when(col(\"LONG_TITLE\").rlike(\"(?i)(respiratory|pneumonia|copd|lung|asthma|bronch|pleural|dyspnea|hypoxia|ventilat|pulmonary|trachea|larynx|pharynx|cough|apnea)\"), 1).otherwise(0)) \\\n",
    "        .withColumn(\"has_renal\", \n",
    "                   when(col(\"LONG_TITLE\").rlike(\"(?i)(renal|kidney|nephritis|dialysis|uremia|creatinine|acute kidney|chronic kidney|glomerular|proteinuria|hematuria|bladder)\"), 1).otherwise(0)) \\\n",
    "        .withColumn(\"has_infectious\", \n",
    "                   when(col(\"LONG_TITLE\").rlike(\"(?i)(sepsis|septic|infection|abscess|cellulitis|endocarditis|meningitis|peritonitis|bacteremia|pneumococcal|staphylococcal|streptococcal|viral|fungal)\"), 1).otherwise(0)) \\\n",
    "        .withColumn(\"has_endocrine\", \n",
    "                   when(col(\"LONG_TITLE\").rlike(\"(?i)(diabetes|diabetic|thyroid|adrenal|hormone|insulin|glucose|ketoacidosis|hypoglycemia|hyperglycemia|metabolic|electrolyte)\"), 1).otherwise(0)) \\\n",
    "        .withColumn(\"has_neurological\", \n",
    "                   when(col(\"LONG_TITLE\").rlike(\"(?i)(stroke|cerebral|brain|neurologic|seizure|coma|encephalopathy|hemorrhage|ischemia|paralysis|paresis|dementia|alzheimer)\"), 1).otherwise(0)) \\\n",
    "        .withColumn(\"has_trauma\", \n",
    "                   when(col(\"LONG_TITLE\").rlike(\"(?i)(trauma|fracture|injury|accident|burn|laceration|contusion|wound|dislocation|sprain|crushing)\"), 1).otherwise(0)) \\\n",
    "        .withColumn(\"has_gastrointestinal\", \n",
    "                   when(col(\"LONG_TITLE\").rlike(\"(?i)(gastrointestinal|liver|hepatic|pancrea|gallbladder|bowel|intestinal|gastric|duodenal|bleeding|obstruction|colitis|gastritis|ulcer)\"), 1).otherwise(0)) \\\n",
    "        .withColumn(\"has_hematologic\", \n",
    "                   when(col(\"LONG_TITLE\").rlike(\"(?i)(anemia|blood|coagulation|bleeding|thrombocytopenia|leukemia|lymphoma|transfusion|hemoglobin|platelet|clotting)\"), 1).otherwise(0)) \\\n",
    "        .withColumn(\"has_malignancy\", \n",
    "                   when(col(\"LONG_TITLE\").rlike(\"(?i)(cancer|malignant|neoplasm|tumor|carcinoma|metastatic|oncology|sarcoma|melanoma|lymphoma|leukemia)\"), 1).otherwise(0)) \\\n",
    "        .withColumn(\"has_psychiatric\", \n",
    "                   when(col(\"LONG_TITLE\").rlike(\"(?i)(depression|anxiety|psychosis|delirium|substance|alcohol|drug|overdose|bipolar|schizophrenia|suicidal)\"), 1).otherwise(0)) \\\n",
    "        .withColumn(\"has_surgical\", \n",
    "                   when(col(\"LONG_TITLE\").rlike(\"(?i)(post.surgical|post.operative|surgical|operation|procedure|complication|postoperative|anastomosis)\"), 1).otherwise(0)) \\\n",
    "        .withColumn(\"has_musculoskeletal\", \n",
    "                   when(col(\"LONG_TITLE\").rlike(\"(?i)(arthritis|joint|bone|muscle|tendon|ligament|osteo|rheumat|fibromyalgia|gout|skeletal)\"), 1).otherwise(0)) \\\n",
    "        .withColumn(\"has_skin\", \n",
    "                   when(col(\"LONG_TITLE\").rlike(\"(?i)(skin|dermat|rash|eczema|psoriasis|ulcer|decubitus|pressure sore|cellulitis)\"), 1).otherwise(0)) \\\n",
    "        .withColumn(\"has_genitourinary\", \n",
    "                   when(col(\"LONG_TITLE\").rlike(\"(?i)(urinary|genital|prostate|ovarian|uterine|testicular|menstrual|reproductive)\"), 1).otherwise(0)) \\\n",
    "        .withColumn(\"has_obstetric\", \n",
    "                   when(col(\"LONG_TITLE\").rlike(\"(?i)(pregnancy|obstetric|delivery|labor|fetal|maternal|cesarean|abortion|miscarriage)\"), 1).otherwise(0)) \\\n",
    "        .withColumn(\"has_ophthalmologic\", \n",
    "                   when(col(\"LONG_TITLE\").rlike(\"(?i)(eye|vision|retinal|glaucoma|cataract|visual|optic|corneal)\"), 1).otherwise(0)) \\\n",
    "        .withColumn(\"has_otolaryngologic\", \n",
    "                   when(col(\"LONG_TITLE\").rlike(\"(?i)(ear|nose|throat|hearing|sinus|tonsil|pharyngeal|laryngeal)\"), 1).otherwise(0)) \\\n",
    "        .withColumn(\"has_nutritional\", \n",
    "                   when(col(\"LONG_TITLE\").rlike(\"(?i)(nutrition|vitamin|deficiency|malnutrition|obesity|feeding)\"), 1).otherwise(0))\n",
    "    \n",
    "    # Create a column that indicates if ANY category matches\n",
    "    category_cols = [\"has_cardiovascular\", \"has_respiratory\", \"has_renal\", \"has_infectious\", \n",
    "                    \"has_endocrine\", \"has_neurological\", \"has_trauma\", \"has_gastrointestinal\",\n",
    "                    \"has_hematologic\", \"has_malignancy\", \"has_psychiatric\", \"has_surgical\", \n",
    "                    \"has_musculoskeletal\", \"has_skin\", \"has_genitourinary\", \"has_obstetric\",\n",
    "                    \"has_ophthalmologic\", \"has_otolaryngologic\", \"has_nutritional\"]\n",
    "    \n",
    "    # Sum all category columns to see if any diagnosis is covered\n",
    "    test_df = test_df.withColumn(\"covered\", \n",
    "                                sum([col(category) for category in category_cols]))\n",
    "    \n",
    "    # Count how many codes are covered (covered > 0)\n",
    "    covered_codes = test_df.filter(col(\"covered\") > 0).count()\n",
    "    uncovered_codes = test_df.filter(col(\"covered\") == 0).count()\n",
    "    \n",
    "    coverage_percentage = (covered_codes / total_unique_codes) * 100\n",
    "    \n",
    "    print(f\"=== COMPREHENSIVE COVERAGE RESULTS ===\")\n",
    "    print(f\"Unique diagnosis codes covered: {covered_codes:,} out of {total_unique_codes:,}\")\n",
    "    print(f\"Coverage percentage: {coverage_percentage:.1f}%\")\n",
    "    print(f\"Uncovered codes: {uncovered_codes:,}\")\n",
    "    \n",
    "    # Show breakdown by category\n",
    "    print(\"\\n=== COVERAGE BY CATEGORY ===\")\n",
    "    for category in category_cols:\n",
    "        category_count = test_df.filter(col(category) == 1).count()\n",
    "        print(f\"{category}: {category_count:,} codes\")\n",
    "    \n",
    "    # Show some uncovered examples\n",
    "    print(\"\\n=== SAMPLE UNCOVERED DIAGNOSES ===\")\n",
    "    uncovered_sample = test_df.filter(col(\"covered\") == 0) \\\n",
    "        .select(\"ICD9_CODE\", \"LONG_TITLE\") \\\n",
    "        .limit(15)\n",
    "    uncovered_sample.show(truncate=False)\n",
    "    \n",
    "    return coverage_percentage\n",
    "\n",
    "# Test the comprehensive coverage\n",
    "coverage = test_comprehensive_diagnosis_coverage(patients_full_info_df)"
   ]
  },
  {
   "cell_type": "code",
   "execution_count": 29,
   "id": "6b20870a",
   "metadata": {},
   "outputs": [
    {
     "name": "stdout",
     "output_type": "stream",
     "text": [
      "+----------+-------+----------+------+-------------------+-------------------+-----+-----+--------+--------+-------+-----+------------+-------+\n",
      "|SUBJECT_ID|HADM_ID|ICUSTAY_ID|ITEMID|          CHARTTIME|          STORETIME| CGID|VALUE|VALUENUM|VALUEUOM|WARNING|ERROR|RESULTSTATUS|STOPPED|\n",
      "+----------+-------+----------+------+-------------------+-------------------+-----+-----+--------+--------+-------+-----+------------+-------+\n",
      "|        36| 165660|    241249|223834|2134-05-12 12:00:00|2134-05-12 13:56:00|17525|   15|    15.0|   L/min|      0|    0|        NULL|   NULL|\n",
      "|        36| 165660|    241249|223835|2134-05-12 12:00:00|2134-05-12 13:56:00|17525|  100|   100.0|    NULL|      0|    0|        NULL|   NULL|\n",
      "|        36| 165660|    241249|224328|2134-05-12 12:00:00|2134-05-12 12:18:00|20823|  .37|    0.37|    NULL|      0|    0|        NULL|   NULL|\n",
      "|        36| 165660|    241249|224329|2134-05-12 12:00:00|2134-05-12 12:19:00|20823|    6|     6.0|     min|      0|    0|        NULL|   NULL|\n",
      "|        36| 165660|    241249|224330|2134-05-12 12:00:00|2134-05-12 12:19:00|20823|  2.5|     2.5|    NULL|      0|    0|        NULL|   NULL|\n",
      "+----------+-------+----------+------+-------------------+-------------------+-----+-----+--------+--------+-------+-----+------------+-------+\n",
      "only showing top 5 rows\n",
      "\n"
     ]
    }
   ],
   "source": [
    "chart_events_df.show(5)"
   ]
  },
  {
   "cell_type": "markdown",
   "id": "cf34ac3f",
   "metadata": {},
   "source": [
    "<b> CHART EVENTS and D_ITEMS join </b>"
   ]
  },
  {
   "cell_type": "code",
   "execution_count": 30,
   "id": "8b883839",
   "metadata": {},
   "outputs": [
    {
     "name": "stdout",
     "output_type": "stream",
     "text": [
      "+----------+-------+----------+------+-------------------+-------------------+-----+-----+--------+--------+-------+-----+------------+-------+\n",
      "|SUBJECT_ID|HADM_ID|ICUSTAY_ID|ITEMID|          CHARTTIME|          STORETIME| CGID|VALUE|VALUENUM|VALUEUOM|WARNING|ERROR|RESULTSTATUS|STOPPED|\n",
      "+----------+-------+----------+------+-------------------+-------------------+-----+-----+--------+--------+-------+-----+------------+-------+\n",
      "|        36| 165660|    241249|223834|2134-05-12 12:00:00|2134-05-12 13:56:00|17525|   15|    15.0|   L/min|      0|    0|        NULL|   NULL|\n",
      "|        36| 165660|    241249|223835|2134-05-12 12:00:00|2134-05-12 13:56:00|17525|  100|   100.0|    NULL|      0|    0|        NULL|   NULL|\n",
      "|        36| 165660|    241249|224328|2134-05-12 12:00:00|2134-05-12 12:18:00|20823|  .37|    0.37|    NULL|      0|    0|        NULL|   NULL|\n",
      "|        36| 165660|    241249|224329|2134-05-12 12:00:00|2134-05-12 12:19:00|20823|    6|     6.0|     min|      0|    0|        NULL|   NULL|\n",
      "|        36| 165660|    241249|224330|2134-05-12 12:00:00|2134-05-12 12:19:00|20823|  2.5|     2.5|    NULL|      0|    0|        NULL|   NULL|\n",
      "+----------+-------+----------+------+-------------------+-------------------+-----+-----+--------+--------+-------+-----+------------+-------+\n",
      "only showing top 5 rows\n",
      "\n"
     ]
    }
   ],
   "source": [
    "chart_events_df.show(5)"
   ]
  },
  {
   "cell_type": "code",
   "execution_count": 31,
   "id": "4e34e7ee",
   "metadata": {},
   "outputs": [
    {
     "name": "stdout",
     "output_type": "stream",
     "text": [
      "+------+--------------------+------------+--------+-----------+--------+--------+----------+---------+\n",
      "|ITEMID|               LABEL|ABBREVIATION|DBSOURCE|    LINKSTO|CATEGORY|UNITNAME|PARAM_TYPE|CONCEPTID|\n",
      "+------+--------------------+------------+--------+-----------+--------+--------+----------+---------+\n",
      "|   497|Patient controlle...|        NULL| carevue|chartevents|    NULL|    NULL|      NULL|     NULL|\n",
      "|   498|   PCA Lockout (Min)|        NULL| carevue|chartevents|    NULL|    NULL|      NULL|     NULL|\n",
      "|   499|      PCA Medication|        NULL| carevue|chartevents|    NULL|    NULL|      NULL|     NULL|\n",
      "|   500|      PCA Total Dose|        NULL| carevue|chartevents|    NULL|    NULL|      NULL|     NULL|\n",
      "|   501|  PCV Exh Vt (Obser)|        NULL| carevue|chartevents|    NULL|    NULL|      NULL|     NULL|\n",
      "+------+--------------------+------------+--------+-----------+--------+--------+----------+---------+\n",
      "only showing top 5 rows\n",
      "\n"
     ]
    }
   ],
   "source": [
    "d_items_df.show(5)"
   ]
  },
  {
   "cell_type": "markdown",
   "id": "f11c674b",
   "metadata": {},
   "source": [
    "<b> Check different databases for ChartEvents </b>"
   ]
  },
  {
   "cell_type": "code",
   "execution_count": 53,
   "id": "d259c26a",
   "metadata": {},
   "outputs": [
    {
     "name": "stdout",
     "output_type": "stream",
     "text": [
      "+----------+\n",
      "|  DBSOURCE|\n",
      "+----------+\n",
      "|   carevue|\n",
      "|  hospital|\n",
      "|metavision|\n",
      "+----------+\n",
      "\n"
     ]
    }
   ],
   "source": [
    "d_items_df.select(\"DBSOURCE\").distinct().show()"
   ]
  },
  {
   "cell_type": "code",
   "execution_count": 54,
   "id": "d803f54a",
   "metadata": {},
   "outputs": [
    {
     "data": {
      "text/plain": [
       "436"
      ]
     },
     "execution_count": 54,
     "metadata": {},
     "output_type": "execute_result"
    }
   ],
   "source": [
    "d_items_df[d_items_df[\"DBSOURCE\"]==\"hospital\"].count()"
   ]
  },
  {
   "cell_type": "code",
   "execution_count": 55,
   "id": "071f5f46",
   "metadata": {},
   "outputs": [
    {
     "data": {
      "text/plain": [
       "9059"
      ]
     },
     "execution_count": 55,
     "metadata": {},
     "output_type": "execute_result"
    }
   ],
   "source": [
    "d_items_df[d_items_df[\"DBSOURCE\"]==\"carevue\"].count()"
   ]
  },
  {
   "cell_type": "code",
   "execution_count": 56,
   "id": "d93962cd",
   "metadata": {},
   "outputs": [
    {
     "data": {
      "text/plain": [
       "2992"
      ]
     },
     "execution_count": 56,
     "metadata": {},
     "output_type": "execute_result"
    }
   ],
   "source": [
    "d_items_df[d_items_df[\"DBSOURCE\"]==\"metavision\"].count()"
   ]
  },
  {
   "cell_type": "markdown",
   "id": "b800c1fe",
   "metadata": {},
   "source": [
    "<b> Check count for "
   ]
  },
  {
   "cell_type": "code",
   "execution_count": 32,
   "id": "382d0ed6",
   "metadata": {},
   "outputs": [],
   "source": [
    "chartevents_item_d_items = chart_events_df.join(d_items_df, on=[\"ITEMID\"], how=\"left\")"
   ]
  },
  {
   "cell_type": "code",
   "execution_count": 33,
   "id": "3f6fcd22",
   "metadata": {},
   "outputs": [
    {
     "name": "stdout",
     "output_type": "stream",
     "text": [
      "+------+----------+-------+----------+-------------------+-------------------+-----+-----+--------+--------+-------+-----+------------+-------+--------------------+-----------------+----------+-----------+-------------+--------+----------+---------+\n",
      "|ITEMID|SUBJECT_ID|HADM_ID|ICUSTAY_ID|          CHARTTIME|          STORETIME| CGID|VALUE|VALUENUM|VALUEUOM|WARNING|ERROR|RESULTSTATUS|STOPPED|               LABEL|     ABBREVIATION|  DBSOURCE|    LINKSTO|     CATEGORY|UNITNAME|PARAM_TYPE|CONCEPTID|\n",
      "+------+----------+-------+----------+-------------------+-------------------+-----+-----+--------+--------+-------+-----+------------+-------+--------------------+-----------------+----------+-----------+-------------+--------+----------+---------+\n",
      "|223834|        36| 165660|    241249|2134-05-12 12:00:00|2134-05-12 13:56:00|17525|   15|    15.0|   L/min|      0|    0|        NULL|   NULL|             O2 Flow|          O2 Flow|metavision|chartevents|  Respiratory|   L/min|   Numeric|     NULL|\n",
      "|223835|        36| 165660|    241249|2134-05-12 12:00:00|2134-05-12 13:56:00|17525|  100|   100.0|    NULL|      0|    0|        NULL|   NULL|Inspired O2 Fraction|             FiO2|metavision|chartevents|  Respiratory|    None|   Numeric|     NULL|\n",
      "|224328|        36| 165660|    241249|2134-05-12 12:00:00|2134-05-12 12:18:00|20823|  .37|    0.37|    NULL|      0|    0|        NULL|   NULL|            PCA dose|         PCA dose|metavision|chartevents|Pain/Sedation|    None|   Numeric|     NULL|\n",
      "|224329|        36| 165660|    241249|2134-05-12 12:00:00|2134-05-12 12:19:00|20823|    6|     6.0|     min|      0|    0|        NULL|   NULL|   PCA lockout (min)|PCA lockout (min)|metavision|chartevents|Pain/Sedation|     min|   Numeric|     NULL|\n",
      "|224330|        36| 165660|    241249|2134-05-12 12:00:00|2134-05-12 12:19:00|20823|  2.5|     2.5|    NULL|      0|    0|        NULL|   NULL|    PCA 1 hour limit| PCA 1 hour limit|metavision|chartevents|Pain/Sedation|    None|   Numeric|     NULL|\n",
      "+------+----------+-------+----------+-------------------+-------------------+-----+-----+--------+--------+-------+-----+------------+-------+--------------------+-----------------+----------+-----------+-------------+--------+----------+---------+\n",
      "only showing top 5 rows\n",
      "\n"
     ]
    }
   ],
   "source": [
    "chartevents_item_d_items.show(5)"
   ]
  },
  {
   "cell_type": "code",
   "execution_count": 42,
   "id": "f597b907",
   "metadata": {},
   "outputs": [],
   "source": [
    "charts_items_268 = chartevents_item_d_items[chartevents_item_d_items[\"SUBJECT_ID\"] == 268 ]"
   ]
  },
  {
   "cell_type": "code",
   "execution_count": 45,
   "id": "a39f621a",
   "metadata": {},
   "outputs": [
    {
     "name": "stderr",
     "output_type": "stream",
     "text": [
      "[Stage 204:====================================================> (97 + 3) / 100]\r"
     ]
    },
    {
     "name": "stdout",
     "output_type": "stream",
     "text": [
      "+------+----------+-------+----------+-------------------+-------------------+-----+------------------+-----------------+--------+-------+-----+------------+--------+-------------------+------------+--------+-----------+--------+--------+----------+---------+\n",
      "|ITEMID|SUBJECT_ID|HADM_ID|ICUSTAY_ID|          CHARTTIME|          STORETIME| CGID|             VALUE|         VALUENUM|VALUEUOM|WARNING|ERROR|RESULTSTATUS| STOPPED|              LABEL|ABBREVIATION|DBSOURCE|    LINKSTO|CATEGORY|UNITNAME|PARAM_TYPE|CONCEPTID|\n",
      "+------+----------+-------+----------+-------------------+-------------------+-----+------------------+-----------------+--------+-------+-----+------------+--------+-------------------+------------+--------+-----------+--------+--------+----------+---------+\n",
      "|   161|       268| 110404|    280836|2198-02-15 09:00:00|2198-02-15 10:20:00|18576|              None|             NULL|    NULL|   NULL| NULL|        NULL|NotStopd|        Ectopy Type|        NULL| carevue|chartevents|    NULL|    NULL|      NULL|     NULL|\n",
      "|   190|       268| 110404|    280836|2198-02-15 09:00:00|2198-02-15 08:57:00|14381|                 1|              1.0|    torr|   NULL| NULL|        NULL|NotStopd|           FiO2 Set|        NULL| carevue|chartevents|    NULL|    NULL|      NULL|     NULL|\n",
      "|   211|       268| 110404|    280836|2198-02-15 09:00:00|2198-02-15 10:20:00|18576|                88|             88.0|     BPM|   NULL| NULL|        NULL|NotStopd|         Heart Rate|        NULL| carevue|chartevents|    NULL|    NULL|      NULL|     NULL|\n",
      "|   212|       268| 110404|    280836|2198-02-15 09:00:00|2198-02-15 10:20:00|18576|      Normal Sinus|             NULL|    NULL|   NULL| NULL|        NULL|NotStopd|       Heart Rhythm|        NULL| carevue|chartevents|    NULL|    NULL|      NULL|     NULL|\n",
      "|   446|       268| 110404|    280836|2198-02-15 09:00:00|2198-02-15 08:57:00|14381|               alb|             NULL|    NULL|   NULL| NULL|        NULL|NotStopd|Micro-Neb Treatment|        NULL| carevue|chartevents|    NULL|    NULL|      NULL|     NULL|\n",
      "|   456|       268| 110404|    280836|2198-02-15 09:00:00|2198-02-15 10:20:00|18576|                72|             72.0|    mmHg|   NULL| NULL|        NULL|NotStopd|           NBP Mean|        NULL| carevue|chartevents|    NULL|    NULL|      NULL|     NULL|\n",
      "|   467|       268| 110404|    280836|2198-02-15 09:00:00|2198-02-15 08:57:00|14381|       Hi Flow Neb|             NULL|    NULL|   NULL| NULL|        NULL|NotStopd| O2 Delivery Device|        NULL| carevue|chartevents|    NULL|    NULL|      NULL|     NULL|\n",
      "|   470|       268| 110404|    280836|2198-02-15 09:00:00|2198-02-15 08:57:00|14381|                15|             15.0|     lpm|   NULL| NULL|        NULL|NotStopd|      O2 Flow (lpm)|        NULL| carevue|chartevents|    NULL|    NULL|      NULL|     NULL|\n",
      "|   550|       268| 110404|    280836|2198-02-15 09:00:00|2198-02-15 10:20:00|18576|           Droplet|             NULL|    NULL|   NULL| NULL|        NULL|NotStopd|        Precautions|        NULL| carevue|chartevents|    NULL|    NULL|      NULL|     NULL|\n",
      "|   581|       268| 110404|    280836|2198-02-15 09:00:00|2198-02-15 10:20:00|18576|90.300003051757812|90.30000305175781|      kg|   NULL| NULL|        NULL|NotStopd|   Previous WeightF|        NULL| carevue|chartevents|    NULL|    NULL|      NULL|     NULL|\n",
      "|   646|       268| 110404|    280836|2198-02-15 09:00:00|2198-02-15 10:20:00|18576|                98|             98.0|       %|   NULL| NULL|        NULL|NotStopd|               SpO2|        NULL| carevue|chartevents|    NULL|    NULL|      NULL|     NULL|\n",
      "|   742|       268| 110404|    280836|2198-02-15 09:00:00|2198-02-15 10:20:00|18576|                 1|              1.0|      kg|   NULL| NULL|        NULL|NotStopd|         calprevflg|        NULL| carevue|chartevents|    NULL|    NULL|      NULL|     NULL|\n",
      "|  1125|       268| 110404|    280836|2198-02-15 09:00:00|2198-02-15 10:20:00|18576|             MSICU|             NULL|    NULL|   NULL| NULL|        NULL|NotStopd|       Service Type|        NULL| carevue|chartevents|    NULL|    NULL|      NULL|     NULL|\n",
      "|  1484|       268| 110404|    280836|2198-02-15 09:00:00|2198-02-15 10:20:00|18576|               Yes|             NULL|    NULL|   NULL| NULL|        NULL|NotStopd|     Risk for Falls|        NULL| carevue|chartevents|    NULL|    NULL|      NULL|     NULL|\n",
      "|    31|       268| 110404|    280836|2198-02-15 10:00:00|2198-02-15 12:34:00|18576|           Bedrest|             NULL|    NULL|   NULL| NULL|        NULL|NotStopd|           Activity|        NULL| carevue|chartevents|    NULL|    NULL|      NULL|     NULL|\n",
      "|    32|       268| 110404|    280836|2198-02-15 10:00:00|2198-02-15 12:34:00|18576|    Tolerated Well|             NULL|    NULL|   NULL| NULL|        NULL|NotStopd| Activity Tolerance|        NULL| carevue|chartevents|    NULL|    NULL|      NULL|     NULL|\n",
      "|    39|       268| 110404|    280836|2198-02-15 10:00:00|2198-02-15 10:26:00|14381|            8.0 mm|             NULL|    NULL|   NULL| NULL|        NULL|NotStopd|        Airway Size|        NULL| carevue|chartevents|    NULL|    NULL|      NULL|     NULL|\n",
      "|    40|       268| 110404|    280836|2198-02-15 10:00:00|2198-02-15 10:26:00|14381|      Endotracheal|             NULL|    NULL|   NULL| NULL|        NULL|NotStopd|        Airway Type|        NULL| carevue|chartevents|    NULL|    NULL|      NULL|     NULL|\n",
      "|    54|       268| 110404|    280836|2198-02-15 10:00:00|2198-02-15 12:34:00|18576|   2 Person Assist|             NULL|    NULL|   NULL| NULL|        NULL|NotStopd|  Assistance Device|        NULL| carevue|chartevents|    NULL|    NULL|      NULL|     NULL|\n",
      "|   128|       268| 110404|    280836|2198-02-15 10:00:00|2198-02-15 10:20:00|18576|         Full Code|             NULL|    NULL|   NULL| NULL|        NULL|NotStopd|        Code Status|        NULL| carevue|chartevents|    NULL|    NULL|      NULL|     NULL|\n",
      "+------+----------+-------+----------+-------------------+-------------------+-----+------------------+-----------------+--------+-------+-----+------------+--------+-------------------+------------+--------+-----------+--------+--------+----------+---------+\n",
      "only showing top 20 rows\n",
      "\n"
     ]
    },
    {
     "name": "stderr",
     "output_type": "stream",
     "text": [
      "                                                                                \r"
     ]
    }
   ],
   "source": [
    "charts_items_268.show()"
   ]
  },
  {
   "cell_type": "code",
   "execution_count": 100,
   "id": "3f2989ef",
   "metadata": {},
   "outputs": [
    {
     "name": "stderr",
     "output_type": "stream",
     "text": [
      "[Stage 1593:===================================================>(261 + 3) / 264]\r"
     ]
    },
    {
     "name": "stdout",
     "output_type": "stream",
     "text": [
      "+----------+---------+\n",
      "|  DBSOURCE|    count|\n",
      "+----------+---------+\n",
      "|   carevue|221315841|\n",
      "|metavision|109396642|\n",
      "+----------+---------+\n",
      "\n"
     ]
    },
    {
     "name": "stderr",
     "output_type": "stream",
     "text": [
      "                                                                                \r"
     ]
    }
   ],
   "source": [
    "# See the database split\n",
    "chartevents_dbsource_dist = chart_events_df.join(d_items_df, on=\"ITEMID\") \\\n",
    "    .groupBy(\"DBSOURCE\").count() \\\n",
    "    .orderBy(desc(\"count\"))\n",
    "chartevents_dbsource_dist.show()"
   ]
  },
  {
   "cell_type": "code",
   "execution_count": 101,
   "id": "3d717f14",
   "metadata": {},
   "outputs": [
    {
     "name": "stderr",
     "output_type": "stream",
     "text": [
      "[Stage 1599:===================================================>(260 + 4) / 264]\r"
     ]
    },
    {
     "name": "stdout",
     "output_type": "stream",
     "text": [
      "+----------+-----+\n",
      "|  DBSOURCE|count|\n",
      "+----------+-----+\n",
      "|   carevue|30658|\n",
      "|metavision|19685|\n",
      "+----------+-----+\n",
      "\n"
     ]
    },
    {
     "name": "stderr",
     "output_type": "stream",
     "text": [
      "                                                                                \r"
     ]
    }
   ],
   "source": [
    "# Check patient distribution across databases\n",
    "patient_db_dist = chart_events_df.join(d_items_df, on=\"ITEMID\") \\\n",
    "    .select(\"SUBJECT_ID\", \"DBSOURCE\").distinct() \\\n",
    "    .groupBy(\"DBSOURCE\").count()\n",
    "patient_db_dist.show()"
   ]
  },
  {
   "cell_type": "code",
   "execution_count": 102,
   "id": "a56a1991",
   "metadata": {},
   "outputs": [],
   "source": [
    "# Only ICU chartevents - filter where ICUSTAY_ID is not null\n",
    "icu_chartevents = chart_events_df.filter(col(\"ICUSTAY_ID\").isNotNull())"
   ]
  },
  {
   "cell_type": "code",
   "execution_count": 103,
   "id": "3c522ec7",
   "metadata": {},
   "outputs": [
    {
     "name": "stderr",
     "output_type": "stream",
     "text": [
      "[Stage 1606:================================================>  (253 + 11) / 264]\r"
     ]
    },
    {
     "name": "stdout",
     "output_type": "stream",
     "text": [
      "+----------+---------+\n",
      "|  DBSOURCE|    count|\n",
      "+----------+---------+\n",
      "|   carevue|221054208|\n",
      "|metavision|109360746|\n",
      "+----------+---------+\n",
      "\n"
     ]
    },
    {
     "name": "stderr",
     "output_type": "stream",
     "text": [
      "                                                                                \r"
     ]
    }
   ],
   "source": [
    "# Check database distribution for ICU chartevents only\n",
    "icu_chartevents_db_dist = chart_events_df.filter(col(\"ICUSTAY_ID\").isNotNull()) \\\n",
    "    .join(d_items_df, on=\"ITEMID\") \\\n",
    "    .groupBy(\"DBSOURCE\").count() \\\n",
    "    .orderBy(desc(\"count\"))\n",
    "icu_chartevents_db_dist.show()"
   ]
  },
  {
   "cell_type": "code",
   "execution_count": 106,
   "id": "f6983cb7",
   "metadata": {},
   "outputs": [
    {
     "name": "stderr",
     "output_type": "stream",
     "text": [
      "                                                                                \r"
     ]
    },
    {
     "name": "stdout",
     "output_type": "stream",
     "text": [
      "Filtered dataset: 221054208 records\n"
     ]
    },
    {
     "name": "stderr",
     "output_type": "stream",
     "text": [
      "[Stage 1621:===================================================>(260 + 4) / 264]\r"
     ]
    },
    {
     "name": "stdout",
     "output_type": "stream",
     "text": [
      "Unique ICU stays: 37945\n"
     ]
    },
    {
     "name": "stderr",
     "output_type": "stream",
     "text": [
      "                                                                                \r"
     ]
    }
   ],
   "source": [
    "# Filter to CareVue ICU chartevents only\n",
    "icu_chartevents_carevue = chart_events_df.filter(col(\"ICUSTAY_ID\").isNotNull()) \\\n",
    "    .join(d_items_df.filter(col(\"DBSOURCE\") == \"carevue\"), on=\"ITEMID\")\n",
    "\n",
    "print(f\"Filtered dataset: {icu_chartevents_carevue.count()} records\")\n",
    "print(f\"Unique ICU stays: {icu_chartevents_carevue.select('ICUSTAY_ID').distinct().count()}\")"
   ]
  },
  {
   "cell_type": "code",
   "execution_count": 105,
   "id": "f6e58769",
   "metadata": {},
   "outputs": [
    {
     "name": "stderr",
     "output_type": "stream",
     "text": [
      "[Stage 1610:===================================================>(261 + 3) / 264]\r"
     ]
    },
    {
     "name": "stdout",
     "output_type": "stream",
     "text": [
      "+----------+-------------+---------------+------------+\n",
      "|  DBSOURCE|total_records|unique_patients|unique_items|\n",
      "+----------+-------------+---------------+------------+\n",
      "|   carevue|    221054208|          37945|        4889|\n",
      "|metavision|    109360746|          26300|        1568|\n",
      "+----------+-------------+---------------+------------+\n",
      "\n"
     ]
    },
    {
     "name": "stderr",
     "output_type": "stream",
     "text": [
      "                                                                                \r"
     ]
    }
   ],
   "source": [
    "# See which database dominates for ICU patients\n",
    "icu_db_distribution = chart_events_df.filter(col(\"ICUSTAY_ID\").isNotNull()) \\\n",
    "    .join(d_items_df, on=\"ITEMID\") \\\n",
    "    .groupBy(\"DBSOURCE\") \\\n",
    "    .agg(\n",
    "        count(\"*\").alias(\"total_records\"),\n",
    "        countDistinct(\"ICUSTAY_ID\").alias(\"unique_patients\"),\n",
    "        countDistinct(\"ITEMID\").alias(\"unique_items\")\n",
    "    ) \\\n",
    "    .orderBy(desc(\"total_records\"))\n",
    "\n",
    "icu_db_distribution.show()"
   ]
  },
  {
   "cell_type": "code",
   "execution_count": 34,
   "id": "dcef081e",
   "metadata": {},
   "outputs": [
    {
     "name": "stderr",
     "output_type": "stream",
     "text": [
      "                                                                                \r"
     ]
    },
    {
     "name": "stdout",
     "output_type": "stream",
     "text": [
      "+---------------------------+\n",
      "|CATEGORY                   |\n",
      "+---------------------------+\n",
      "|Scores - APACHE IV (2)     |\n",
      "|Cardiovascular (Pacer Data)|\n",
      "|Alarms                     |\n",
      "|Dialysis                   |\n",
      "|Access Lines - Invasive    |\n",
      "|NICOM                      |\n",
      "|Scores - APACHE II         |\n",
      "|Adm History/FHPA           |\n",
      "|General                    |\n",
      "|Treatments                 |\n",
      "|PiCCO                      |\n",
      "|GI/GU                      |\n",
      "|OT Notes                   |\n",
      "|Hemodynamics               |\n",
      "|Skin - Impairment          |\n",
      "|Pain/Sedation              |\n",
      "|Respiratory                |\n",
      "|IABP                       |\n",
      "|Labs                       |\n",
      "|Routine Vital Signs        |\n",
      "+---------------------------+\n",
      "only showing top 20 rows\n",
      "\n"
     ]
    },
    {
     "name": "stderr",
     "output_type": "stream",
     "text": [
      "[Stage 185:====================================================>(263 + 1) / 264]\r"
     ]
    },
    {
     "name": "stdout",
     "output_type": "stream",
     "text": [
      "57\n"
     ]
    },
    {
     "name": "stderr",
     "output_type": "stream",
     "text": [
      "                                                                                \r"
     ]
    }
   ],
   "source": [
    "# Get unique categories\n",
    "unique_categories = chartevents_item_d_items.select(\"CATEGORY\").distinct()\n",
    "\n",
    "# Show the unique values\n",
    "unique_categories.show(truncate=False)\n",
    "\n",
    "u_count = unique_categories.count()\n",
    "\n",
    "print(u_count)"
   ]
  },
  {
   "cell_type": "code",
   "execution_count": 35,
   "id": "1906ab17",
   "metadata": {},
   "outputs": [
    {
     "name": "stderr",
     "output_type": "stream",
     "text": [
      "[Stage 192:====================================================>(263 + 1) / 264]\r"
     ]
    },
    {
     "name": "stdout",
     "output_type": "stream",
     "text": [
      "+--------------------+\n",
      "|            CATEGORY|\n",
      "+--------------------+\n",
      "|Scores - APACHE I...|\n",
      "|Cardiovascular (P...|\n",
      "|              Alarms|\n",
      "|            Dialysis|\n",
      "|Access Lines - In...|\n",
      "|               NICOM|\n",
      "|  Scores - APACHE II|\n",
      "|    Adm History/FHPA|\n",
      "|             General|\n",
      "|          Treatments|\n",
      "|               PiCCO|\n",
      "|               GI/GU|\n",
      "|            OT Notes|\n",
      "|        Hemodynamics|\n",
      "|   Skin - Impairment|\n",
      "|       Pain/Sedation|\n",
      "|         Respiratory|\n",
      "|                IABP|\n",
      "|                Labs|\n",
      "| Routine Vital Signs|\n",
      "|        Tandem Heart|\n",
      "|             Impella|\n",
      "|              OB-GYN|\n",
      "|         Quick Admit|\n",
      "|               Urine|\n",
      "|               ABG's|\n",
      "|         Blood Gases|\n",
      "|           Chemistry|\n",
      "|                 ABG|\n",
      "|             Enzymes|\n",
      "|               Coags|\n",
      "|                 CSF|\n",
      "|          Other ABGs|\n",
      "|          Hematology|\n",
      "|  Mixed Venous Gases|\n",
      "|               ABG'S|\n",
      "|           Heme/Coag|\n",
      "|          Drug Level|\n",
      "|               VBG's|\n",
      "|          Mixed VBGs|\n",
      "|          Drug level|\n",
      "|               VBG'S|\n",
      "|          Venous ABG|\n",
      "|     Case Management|\n",
      "|Access Lines - Pe...|\n",
      "|      Cardiovascular|\n",
      "|Restraint/Support...|\n",
      "|  Scores - APACHE IV|\n",
      "|        Neurological|\n",
      "|              Output|\n",
      "|   Skin - Assessment|\n",
      "|Cardiovascular (P...|\n",
      "|    Skin - Incisions|\n",
      "|           Pulmonary|\n",
      "|                 ADT|\n",
      "|          Toxicology|\n",
      "|                NULL|\n",
      "+--------------------+\n",
      "\n"
     ]
    },
    {
     "name": "stderr",
     "output_type": "stream",
     "text": [
      "                                                                                \r"
     ]
    }
   ],
   "source": [
    "unique_categories.show(57)"
   ]
  },
  {
   "cell_type": "markdown",
   "id": "997f4323",
   "metadata": {},
   "source": [
    "<b> Notas: </b>\n",
    "\n",
    "* Okay haver várias entradas na ICU para 1 mesmo paciente <b> (DONE) </b>\n",
    "\n",
    "* Corrigir vários diagnósticos para mesma entrada na ICU:\n",
    "    * dividir em várias features os diagnóticos (dividir por tipo de diagnóstico para  a mesma entrada ICU) <b> (OPTEI POR ISTO) </b>\n",
    "    * usar o diagnóstico principal (SEQ_NUM = 1)\n",
    "\n",
    "* Ao juntar CHART_EVENTS com D_ITEMS:\n",
    "    * Provavelmente mais útil usar 1 só database (dbsource - CareVue or Metavision), porque há medições dos mesmos sinais vitais nas duas bases de dados\n",
    "        * Ver qual apresenta mais medições (volume de dados) <b> (A IMPLEMENTAR) </b>\n"
   ]
  },
  {
   "cell_type": "markdown",
   "id": "e14500c5",
   "metadata": {},
   "source": [
    "<b> A PARTIR DAQUI É EXPERIMENTAL NÃO CORRER NA GCP </b>"
   ]
  },
  {
   "cell_type": "code",
   "execution_count": 36,
   "id": "6eee30da",
   "metadata": {},
   "outputs": [
    {
     "data": {
      "text/plain": [
       "'\\ndef create_filtered_chartevents_with_items(chart_events_df, d_items_df, target_categories=None):\\n    \"\"\"\\n    Filter and join CHARTEVENTS with D_ITEMS strategically.\\n    \"\"\"\\n    print(\"Creating filtered CHARTEVENTS with D_ITEMS...\")\\n\\n    # Step 1: Filter D_ITEMS to only vital signs and key measurements\\n    if target_categories is None:\\n        target_categories = [\\n            \"Vital Signs\", \"Cardiovascular\", \"Respiratory\", \\n            \"Neurological\", \"Blood Gas\", \"Chemistry\"\\n        ]\\n\\n    # Get relevant ITEMIDs first\\n    relevant_items = d_items_df.filter(\\n        col(\"CATEGORY\").rlike(\"|\".join([f\"(?i){cat}\" for cat in target_categories]))\\n    )\\n\\n    print(f\"Filtered D_ITEMS from {d_items_df.count()} to {relevant_items.count()} relevant items\")\\n\\n    # Step 2: Get list of ITEMIDs to filter CHARTEVENTS\\n    relevant_itemids = relevant_items.select(\"ITEMID\").rdd.flatMap(lambda x: x).collect()\\n\\n    print(f\"Found {len(relevant_itemids)} relevant ITEMIDs\")\\n\\n    # Step 3: Filter CHARTEVENTS to only relevant ITEMIDs (major performance boost)\\n    filtered_chartevents = chart_events_df.filter(col(\"ITEMID\").isin(relevant_itemids))\\n\\n    original_count = chart_events_df.count()\\n    filtered_count = filtered_chartevents.count()\\n    print(f\"Filtered CHARTEVENTS from {original_count:,} to {filtered_count:,} rows\")\\n\\n    # Step 4: Now join the filtered data\\n    chartevents_with_items = filtered_chartevents.join(relevant_items, on=\"ITEMID\", how=\"left\")\\n\\n    print(f\"Final joined dataset: {chartevents_with_items.count():,} rows\")\\n    return chartevents_with_items, relevant_items\\n\\n# Execute the filtering approach\\nchartevents_filtered, items_dict = create_filtered_chartevents_with_items(\\n    chart_events_df, \\n    d_items_df,\\n    target_categories=[\"Vital Signs\", \"Cardiovascular\", \"Respiratory\"]\\n)\\n'"
      ]
     },
     "execution_count": 36,
     "metadata": {},
     "output_type": "execute_result"
    }
   ],
   "source": [
    "'''\n",
    "def create_filtered_chartevents_with_items(chart_events_df, d_items_df, target_categories=None):\n",
    "    \"\"\"\n",
    "    Filter and join CHARTEVENTS with D_ITEMS strategically.\n",
    "    \"\"\"\n",
    "    print(\"Creating filtered CHARTEVENTS with D_ITEMS...\")\n",
    "    \n",
    "    # Step 1: Filter D_ITEMS to only vital signs and key measurements\n",
    "    if target_categories is None:\n",
    "        target_categories = [\n",
    "            \"Vital Signs\", \"Cardiovascular\", \"Respiratory\", \n",
    "            \"Neurological\", \"Blood Gas\", \"Chemistry\"\n",
    "        ]\n",
    "    \n",
    "    # Get relevant ITEMIDs first\n",
    "    relevant_items = d_items_df.filter(\n",
    "        col(\"CATEGORY\").rlike(\"|\".join([f\"(?i){cat}\" for cat in target_categories]))\n",
    "    )\n",
    "    \n",
    "    print(f\"Filtered D_ITEMS from {d_items_df.count()} to {relevant_items.count()} relevant items\")\n",
    "    \n",
    "    # Step 2: Get list of ITEMIDs to filter CHARTEVENTS\n",
    "    relevant_itemids = relevant_items.select(\"ITEMID\").rdd.flatMap(lambda x: x).collect()\n",
    "    \n",
    "    print(f\"Found {len(relevant_itemids)} relevant ITEMIDs\")\n",
    "    \n",
    "    # Step 3: Filter CHARTEVENTS to only relevant ITEMIDs (major performance boost)\n",
    "    filtered_chartevents = chart_events_df.filter(col(\"ITEMID\").isin(relevant_itemids))\n",
    "    \n",
    "    original_count = chart_events_df.count()\n",
    "    filtered_count = filtered_chartevents.count()\n",
    "    print(f\"Filtered CHARTEVENTS from {original_count:,} to {filtered_count:,} rows\")\n",
    "    \n",
    "    # Step 4: Now join the filtered data\n",
    "    chartevents_with_items = filtered_chartevents.join(relevant_items, on=\"ITEMID\", how=\"left\")\n",
    "    \n",
    "    print(f\"Final joined dataset: {chartevents_with_items.count():,} rows\")\n",
    "    return chartevents_with_items, relevant_items\n",
    "\n",
    "# Execute the filtering approach\n",
    "chartevents_filtered, items_dict = create_filtered_chartevents_with_items(\n",
    "    chart_events_df, \n",
    "    d_items_df,\n",
    "    target_categories=[\"Vital Signs\", \"Cardiovascular\", \"Respiratory\"]\n",
    ")\n",
    "'''"
   ]
  },
  {
   "cell_type": "code",
   "execution_count": 37,
   "id": "1c85e468",
   "metadata": {},
   "outputs": [
    {
     "data": {
      "text/plain": [
       "'\\ndef create_focused_vital_signs_data(chart_events_df, d_items_df, dbsource=\"metavision\"):\\n    \"\"\"\\n    Create a focused dataset with specific vital signs from one database source.\\n    \"\"\"\\n    print(f\"Creating focused vital signs data from {dbsource}...\")\\n\\n    # Define the vital signs you actually need\\n    vital_signs_mapping = {\\n        \\'Heart Rate\\': [\\'heart rate\\', \\'hr\\'],\\n        \\'Blood Pressure Systolic\\': [\\'systolic\\', \\'sbp\\', \\'arterial bp sys\\'],\\n        \\'Blood Pressure Diastolic\\': [\\'diastolic\\', \\'dbp\\', \\'arterial bp [d]\\'],\\n        \\'Blood Pressure Mean\\': [\\'mean bp\\', \\'mbp\\', \\'arterial bp mean\\'],\\n        \\'Respiratory Rate\\': [\\'respiratory rate\\', \\'resp rate\\'],\\n        \\'Temperature\\': [\\'temperature\\', \\'temp\\'],\\n        \\'SpO2\\': [\\'spo2\\', \\'o2 sat\\'],\\n        \\'Glasgow Coma Scale\\': [\\'gcs\\', \\'glasgow\\']\\n    }\\n\\n    # Get specific ITEMIDs for each vital sign from chosen database\\n    vital_itemids = {}\\n\\n    for vital_name, search_terms in vital_signs_mapping.items():\\n        # Create regex pattern for this vital sign\\n        pattern = \"|\".join([f\"(?i){term}\" for term in search_terms])\\n\\n        # Find ITEMIDs for this vital sign from specific database\\n        items = d_items_df.filter(\\n            (col(\"DBSOURCE\") == dbsource) &\\n            col(\"LABEL\").rlike(pattern)\\n        ).select(\"ITEMID\", \"LABEL\", \"UNITNAME\")\\n\\n        itemids = items.select(\"ITEMID\").rdd.flatMap(lambda x: x).collect()\\n        vital_itemids[vital_name] = itemids\\n\\n        print(f\"{vital_name}: {itemids}\")\\n        if itemids:  # Show what labels we found\\n            items.show(truncate=False)\\n\\n    # Collect all ITEMIDs we want to keep\\n    all_target_itemids = []\\n    for itemids in vital_itemids.values():\\n        all_target_itemids.extend(itemids)\\n\\n    print(f\"Total target ITEMIDs: {len(all_target_itemids)}\")\\n\\n    # Filter CHARTEVENTS to only these specific measurements\\n    focused_chartevents = chart_events_df.filter(col(\"ITEMID\").isin(all_target_itemids))\\n\\n    # Join with D_ITEMS for labels\\n    focused_with_labels = focused_chartevents.join(\\n        d_items_df.select(\"ITEMID\", \"LABEL\", \"CATEGORY\", \"UNITNAME\"), \\n        on=\"ITEMID\", \\n        how=\"left\"\\n    )\\n\\n    print(f\"Focused dataset: {focused_with_labels.count():,} rows\")\\n    return focused_with_labels, vital_itemids\\n\\n# Execute focused approach\\nfocused_data, vital_mapping = create_focused_vital_signs_data(\\n    chart_events_df, \\n    d_items_df, \\n    dbsource=\"metavision\"\\n)\\n'"
      ]
     },
     "execution_count": 37,
     "metadata": {},
     "output_type": "execute_result"
    }
   ],
   "source": [
    "'''\n",
    "def create_focused_vital_signs_data(chart_events_df, d_items_df, dbsource=\"metavision\"):\n",
    "    \"\"\"\n",
    "    Create a focused dataset with specific vital signs from one database source.\n",
    "    \"\"\"\n",
    "    print(f\"Creating focused vital signs data from {dbsource}...\")\n",
    "    \n",
    "    # Define the vital signs you actually need\n",
    "    vital_signs_mapping = {\n",
    "        'Heart Rate': ['heart rate', 'hr'],\n",
    "        'Blood Pressure Systolic': ['systolic', 'sbp', 'arterial bp sys'],\n",
    "        'Blood Pressure Diastolic': ['diastolic', 'dbp', 'arterial bp [d]'],\n",
    "        'Blood Pressure Mean': ['mean bp', 'mbp', 'arterial bp mean'],\n",
    "        'Respiratory Rate': ['respiratory rate', 'resp rate'],\n",
    "        'Temperature': ['temperature', 'temp'],\n",
    "        'SpO2': ['spo2', 'o2 sat'],\n",
    "        'Glasgow Coma Scale': ['gcs', 'glasgow']\n",
    "    }\n",
    "    \n",
    "    # Get specific ITEMIDs for each vital sign from chosen database\n",
    "    vital_itemids = {}\n",
    "    \n",
    "    for vital_name, search_terms in vital_signs_mapping.items():\n",
    "        # Create regex pattern for this vital sign\n",
    "        pattern = \"|\".join([f\"(?i){term}\" for term in search_terms])\n",
    "        \n",
    "        # Find ITEMIDs for this vital sign from specific database\n",
    "        items = d_items_df.filter(\n",
    "            (col(\"DBSOURCE\") == dbsource) &\n",
    "            col(\"LABEL\").rlike(pattern)\n",
    "        ).select(\"ITEMID\", \"LABEL\", \"UNITNAME\")\n",
    "        \n",
    "        itemids = items.select(\"ITEMID\").rdd.flatMap(lambda x: x).collect()\n",
    "        vital_itemids[vital_name] = itemids\n",
    "        \n",
    "        print(f\"{vital_name}: {itemids}\")\n",
    "        if itemids:  # Show what labels we found\n",
    "            items.show(truncate=False)\n",
    "    \n",
    "    # Collect all ITEMIDs we want to keep\n",
    "    all_target_itemids = []\n",
    "    for itemids in vital_itemids.values():\n",
    "        all_target_itemids.extend(itemids)\n",
    "    \n",
    "    print(f\"Total target ITEMIDs: {len(all_target_itemids)}\")\n",
    "    \n",
    "    # Filter CHARTEVENTS to only these specific measurements\n",
    "    focused_chartevents = chart_events_df.filter(col(\"ITEMID\").isin(all_target_itemids))\n",
    "    \n",
    "    # Join with D_ITEMS for labels\n",
    "    focused_with_labels = focused_chartevents.join(\n",
    "        d_items_df.select(\"ITEMID\", \"LABEL\", \"CATEGORY\", \"UNITNAME\"), \n",
    "        on=\"ITEMID\", \n",
    "        how=\"left\"\n",
    "    )\n",
    "    \n",
    "    print(f\"Focused dataset: {focused_with_labels.count():,} rows\")\n",
    "    return focused_with_labels, vital_itemids\n",
    "\n",
    "# Execute focused approach\n",
    "focused_data, vital_mapping = create_focused_vital_signs_data(\n",
    "    chart_events_df, \n",
    "    d_items_df, \n",
    "    dbsource=\"metavision\"\n",
    ")\n",
    "'''"
   ]
  },
  {
   "cell_type": "code",
   "execution_count": 38,
   "id": "ed125c04",
   "metadata": {},
   "outputs": [
    {
     "data": {
      "text/plain": [
       "'\\ndef create_analysis_ready_vitals(chart_events_df, d_items_df, icustays_df, \\n                                window_hours=24, dbsource=\"metavision\"):\\n    \"\"\"\\n    Create analysis-ready vital signs data with time windowing and patient filtering.\\n    \"\"\"\\n    print(\"Creating analysis-ready vital signs data...\")\\n\\n    # Step 1: Get your target ICU stays\\n    target_icustays = icustays_df.select(\"ICUSTAY_ID\", \"INTIME\")\\n\\n    # Step 2: Get focused vital signs ITEMIDs\\n    focused_data, vital_mapping = create_focused_vital_signs_data(\\n        chart_events_df, \\n        d_items_df, \\n        dbsource=dbsource\\n    )\\n\\n    # Step 3: Filter to your ICU stays and time window\\n    analysis_data = focused_data.join(target_icustays, on=\"ICUSTAY_ID\")         .filter(\\n            (col(\"CHARTTIME\") >= col(\"INTIME\")) &\\n            (col(\"CHARTTIME\") <= expr(f\"INTIME + INTERVAL {window_hours} HOURS\")) &\\n            col(\"VALUENUM\").isNotNull() &\\n            (col(\"VALUENUM\") > 0)\\n        )\\n\\n    print(f\"Analysis-ready data: {analysis_data.count():,} rows\")\\n\\n    # Step 4: Apply clinical bounds to remove outliers\\n    analysis_data = apply_clinical_bounds_with_labels(analysis_data)\\n\\n    return analysis_data, vital_mapping\\n\\ndef apply_clinical_bounds_with_labels(df):\\n    \"\"\"Apply clinical bounds based on the measurement labels.\"\"\"\\n    # Heart rate bounds\\n    df = df.withColumn(\"VALUENUM\",\\n        when(col(\"LABEL\").rlike(\"(?i)heart.rate\") & \\n             ((col(\"VALUENUM\") < 20) | (col(\"VALUENUM\") > 300)), None)\\n        .otherwise(col(\"VALUENUM\"))\\n    )\\n\\n    # Blood pressure bounds\\n    df = df.withColumn(\"VALUENUM\",\\n        when(col(\"LABEL\").rlike(\"(?i)(systolic|diastolic|mean)\") & \\n             ((col(\"VALUENUM\") < 30) | (col(\"VALUENUM\") > 300)), None)\\n        .otherwise(col(\"VALUENUM\"))\\n    )\\n\\n    # Temperature bounds (assuming Celsius)\\n    df = df.withColumn(\"VALUENUM\",\\n        when(col(\"LABEL\").rlike(\"(?i)temperature\") & \\n             ((col(\"VALUENUM\") < 30) | (col(\"VALUENUM\") > 45)), None)\\n        .otherwise(col(\"VALUENUM\"))\\n    )\\n\\n    # Remove null values after bounds checking\\n    df = df.filter(col(\"VALUENUM\").isNotNull())\\n\\n    return df\\n\\n# Execute the complete pipeline\\nanalysis_ready_data, vitals_mapping = create_analysis_ready_vitals(\\n    chart_events_df, \\n    d_items_df, \\n    icustays_df,\\n    window_hours=24,\\n    dbsource=\"metavision\"\\n)'"
      ]
     },
     "execution_count": 38,
     "metadata": {},
     "output_type": "execute_result"
    }
   ],
   "source": [
    "'''\n",
    "def create_analysis_ready_vitals(chart_events_df, d_items_df, icustays_df, \n",
    "                                window_hours=24, dbsource=\"metavision\"):\n",
    "    \"\"\"\n",
    "    Create analysis-ready vital signs data with time windowing and patient filtering.\n",
    "    \"\"\"\n",
    "    print(\"Creating analysis-ready vital signs data...\")\n",
    "    \n",
    "    # Step 1: Get your target ICU stays\n",
    "    target_icustays = icustays_df.select(\"ICUSTAY_ID\", \"INTIME\")\n",
    "    \n",
    "    # Step 2: Get focused vital signs ITEMIDs\n",
    "    focused_data, vital_mapping = create_focused_vital_signs_data(\n",
    "        chart_events_df, \n",
    "        d_items_df, \n",
    "        dbsource=dbsource\n",
    "    )\n",
    "    \n",
    "    # Step 3: Filter to your ICU stays and time window\n",
    "    analysis_data = focused_data.join(target_icustays, on=\"ICUSTAY_ID\") \\\n",
    "        .filter(\n",
    "            (col(\"CHARTTIME\") >= col(\"INTIME\")) &\n",
    "            (col(\"CHARTTIME\") <= expr(f\"INTIME + INTERVAL {window_hours} HOURS\")) &\n",
    "            col(\"VALUENUM\").isNotNull() &\n",
    "            (col(\"VALUENUM\") > 0)\n",
    "        )\n",
    "    \n",
    "    print(f\"Analysis-ready data: {analysis_data.count():,} rows\")\n",
    "    \n",
    "    # Step 4: Apply clinical bounds to remove outliers\n",
    "    analysis_data = apply_clinical_bounds_with_labels(analysis_data)\n",
    "    \n",
    "    return analysis_data, vital_mapping\n",
    "\n",
    "def apply_clinical_bounds_with_labels(df):\n",
    "    \"\"\"Apply clinical bounds based on the measurement labels.\"\"\"\n",
    "    # Heart rate bounds\n",
    "    df = df.withColumn(\"VALUENUM\",\n",
    "        when(col(\"LABEL\").rlike(\"(?i)heart.rate\") & \n",
    "             ((col(\"VALUENUM\") < 20) | (col(\"VALUENUM\") > 300)), None)\n",
    "        .otherwise(col(\"VALUENUM\"))\n",
    "    )\n",
    "    \n",
    "    # Blood pressure bounds\n",
    "    df = df.withColumn(\"VALUENUM\",\n",
    "        when(col(\"LABEL\").rlike(\"(?i)(systolic|diastolic|mean)\") & \n",
    "             ((col(\"VALUENUM\") < 30) | (col(\"VALUENUM\") > 300)), None)\n",
    "        .otherwise(col(\"VALUENUM\"))\n",
    "    )\n",
    "    \n",
    "    # Temperature bounds (assuming Celsius)\n",
    "    df = df.withColumn(\"VALUENUM\",\n",
    "        when(col(\"LABEL\").rlike(\"(?i)temperature\") & \n",
    "             ((col(\"VALUENUM\") < 30) | (col(\"VALUENUM\") > 45)), None)\n",
    "        .otherwise(col(\"VALUENUM\"))\n",
    "    )\n",
    "    \n",
    "    # Remove null values after bounds checking\n",
    "    df = df.filter(col(\"VALUENUM\").isNotNull())\n",
    "    \n",
    "    return df\n",
    "\n",
    "# Execute the complete pipeline\n",
    "analysis_ready_data, vitals_mapping = create_analysis_ready_vitals(\n",
    "    chart_events_df, \n",
    "    d_items_df, \n",
    "    icustays_df,\n",
    "    window_hours=24,\n",
    "    dbsource=\"metavision\"\n",
    ")'''"
   ]
  },
  {
   "cell_type": "code",
   "execution_count": 39,
   "id": "98044f2b",
   "metadata": {},
   "outputs": [
    {
     "data": {
      "text/plain": [
       "'def create_vital_features_from_joined_data(analysis_data, vitals_mapping):\\n    \"\"\"\\n    Create final vital sign features from the joined and filtered data.\\n    \"\"\"\\n    print(\"Creating final vital sign features...\")\\n\\n    # Create features for each vital sign category\\n    all_features = None\\n\\n    for vital_name, itemids in vitals_mapping.items():\\n        if not itemids:\\n            continue\\n\\n        print(f\"Processing {vital_name}...\")\\n\\n        # Filter to this vital sign\\n        vital_data = analysis_data.filter(col(\"ITEMID\").isin(itemids))\\n\\n        # Create aggregated features\\n        vital_features = vital_data.groupBy(\"ICUSTAY_ID\").agg(\\n            avg(\"VALUENUM\").alias(f\"{vital_name.lower().replace(\\' \\', \\'_\\')}_mean\"),\\n            min(\"VALUENUM\").alias(f\"{vital_name.lower().replace(\\' \\', \\'_\\')}_min\"),\\n            max(\"VALUENUM\").alias(f\"{vital_name.lower().replace(\\' \\', \\'_\\')}_max\"),\\n            stddev(\"VALUENUM\").alias(f\"{vital_name.lower().replace(\\' \\', \\'_\\')}_std\"),\\n            count(\"VALUENUM\").alias(f\"{vital_name.lower().replace(\\' \\', \\'_\\')}_count\")\\n        )\\n\\n        # Join features\\n        if all_features is None:\\n            all_features = vital_features\\n        else:\\n            all_features = all_features.join(vital_features, on=\"ICUSTAY_ID\", how=\"outer\")\\n\\n    print(f\"Created features for {all_features.count()} ICU stays\")\\n    return all_features\\n\\n# Create final features\\nfinal_vital_features = create_vital_features_from_joined_data(analysis_ready_data, vitals_mapping)\\n\\n# Join with your main patient data\\npatients_with_vitals = patients_full_info_fixed.join(\\n    final_vital_features, \\n    on=\"ICUSTAY_ID\", \\n    how=\"left\"\\n)'"
      ]
     },
     "execution_count": 39,
     "metadata": {},
     "output_type": "execute_result"
    }
   ],
   "source": [
    "'''def create_vital_features_from_joined_data(analysis_data, vitals_mapping):\n",
    "    \"\"\"\n",
    "    Create final vital sign features from the joined and filtered data.\n",
    "    \"\"\"\n",
    "    print(\"Creating final vital sign features...\")\n",
    "    \n",
    "    # Create features for each vital sign category\n",
    "    all_features = None\n",
    "    \n",
    "    for vital_name, itemids in vitals_mapping.items():\n",
    "        if not itemids:\n",
    "            continue\n",
    "            \n",
    "        print(f\"Processing {vital_name}...\")\n",
    "        \n",
    "        # Filter to this vital sign\n",
    "        vital_data = analysis_data.filter(col(\"ITEMID\").isin(itemids))\n",
    "        \n",
    "        # Create aggregated features\n",
    "        vital_features = vital_data.groupBy(\"ICUSTAY_ID\").agg(\n",
    "            avg(\"VALUENUM\").alias(f\"{vital_name.lower().replace(' ', '_')}_mean\"),\n",
    "            min(\"VALUENUM\").alias(f\"{vital_name.lower().replace(' ', '_')}_min\"),\n",
    "            max(\"VALUENUM\").alias(f\"{vital_name.lower().replace(' ', '_')}_max\"),\n",
    "            stddev(\"VALUENUM\").alias(f\"{vital_name.lower().replace(' ', '_')}_std\"),\n",
    "            count(\"VALUENUM\").alias(f\"{vital_name.lower().replace(' ', '_')}_count\")\n",
    "        )\n",
    "        \n",
    "        # Join features\n",
    "        if all_features is None:\n",
    "            all_features = vital_features\n",
    "        else:\n",
    "            all_features = all_features.join(vital_features, on=\"ICUSTAY_ID\", how=\"outer\")\n",
    "    \n",
    "    print(f\"Created features for {all_features.count()} ICU stays\")\n",
    "    return all_features\n",
    "\n",
    "# Create final features\n",
    "final_vital_features = create_vital_features_from_joined_data(analysis_ready_data, vitals_mapping)\n",
    "\n",
    "# Join with your main patient data\n",
    "patients_with_vitals = patients_full_info_fixed.join(\n",
    "    final_vital_features, \n",
    "    on=\"ICUSTAY_ID\", \n",
    "    how=\"left\"\n",
    ")'''"
   ]
  }
 ],
 "metadata": {
  "kernelspec": {
   "display_name": "venv",
   "language": "python",
   "name": "python3"
  },
  "language_info": {
   "codemirror_mode": {
    "name": "ipython",
    "version": 3
   },
   "file_extension": ".py",
   "mimetype": "text/x-python",
   "name": "python",
   "nbconvert_exporter": "python",
   "pygments_lexer": "ipython3",
   "version": "3.12.8"
  }
 },
 "nbformat": 4,
 "nbformat_minor": 5
}
