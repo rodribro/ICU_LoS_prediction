{
 "cells": [
  {
   "cell_type": "markdown",
   "id": "827d1672",
   "metadata": {},
   "source": [
    "### <b> PySpark vs GCP </b>"
   ]
  },
  {
   "cell_type": "markdown",
   "id": "0126c8b2",
   "metadata": {},
   "source": [
    "#### <b> PySpark </b>"
   ]
  },
  {
   "cell_type": "code",
   "execution_count": 36,
   "id": "9dfbec29",
   "metadata": {},
   "outputs": [],
   "source": [
    "from pyspark.sql import SparkSession\n",
    "from pyspark.sql.functions import col, expr, when, datediff, hour, minute, count\n",
    "import os\n",
    "import time\n",
    "import matplotlib.pyplot as plt"
   ]
  },
  {
   "cell_type": "code",
   "execution_count": 37,
   "id": "a3e80ebd",
   "metadata": {},
   "outputs": [
    {
     "name": "stdout",
     "output_type": "stream",
     "text": [
      "Total memory: 18.00 GB\n",
      "Available memory: 7.48 GB\n"
     ]
    }
   ],
   "source": [
    "import psutil\n",
    "\n",
    "# Print your system's available memory\n",
    "mem_info = psutil.virtual_memory()\n",
    "print(f\"Total memory: {mem_info.total / (1024**3):.2f} GB\")\n",
    "print(f\"Available memory: {mem_info.available / (1024**3):.2f} GB\")"
   ]
  },
  {
   "cell_type": "markdown",
   "id": "0498fa20",
   "metadata": {},
   "source": [
    "* <b> Java is required: </b> brew install openjdk@11 (MacOs) OR sudo apt install openjdk-11-jdk (Ubuntu)\n"
   ]
  },
  {
   "cell_type": "markdown",
   "id": "93cb7e72",
   "metadata": {},
   "source": [
    "#### <b> Spark and CSV data loading functions </b>"
   ]
  },
  {
   "cell_type": "code",
   "execution_count": 38,
   "id": "d95dbc1d",
   "metadata": {},
   "outputs": [],
   "source": [
    "# spark.driver.memory: Used by the main program that orchestrates tasks (Stores task results, coordinates actions, loads final DataFrames)\n",
    "# spark.executor.memory: Used by worker processes that execute individual tasks (Data processing, transformations, aggregations, shuffling)\n",
    "# spark.driver.maxResultSize: limits the total size of serialized results that can be returned to the driver from all partitions in a single Spark operation\n",
    "def initialize_spark():\n",
    "    '''\n",
    "    Description: Initialize Spark Session\n",
    "\n",
    "    Arguments: \n",
    "        -None\n",
    "    Output: \n",
    "        -Spark session\n",
    "    '''\n",
    "    spark = SparkSession.builder \\\n",
    "                        .appName(\"MIMIC-III LOS Prediction\") \\\n",
    "                        .config(\"spark.driver.memory\", \"12g\") \\\n",
    "                        .config(\"spark.executor.memory\", \"12g\") \\\n",
    "                        .config(\"spark.driver.maxResultSize\", \"6g\") \\\n",
    "                        .getOrCreate()\n",
    "\n",
    "    # Check initialization\n",
    "    print(\"Success! Spark is working.\")\n",
    "    print(f\"Spark version: {spark.version}\\n\")\n",
    "\n",
    "    return spark\n",
    "\n",
    "def load_csv_table(spark, csv_dir, table_name):\n",
    "    \"\"\"Load a CSV table with performance timing.\"\"\"\n",
    "    csv_path = os.path.join(csv_dir, f\"{table_name.upper()}.csv\")\n",
    "    \n",
    "    print(f\"Loading {table_name} from CSV...\")\n",
    "    start_time = time.time()\n",
    "    \n",
    "    \n",
    "    df = spark.read.csv(csv_path, header=True, inferSchema=True)\n",
    "    df = df.drop(\"ROW_ID\")\n",
    "    \n",
    "    # Force action to measure full load time\n",
    "    count = df.count()\n",
    "    end_time = time.time()\n",
    "    \n",
    "    print(f\"Loaded {table_name}: {count} rows in {end_time - start_time:.2f} seconds\")\n",
    "    return df"
   ]
  },
  {
   "cell_type": "code",
   "execution_count": 39,
   "id": "562d09a1",
   "metadata": {},
   "outputs": [
    {
     "name": "stdout",
     "output_type": "stream",
     "text": [
      "Success! Spark is working.\n",
      "Spark version: 3.5.5\n",
      "\n",
      "Loading admissions from CSV...\n",
      "Loaded admissions: 58976 rows in 0.31 seconds\n",
      "\n",
      "\n",
      "Loading callout from CSV...\n",
      "Loaded callout: 34499 rows in 0.20 seconds\n",
      "\n",
      "\n",
      "Loading chartevents from CSV...\n"
     ]
    },
    {
     "name": "stderr",
     "output_type": "stream",
     "text": [
      "                                                                                \r"
     ]
    },
    {
     "name": "stdout",
     "output_type": "stream",
     "text": [
      "Loaded chartevents: 330712483 rows in 94.00 seconds\n",
      "\n",
      "\n",
      "Loading d_icd_diagnoses from CSV...\n",
      "Loaded d_icd_diagnoses: 14567 rows in 0.09 seconds\n",
      "\n",
      "\n",
      "Loading d_items from CSV...\n",
      "Loaded d_items: 12487 rows in 0.08 seconds\n",
      "\n",
      "\n",
      "Loading diagnoses_icd from CSV...\n",
      "Loaded diagnoses_icd: 651047 rows in 0.27 seconds\n",
      "\n",
      "\n",
      "Loading icustays from CSV...\n",
      "Loaded icustays: 61532 rows in 0.15 seconds\n",
      "\n",
      "\n",
      "Loading patients from CSV...\n",
      "Loaded patients: 46520 rows in 0.13 seconds\n",
      "\n",
      "\n",
      "Loading services from CSV...\n",
      "Loaded services: 73343 rows in 0.16 seconds\n",
      "\n",
      "\n",
      "Total loading time: 95.39649295806885\n"
     ]
    }
   ],
   "source": [
    "spark = initialize_spark()\n",
    "\n",
    "init_time = time.time()\n",
    "\n",
    "# Load tables\n",
    "admissions_df = load_csv_table(spark, \"../data/raw\", \"admissions\")\n",
    "print(\"\\n\")\n",
    "callout_df = load_csv_table(spark, \"../data/raw\", \"callout\")\n",
    "print(\"\\n\")\n",
    "chart_events_df = load_csv_table(spark, \"../data/raw\", \"chartevents\")\n",
    "print(\"\\n\")\n",
    "d_icd_diagnoses = load_csv_table(spark, \"../data/raw\", \"d_icd_diagnoses\")\n",
    "print(\"\\n\")\n",
    "d_items_df = load_csv_table(spark, \"../data/raw\", \"d_items\")\n",
    "print(\"\\n\")\n",
    "diagnoses_icd_df = load_csv_table(spark, \"../data/raw\", \"diagnoses_icd\")\n",
    "print(\"\\n\")\n",
    "icustays_df = load_csv_table(spark, \"../data/raw\", \"icustays\")\n",
    "print(\"\\n\")\n",
    "patients_df = load_csv_table(spark, \"../data/raw\", \"patients\")\n",
    "print(\"\\n\")\n",
    "services_df = load_csv_table(spark, \"../data/raw\", \"services\")\n",
    "print(\"\\n\")\n",
    "\n",
    "final_time = time.time() - init_time\n",
    "\n",
    "print(f\"Total loading time: {final_time}\")"
   ]
  },
  {
   "cell_type": "code",
   "execution_count": 40,
   "id": "6c330aec",
   "metadata": {},
   "outputs": [
    {
     "name": "stdout",
     "output_type": "stream",
     "text": [
      "+----------+-------+----------+------+-------------------+-------------------+-----+-----+--------+--------+-------+-----+------------+-------+\n",
      "|SUBJECT_ID|HADM_ID|ICUSTAY_ID|ITEMID|          CHARTTIME|          STORETIME| CGID|VALUE|VALUENUM|VALUEUOM|WARNING|ERROR|RESULTSTATUS|STOPPED|\n",
      "+----------+-------+----------+------+-------------------+-------------------+-----+-----+--------+--------+-------+-----+------------+-------+\n",
      "|        36| 165660|    241249|223834|2134-05-12 12:00:00|2134-05-12 13:56:00|17525|   15|    15.0|   L/min|      0|    0|        NULL|   NULL|\n",
      "|        36| 165660|    241249|223835|2134-05-12 12:00:00|2134-05-12 13:56:00|17525|  100|   100.0|    NULL|      0|    0|        NULL|   NULL|\n",
      "|        36| 165660|    241249|224328|2134-05-12 12:00:00|2134-05-12 12:18:00|20823|  .37|    0.37|    NULL|      0|    0|        NULL|   NULL|\n",
      "|        36| 165660|    241249|224329|2134-05-12 12:00:00|2134-05-12 12:19:00|20823|    6|     6.0|     min|      0|    0|        NULL|   NULL|\n",
      "|        36| 165660|    241249|224330|2134-05-12 12:00:00|2134-05-12 12:19:00|20823|  2.5|     2.5|    NULL|      0|    0|        NULL|   NULL|\n",
      "+----------+-------+----------+------+-------------------+-------------------+-----+-----+--------+--------+-------+-----+------------+-------+\n",
      "only showing top 5 rows\n",
      "\n"
     ]
    }
   ],
   "source": [
    "chart_events_df.show(5)"
   ]
  },
  {
   "cell_type": "markdown",
   "id": "c3a5e261",
   "metadata": {},
   "source": [
    "#### <b> Join tables based on the MIMIC-III dataset structure</b>"
   ]
  },
  {
   "cell_type": "markdown",
   "id": "4923414c",
   "metadata": {},
   "source": [
    "* 1 patient can have multiple ICU stays and Admissions\n",
    "* We can extract total Hospital LOS by subtracting DISCHTIME to ADMITTIME\n",
    "* We also can extract total ICU LOS"
   ]
  },
  {
   "cell_type": "code",
   "execution_count": 41,
   "id": "961adcc1",
   "metadata": {},
   "outputs": [
    {
     "name": "stdout",
     "output_type": "stream",
     "text": [
      "=== Analysis of Multiple ICU Stays ===\n",
      "Total ICU stays: 61532\n",
      "Unique patients: 46476\n",
      "Unique hospital admissions: 57786\n",
      "Patients with multiple ICU stays: 8755\n",
      "\n",
      "Distribution of ICU stays per patient:\n",
      "+-----------+-------------+\n",
      "|stays_count|patient_count|\n",
      "+-----------+-------------+\n",
      "|          1|        37721|\n",
      "|          2|         5796|\n",
      "|          3|         1619|\n",
      "|          4|          650|\n",
      "|          5|          300|\n",
      "|          6|          151|\n",
      "|          7|           86|\n",
      "|          8|           44|\n",
      "|          9|           29|\n",
      "|         10|           19|\n",
      "|         11|           15|\n",
      "|         12|           11|\n",
      "|         13|            8|\n",
      "|         14|            4|\n",
      "|         15|            6|\n",
      "|         16|            2|\n",
      "|         17|            2|\n",
      "|         18|            2|\n",
      "|         20|            1|\n",
      "|         21|            2|\n",
      "+-----------+-------------+\n",
      "only showing top 20 rows\n",
      "\n",
      "Hospital admissions with multiple ICU stays: 3260\n",
      "\n",
      "Examples of patients with multiple ICU stays:\n",
      "+----------+-------+----------+-------------------+-------------------+------+\n",
      "|SUBJECT_ID|HADM_ID|ICUSTAY_ID|INTIME             |OUTTIME            |LOS   |\n",
      "+----------+-------+----------+-------------------+-------------------+------+\n",
      "|2366      |144105 |244708    |2149-12-04 03:17:00|2149-12-07 02:08:05|2.9521|\n",
      "|2366      |144105 |258399    |2149-12-19 12:54:26|2149-12-21 15:52:03|2.1233|\n",
      "|4900      |196122 |248532    |2193-04-17 12:16:00|2193-04-18 15:24:00|1.1306|\n",
      "|4900      |117413 |246383    |2203-06-29 15:12:20|2203-07-04 21:51:56|5.2775|\n",
      "|4900      |115281 |251222    |2203-10-26 09:42:34|2203-10-28 14:08:53|2.1849|\n",
      "|6654      |132971 |254100    |2129-11-12 09:54:23|2129-11-13 15:49:19|1.2465|\n",
      "|6654      |132971 |266606    |2129-11-15 11:35:47|2129-11-16 03:41:01|0.6703|\n",
      "+----------+-------+----------+-------------------+-------------------+------+\n",
      "\n"
     ]
    }
   ],
   "source": [
    "# Let's examine the multiple ICU stays situation\n",
    "def analyze_multiple_icu_stays(icustays_df):\n",
    "    \"\"\"\n",
    "    Analyze patterns of multiple ICU stays in the dataset.\n",
    "    \"\"\"\n",
    "    print(\"=== Analysis of Multiple ICU Stays ===\")\n",
    "    \n",
    "    # Total ICU stays\n",
    "    total_stays = icustays_df.count()\n",
    "    print(f\"Total ICU stays: {total_stays}\")\n",
    "    \n",
    "    # Unique patients\n",
    "    unique_patients = icustays_df.select(\"SUBJECT_ID\").distinct().count()\n",
    "    print(f\"Unique patients: {unique_patients}\")\n",
    "    \n",
    "    # Unique hospital admissions\n",
    "    unique_admissions = icustays_df.select(\"HADM_ID\").distinct().count()\n",
    "    print(f\"Unique hospital admissions: {unique_admissions}\")\n",
    "    \n",
    "    # Patients with multiple ICU stays (any combination)\n",
    "    patients_multiple_stays = icustays_df.groupBy(\"SUBJECT_ID\") \\\n",
    "        .agg(count(\"ICUSTAY_ID\").alias(\"icu_stays_count\")) \\\n",
    "        .filter(\"icu_stays_count > 1\")\n",
    "    \n",
    "    multiple_stays_count = patients_multiple_stays.count()\n",
    "    print(f\"Patients with multiple ICU stays: {multiple_stays_count}\")\n",
    "    \n",
    "    # Distribution of ICU stays per patient\n",
    "    print(\"\\nDistribution of ICU stays per patient:\")\n",
    "    icustays_df.groupBy(\"SUBJECT_ID\") \\\n",
    "        .agg(count(\"ICUSTAY_ID\").alias(\"stays_count\")) \\\n",
    "        .groupBy(\"stays_count\") \\\n",
    "        .agg(count(\"SUBJECT_ID\").alias(\"patient_count\")) \\\n",
    "        .orderBy(\"stays_count\") \\\n",
    "        .show()\n",
    "    \n",
    "    \n",
    "    # Multiple ICU stays within same hospital admission\n",
    "    same_admission_multiple = icustays_df.groupBy(\"HADM_ID\") \\\n",
    "        .agg(count(\"ICUSTAY_ID\").alias(\"icu_stays_in_admission\")) \\\n",
    "        .filter(\"icu_stays_in_admission > 1\")\n",
    "    \n",
    "    same_admission_count = same_admission_multiple.count()\n",
    "    print(f\"Hospital admissions with multiple ICU stays: {same_admission_count}\")\n",
    "    \n",
    "    # Show examples\n",
    "    print(\"\\nExamples of patients with multiple ICU stays:\")\n",
    "    icustays_df.join(patients_multiple_stays.limit(3), \"SUBJECT_ID\") \\\n",
    "        .select(\"SUBJECT_ID\", \"HADM_ID\", \"ICUSTAY_ID\", \"INTIME\", \"OUTTIME\", \"LOS\") \\\n",
    "        .orderBy(\"SUBJECT_ID\", \"INTIME\") \\\n",
    "        .show(truncate=False)\n",
    "    \n",
    "    return {\n",
    "        \"total_stays\": total_stays,\n",
    "        \"unique_patients\": unique_patients,\n",
    "        \"patients_with_multiple_stays\": multiple_stays_count,\n",
    "        \"admissions_with_multiple_icu_stays\": same_admission_count\n",
    "    }\n",
    "\n",
    "\n",
    "\n",
    "# Run the analysis\n",
    "stats = analyze_multiple_icu_stays(icustays_df)"
   ]
  },
  {
   "cell_type": "code",
   "execution_count": 43,
   "id": "fe51a233",
   "metadata": {},
   "outputs": [
    {
     "data": {
      "image/png": "[encoded data removed]",
      "text/plain": [
       "<Figure size 1200x600 with 1 Axes>"
      ]
     },
     "metadata": {},
     "output_type": "display_data"
    }
   ],
   "source": [
    "import matplotlib.pyplot as plt\n",
    "\n",
    "xx = []\n",
    "total_stays = stats[\"total_stays\"]\n",
    "xx.append(total_stays)\n",
    "unique_patients = stats[\"unique_patients\"]\n",
    "xx.append(unique_patients)\n",
    "patients_with_multiple_stays = stats[\"patients_with_multiple_stays\"]\n",
    "xx.append(patients_with_multiple_stays)\n",
    "admissions_with_multiple_icu_stays = stats[\"admissions_with_multiple_icu_stays\"]\n",
    "xx.append(admissions_with_multiple_icu_stays)\n",
    "\n",
    "# Create labels for the x-axis\n",
    "labels = ['Total ICU Stays', 'Unique Patients', 'Patients with\\nMultiple Stays', 'Admissions with\\nMultiple ICU Stays']\n",
    "\n",
    "# Create values for the y-axis (your actual data)\n",
    "values = xx\n",
    "\n",
    "# Create the bar plot\n",
    "plt.figure(figsize=(12, 6))\n",
    "bars = plt.bar(labels, values)\n",
    "\n",
    "# Add value labels on top of each bar\n",
    "for bar, value in zip(bars, values):\n",
    "    plt.text(bar.get_x() + bar.get_width()/2, bar.get_height() + max(values)*0.01, \n",
    "             f'{value:,}', ha='center', va='bottom', fontweight='bold')\n",
    "\n",
    "# Customize the plot\n",
    "plt.title('MIMIC-III ICU Stays Analysis', fontsize=16, fontweight='bold')\n",
    "plt.ylabel('Count', fontsize=12)\n",
    "plt.xlabel('Category', fontsize=12)\n",
    "\n",
    "# Rotate x-axis labels if needed for better readability\n",
    "plt.xticks(rotation=45, ha='right')\n",
    "\n",
    "# Add grid for better readability\n",
    "plt.grid(axis='y', alpha=0.3)\n",
    "\n",
    "# Adjust layout to prevent label cutoff\n",
    "plt.tight_layout()\n",
    "\n",
    "# Show the plot\n",
    "plt.show()"
   ]
  },
  {
   "cell_type": "code",
   "execution_count": 44,
   "id": "27c3d625",
   "metadata": {},
   "outputs": [
    {
     "data": {
      "text/plain": [
       "{'total_stays': 61532,\n",
       " 'unique_patients': 46476,\n",
       " 'patients_with_multiple_stays': 8755,\n",
       " 'admissions_with_multiple_icu_stays': 3260}"
      ]
     },
     "execution_count": 44,
     "metadata": {},
     "output_type": "execute_result"
    }
   ],
   "source": [
    "stats"
   ]
  },
  {
   "cell_type": "markdown",
   "id": "86456319",
   "metadata": {},
   "source": [
    "Let's join <b> ICUSTAYS and ADMISSIONS </b> table to get relevant information from patients that were admitted to the ICU when they went to the hospital, and exclude those that didn't"
   ]
  },
  {
   "cell_type": "code",
   "execution_count": 45,
   "id": "fba4d99a",
   "metadata": {},
   "outputs": [],
   "source": [
    "new_icustays_df = icustays_df.join(admissions_df, on=[\"SUBJECT_ID\", \"HADM_ID\"], how=\"left\")"
   ]
  },
  {
   "cell_type": "markdown",
   "id": "7e8ec721",
   "metadata": {},
   "source": [
    "Now we join the <b> complete ICU data with the PATIENTS info </b>"
   ]
  },
  {
   "cell_type": "code",
   "execution_count": 46,
   "id": "e87c20e7",
   "metadata": {},
   "outputs": [],
   "source": [
    "patients_full_info_df = new_icustays_df.join(patients_df, on=\"SUBJECT_ID\", how=\"left\")"
   ]
  },
  {
   "cell_type": "code",
   "execution_count": 47,
   "id": "3e9c0389",
   "metadata": {},
   "outputs": [],
   "source": [
    "columns=[\"DOD_HOSP\", \"DOD_SSN\"]\n",
    "patients_full_info_df = patients_full_info_df.drop(*columns) # redundant since DOD column gives us the same info"
   ]
  },
  {
   "cell_type": "code",
   "execution_count": 49,
   "id": "bb219b50",
   "metadata": {},
   "outputs": [
    {
     "name": "stdout",
     "output_type": "stream",
     "text": [
      "+----------+-------+----------+----------+--------------+-------------+------------+-----------+-------------------+-------------------+------+-------------------+-------------------+-------------------+--------------+--------------------+--------------------+---------+--------+-----------------+--------------+--------------------+-------------------+-------------------+--------------------+--------------------+--------------------+------+-------------------+-------------------+-----------+\n",
      "|SUBJECT_ID|HADM_ID|ICUSTAY_ID|  DBSOURCE|FIRST_CAREUNIT|LAST_CAREUNIT|FIRST_WARDID|LAST_WARDID|             INTIME|            OUTTIME|   LOS|          ADMITTIME|          DISCHTIME|          DEATHTIME|ADMISSION_TYPE|  ADMISSION_LOCATION|  DISCHARGE_LOCATION|INSURANCE|LANGUAGE|         RELIGION|MARITAL_STATUS|           ETHNICITY|          EDREGTIME|          EDOUTTIME|           DIAGNOSIS|HOSPITAL_EXPIRE_FLAG|HAS_CHARTEVENTS_DATA|GENDER|                DOB|                DOD|EXPIRE_FLAG|\n",
      "+----------+-------+----------+----------+--------------+-------------+------------+-----------+-------------------+-------------------+------+-------------------+-------------------+-------------------+--------------+--------------------+--------------------+---------+--------+-----------------+--------------+--------------------+-------------------+-------------------+--------------------+--------------------+--------------------+------+-------------------+-------------------+-----------+\n",
      "|       268| 110404|    280836|   carevue|          MICU|         MICU|          52|         52|2198-02-14 23:27:38|2198-02-18 05:26:11| 3.249|2198-02-11 13:40:00|2198-02-18 03:55:00|2198-02-18 03:55:00|     EMERGENCY|EMERGENCY ROOM ADMIT|        DEAD/EXPIRED| Medicare|    NULL|         CATHOLIC|     SEPARATED|  HISPANIC OR LATINO|2198-02-11 09:41:00|2198-02-11 15:18:00|             DYSPNEA|                   1|                   1|     F|2132-02-21 00:00:00|2198-02-18 00:00:00|          1|\n",
      "|     42968| 191455|    268065|metavision|          SICU|         SICU|          57|         57|2107-05-01 15:24:02|2107-05-02 17:11:39|1.0747|2107-05-01 15:23:00|2107-05-05 14:30:00|               NULL|     EMERGENCY|CLINIC REFERRAL/P...|REHAB/DISTINCT PA...| Medicare|    ENGL|    NOT SPECIFIED|       MARRIED|               WHITE|2107-05-01 13:35:00|2107-05-01 16:00:00|          STROKE/TIA|                   0|                   1|     M|2025-09-10 00:00:00|               NULL|          0|\n",
      "|       271| 173727|    249196|   carevue|          MICU|         SICU|          52|         23|2120-08-07 23:12:42|2120-08-10 00:39:04|  2.06|2120-08-07 18:56:00|2120-08-20 16:00:00|               NULL|     EMERGENCY|TRANSFER FROM HOS...|                HOME|  Private|    ENGL|    NOT SPECIFIED|       MARRIED|PATIENT DECLINED ...|               NULL|               NULL|GALLSTONE PANCREA...|                   0|                   1|     F|2074-11-30 00:00:00|               NULL|          0|\n",
      "|     42970| 188939|    234882|metavision|           CCU|          CCU|           7|          7|2149-04-01 13:12:42|2149-04-03 15:51:58|2.1106|2149-04-01 13:12:00|2149-04-04 15:52:00|               NULL|      ELECTIVE|PHYS REFERRAL/NOR...|                HOME| Medicare|    ENGL|PROTESTANT QUAKER|       WIDOWED|               WHITE|               NULL|               NULL|CORONARY ARTERY D...|                   0|                   1|     F|2067-02-28 00:00:00|2149-09-18 00:00:00|          1|\n",
      "|     42965| 198665|    265815|metavision|          CSRU|         CSRU|          12|         12|2102-03-27 09:44:51|2102-03-30 12:14:23|3.1038|2102-03-27 07:15:00|2102-04-02 16:36:00|               NULL|      ELECTIVE|PHYS REFERRAL/NOR...|    HOME HEALTH CARE|  Private|    ENGL|    NOT SPECIFIED|       MARRIED|               WHITE|               NULL|               NULL|AORTIC STENOSIS\\A...|                   0|                   1|     F|2037-08-26 00:00:00|               NULL|          0|\n",
      "+----------+-------+----------+----------+--------------+-------------+------------+-----------+-------------------+-------------------+------+-------------------+-------------------+-------------------+--------------+--------------------+--------------------+---------+--------+-----------------+--------------+--------------------+-------------------+-------------------+--------------------+--------------------+--------------------+------+-------------------+-------------------+-----------+\n",
      "only showing top 5 rows\n",
      "\n"
     ]
    }
   ],
   "source": [
    "patients_full_info_df.show(5)"
   ]
  },
  {
   "cell_type": "code",
   "execution_count": 50,
   "id": "a578355c",
   "metadata": {},
   "outputs": [
    {
     "name": "stdout",
     "output_type": "stream",
     "text": [
      "ICUSTAYS count: 61532\n",
      "After joining ADMISSIONS: 61532\n",
      "After joining PATIENTS: 61532\n"
     ]
    }
   ],
   "source": [
    "# Check if row counts are the same\n",
    "print(f\"ICUSTAYS count: {icustays_df.count()}\")\n",
    "print(f\"After joining ADMISSIONS: {new_icustays_df.count()}\")\n",
    "print(f\"After joining PATIENTS: {patients_full_info_df.count()}\")\n"
   ]
  },
  {
   "cell_type": "code",
   "execution_count": 51,
   "id": "18cbcc20",
   "metadata": {},
   "outputs": [
    {
     "name": "stdout",
     "output_type": "stream",
     "text": [
      "+---------+--------------------+--------------------+\n",
      "|ICD9_CODE|         SHORT_TITLE|          LONG_TITLE|\n",
      "+---------+--------------------+--------------------+\n",
      "|    01166|TB pneumonia-oth ...|Tuberculous pneum...|\n",
      "|    01170|TB pneumothorax-u...|Tuberculous pneum...|\n",
      "|    01171|TB pneumothorax-n...|Tuberculous pneum...|\n",
      "|    01172|TB pneumothorx-ex...|Tuberculous pneum...|\n",
      "|    01173|TB pneumothorax-m...|Tuberculous pneum...|\n",
      "+---------+--------------------+--------------------+\n",
      "only showing top 5 rows\n",
      "\n"
     ]
    }
   ],
   "source": [
    "d_icd_diagnoses.show(5)"
   ]
  },
  {
   "cell_type": "markdown",
   "id": "0f7fc805",
   "metadata": {},
   "source": [
    "Join the <b> DIAGNOSES and D_ICD_DIAGNOSES tables </b> to get diagnoses descriptions based on the ICD9 code"
   ]
  },
  {
   "cell_type": "code",
   "execution_count": 52,
   "id": "1c78f862",
   "metadata": {},
   "outputs": [],
   "source": [
    "full_diagnosis_data = diagnoses_icd_df.join(d_icd_diagnoses, on=\"ICD9_CODE\", how=\"left\")\n",
    "full_diagnosis_data = full_diagnosis_data.drop(\"SHORT_TITLE\")"
   ]
  },
  {
   "cell_type": "code",
   "execution_count": 53,
   "id": "0d76e3d0",
   "metadata": {},
   "outputs": [],
   "source": [
    "p_268 = full_diagnosis_data[full_diagnosis_data[\"SUBJECT_ID\"]==268]"
   ]
  },
  {
   "cell_type": "code",
   "execution_count": 54,
   "id": "8751ab0a",
   "metadata": {},
   "outputs": [
    {
     "name": "stdout",
     "output_type": "stream",
     "text": [
      "+---------+----------+-------+-------+--------------------+\n",
      "|ICD9_CODE|SUBJECT_ID|HADM_ID|SEQ_NUM|          LONG_TITLE|\n",
      "+---------+----------+-------+-------+--------------------+\n",
      "|    48241|       268| 110404|      1|Methicillin susce...|\n",
      "|     4280|       268| 110404|      2|Congestive heart ...|\n",
      "|    51881|       268| 110404|      3|Acute respiratory...|\n",
      "|     5845|       268| 110404|      4|Acute kidney fail...|\n",
      "|     4275|       268| 110404|      5|      Cardiac arrest|\n",
      "|     0389|       268| 110404|      6|Unspecified septi...|\n",
      "|    49322|       268| 110404|      7|Chronic obstructi...|\n",
      "|     2761|       268| 110404|      8|Hyposmolality and...|\n",
      "|     4271|       268| 110404|      9|Paroxysmal ventri...|\n",
      "+---------+----------+-------+-------+--------------------+\n",
      "\n"
     ]
    }
   ],
   "source": [
    "p_268.show() # 1 patient can have multiple diagnoses for the same HADM"
   ]
  },
  {
   "cell_type": "code",
   "execution_count": 55,
   "id": "f2d61a96",
   "metadata": {},
   "outputs": [],
   "source": [
    "yo = p_268[p_268[\"SEQ_NUM\"]==1]"
   ]
  },
  {
   "cell_type": "code",
   "execution_count": 56,
   "id": "8a788051",
   "metadata": {},
   "outputs": [],
   "source": [
    "title = yo[\"LONG_TITLE\"]"
   ]
  },
  {
   "cell_type": "code",
   "execution_count": 57,
   "id": "fc3f0e08",
   "metadata": {},
   "outputs": [
    {
     "data": {
      "text/plain": [
       "'Methicillin susceptible pneumonia due to Staphylococcus aureus'"
      ]
     },
     "execution_count": 57,
     "metadata": {},
     "output_type": "execute_result"
    }
   ],
   "source": [
    "yo.select(\"LONG_TITLE\").collect()[0][0]"
   ]
  },
  {
   "cell_type": "code",
   "execution_count": 58,
   "id": "1449fae8",
   "metadata": {},
   "outputs": [
    {
     "data": {
      "text/plain": [
       "'Methicillin susceptible pneumonia due to Staphylococcus aureus'"
      ]
     },
     "execution_count": 58,
     "metadata": {},
     "output_type": "execute_result"
    }
   ],
   "source": [
    "yo.select(\"LONG_TITLE\").first()[0]"
   ]
  },
  {
   "cell_type": "code",
   "execution_count": 59,
   "id": "1732f4db",
   "metadata": {},
   "outputs": [
    {
     "name": "stdout",
     "output_type": "stream",
     "text": [
      "+---------+----------+-------+-------+--------------------+\n",
      "|ICD9_CODE|SUBJECT_ID|HADM_ID|SEQ_NUM|          LONG_TITLE|\n",
      "+---------+----------+-------+-------+--------------------+\n",
      "|    40301|       109| 172335|      1|Hypertensive chro...|\n",
      "|      486|       109| 172335|      2|Pneumonia, organi...|\n",
      "|    58281|       109| 172335|      3|Chronic glomerulo...|\n",
      "|     5855|       109| 172335|      4|Chronic kidney di...|\n",
      "|     4254|       109| 172335|      5|Other primary car...|\n",
      "+---------+----------+-------+-------+--------------------+\n",
      "only showing top 5 rows\n",
      "\n"
     ]
    }
   ],
   "source": [
    "full_diagnosis_data.show(5)"
   ]
  },
  {
   "cell_type": "markdown",
   "id": "2bb5899a",
   "metadata": {},
   "source": [
    "Now join <b> PATIENT and DIAGNOSES </b> data"
   ]
  },
  {
   "cell_type": "code",
   "execution_count": 60,
   "id": "45fcda6b",
   "metadata": {},
   "outputs": [],
   "source": [
    "patients_full_info_df = patients_full_info_df.join(full_diagnosis_data, on=[\"SUBJECT_ID\",\"HADM_ID\"], how=\"left\")"
   ]
  },
  {
   "cell_type": "code",
   "execution_count": null,
   "id": "ec3a0d50",
   "metadata": {},
   "outputs": [
    {
     "name": "stdout",
     "output_type": "stream",
     "text": [
      "+----------+-------+----------+--------+--------------+-------------+------------+-----------+-------------------+-------------------+-----+-------------------+-------------------+-------------------+--------------+--------------------+------------------+---------+--------+--------+--------------+------------------+-------------------+-------------------+---------+--------------------+--------------------+------+-------------------+-------------------+-----------+---------+-------+--------------------+\n",
      "|SUBJECT_ID|HADM_ID|ICUSTAY_ID|DBSOURCE|FIRST_CAREUNIT|LAST_CAREUNIT|FIRST_WARDID|LAST_WARDID|             INTIME|            OUTTIME|  LOS|          ADMITTIME|          DISCHTIME|          DEATHTIME|ADMISSION_TYPE|  ADMISSION_LOCATION|DISCHARGE_LOCATION|INSURANCE|LANGUAGE|RELIGION|MARITAL_STATUS|         ETHNICITY|          EDREGTIME|          EDOUTTIME|DIAGNOSIS|HOSPITAL_EXPIRE_FLAG|HAS_CHARTEVENTS_DATA|GENDER|                DOB|                DOD|EXPIRE_FLAG|ICD9_CODE|SEQ_NUM|          LONG_TITLE|\n",
      "+----------+-------+----------+--------+--------------+-------------+------------+-----------+-------------------+-------------------+-----+-------------------+-------------------+-------------------+--------------+--------------------+------------------+---------+--------+--------+--------------+------------------+-------------------+-------------------+---------+--------------------+--------------------+------+-------------------+-------------------+-----------+---------+-------+--------------------+\n",
      "|       268| 110404|    280836| carevue|          MICU|         MICU|          52|         52|2198-02-14 23:27:38|2198-02-18 05:26:11|3.249|2198-02-11 13:40:00|2198-02-18 03:55:00|2198-02-18 03:55:00|     EMERGENCY|EMERGENCY ROOM ADMIT|      DEAD/EXPIRED| Medicare|    NULL|CATHOLIC|     SEPARATED|HISPANIC OR LATINO|2198-02-11 09:41:00|2198-02-11 15:18:00|  DYSPNEA|                   1|                   1|     F|2132-02-21 00:00:00|2198-02-18 00:00:00|          1|    48241|      1|Methicillin susce...|\n",
      "|       268| 110404|    280836| carevue|          MICU|         MICU|          52|         52|2198-02-14 23:27:38|2198-02-18 05:26:11|3.249|2198-02-11 13:40:00|2198-02-18 03:55:00|2198-02-18 03:55:00|     EMERGENCY|EMERGENCY ROOM ADMIT|      DEAD/EXPIRED| Medicare|    NULL|CATHOLIC|     SEPARATED|HISPANIC OR LATINO|2198-02-11 09:41:00|2198-02-11 15:18:00|  DYSPNEA|                   1|                   1|     F|2132-02-21 00:00:00|2198-02-18 00:00:00|          1|     4280|      2|Congestive heart ...|\n",
      "|       268| 110404|    280836| carevue|          MICU|         MICU|          52|         52|2198-02-14 23:27:38|2198-02-18 05:26:11|3.249|2198-02-11 13:40:00|2198-02-18 03:55:00|2198-02-18 03:55:00|     EMERGENCY|EMERGENCY ROOM ADMIT|      DEAD/EXPIRED| Medicare|    NULL|CATHOLIC|     SEPARATED|HISPANIC OR LATINO|2198-02-11 09:41:00|2198-02-11 15:18:00|  DYSPNEA|                   1|                   1|     F|2132-02-21 00:00:00|2198-02-18 00:00:00|          1|    51881|      3|Acute respiratory...|\n",
      "|       268| 110404|    280836| carevue|          MICU|         MICU|          52|         52|2198-02-14 23:27:38|2198-02-18 05:26:11|3.249|2198-02-11 13:40:00|2198-02-18 03:55:00|2198-02-18 03:55:00|     EMERGENCY|EMERGENCY ROOM ADMIT|      DEAD/EXPIRED| Medicare|    NULL|CATHOLIC|     SEPARATED|HISPANIC OR LATINO|2198-02-11 09:41:00|2198-02-11 15:18:00|  DYSPNEA|                   1|                   1|     F|2132-02-21 00:00:00|2198-02-18 00:00:00|          1|     5845|      4|Acute kidney fail...|\n",
      "|       268| 110404|    280836| carevue|          MICU|         MICU|          52|         52|2198-02-14 23:27:38|2198-02-18 05:26:11|3.249|2198-02-11 13:40:00|2198-02-18 03:55:00|2198-02-18 03:55:00|     EMERGENCY|EMERGENCY ROOM ADMIT|      DEAD/EXPIRED| Medicare|    NULL|CATHOLIC|     SEPARATED|HISPANIC OR LATINO|2198-02-11 09:41:00|2198-02-11 15:18:00|  DYSPNEA|                   1|                   1|     F|2132-02-21 00:00:00|2198-02-18 00:00:00|          1|     4275|      5|      Cardiac arrest|\n",
      "+----------+-------+----------+--------+--------------+-------------+------------+-----------+-------------------+-------------------+-----+-------------------+-------------------+-------------------+--------------+--------------------+------------------+---------+--------+--------+--------------+------------------+-------------------+-------------------+---------+--------------------+--------------------+------+-------------------+-------------------+-----------+---------+-------+--------------------+\n",
      "only showing top 5 rows\n",
      "\n"
     ]
    }
   ],
   "source": [
    "patients_full_info_df.show(5)"
   ]
  },
  {
   "cell_type": "code",
   "execution_count": 62,
   "id": "bbfdb376",
   "metadata": {},
   "outputs": [
    {
     "data": {
      "text/plain": [
       "705921"
      ]
     },
     "execution_count": 62,
     "metadata": {},
     "output_type": "execute_result"
    }
   ],
   "source": [
    "patients_full_info_df.count()"
   ]
  },
  {
   "cell_type": "code",
   "execution_count": 63,
   "id": "fd5697cb",
   "metadata": {},
   "outputs": [
    {
     "name": "stdout",
     "output_type": "stream",
     "text": [
      "Fixing duplicates by creating diagnosis features...\n",
      "Rows after creating diagnosis features: 61532\n"
     ]
    }
   ],
   "source": [
    "from pyspark.sql.functions import when, max as spark_max, col, count\n",
    "\n",
    "def fix_diagnosis_duplicates_with_features(patients_full_info_df):\n",
    "    \"\"\"\n",
    "    Create binary features for major diagnosis categories.\n",
    "    \"\"\"\n",
    "    print(\"Fixing duplicates by creating diagnosis features...\")\n",
    "    \n",
    "    # Get base data without diagnoses\n",
    "    base_cols = [col_name for col_name in patients_full_info_df.columns \n",
    "                 if col_name not in [\"ICD9_CODE\", \"LONG_TITLE\", \"SEQ_NUM\"]]\n",
    "    base_data = patients_full_info_df.select(*base_cols).distinct()\n",
    "    \n",
    "    # Create binary features for major diagnosis categories\n",
    "    diagnosis_features = patients_full_info_df.filter(col(\"ICD9_CODE\").isNotNull()) \\\n",
    "        .withColumn(\"has_cardiac\", \n",
    "                   when(col(\"LONG_TITLE\").rlike(\"(?i)(cardiac|heart|myocardial|coronary)\"), 1).otherwise(0)) \\\n",
    "        .withColumn(\"has_respiratory\", \n",
    "                   when(col(\"LONG_TITLE\").rlike(\"(?i)(respiratory|pneumonia|copd|lung)\"), 1).otherwise(0)) \\\n",
    "        .withColumn(\"has_renal\", \n",
    "                   when(col(\"LONG_TITLE\").rlike(\"(?i)(renal|kidney)\"), 1).otherwise(0)) \\\n",
    "        .withColumn(\"has_infectious\", \n",
    "                   when(col(\"LONG_TITLE\").rlike(\"(?i)(sepsis|septic|infection)\"), 1).otherwise(0)) \\\n",
    "        .withColumn(\"has_diabetes\", \n",
    "                   when(col(\"LONG_TITLE\").rlike(\"(?i)(diabetes|diabetic)\"), 1).otherwise(0)) \\\n",
    "        .withColumn(\"has_stroke\", \n",
    "                   when(col(\"LONG_TITLE\").rlike(\"(?i)(stroke|cerebral)\"), 1).otherwise(0)) \\\n",
    "        .withColumn(\"has_trauma\", \n",
    "                   when(col(\"LONG_TITLE\").rlike(\"(?i)(trauma|fracture|injury)\"), 1).otherwise(0)) \\\n",
    "        .groupBy(\"ICUSTAY_ID\") \\\n",
    "        .agg(\n",
    "            spark_max(\"has_cardiac\").alias(\"has_cardiac\"),\n",
    "            spark_max(\"has_respiratory\").alias(\"has_respiratory\"), \n",
    "            spark_max(\"has_renal\").alias(\"has_renal\"),\n",
    "            spark_max(\"has_infectious\").alias(\"has_infectious\"),\n",
    "            spark_max(\"has_diabetes\").alias(\"has_diabetes\"),\n",
    "            spark_max(\"has_stroke\").alias(\"has_stroke\"),\n",
    "            spark_max(\"has_trauma\").alias(\"has_trauma\"),\n",
    "            count(\"ICD9_CODE\").alias(\"total_diagnoses\")\n",
    "        )\n",
    "    \n",
    "    # Join with base data\n",
    "    result = base_data.join(diagnosis_features, on=\"ICUSTAY_ID\", how=\"left\")\n",
    "    \n",
    "    print(f\"Rows after creating diagnosis features: {result.count()}\")\n",
    "    return result\n",
    "\n",
    "# Apply the fix\n",
    "patients_full_info_fixed = fix_diagnosis_duplicates_with_features(patients_full_info_df)"
   ]
  },
  {
   "cell_type": "code",
   "execution_count": 64,
   "id": "be8348de",
   "metadata": {},
   "outputs": [
    {
     "name": "stdout",
     "output_type": "stream",
     "text": [
      "+----------+----------+-------+----------+--------------+-------------+------------+-----------+-------------------+-------------------+-------+-------------------+-------------------+-------------------+--------------+--------------------+------------------+---------+--------+-------------+--------------+--------------------+-------------------+-------------------+--------------------+--------------------+--------------------+------+-------------------+-------------------+-----------+-----------+---------------+---------+--------------+------------+----------+----------+---------------+\n",
      "|ICUSTAY_ID|SUBJECT_ID|HADM_ID|  DBSOURCE|FIRST_CAREUNIT|LAST_CAREUNIT|FIRST_WARDID|LAST_WARDID|             INTIME|            OUTTIME|    LOS|          ADMITTIME|          DISCHTIME|          DEATHTIME|ADMISSION_TYPE|  ADMISSION_LOCATION|DISCHARGE_LOCATION|INSURANCE|LANGUAGE|     RELIGION|MARITAL_STATUS|           ETHNICITY|          EDREGTIME|          EDOUTTIME|           DIAGNOSIS|HOSPITAL_EXPIRE_FLAG|HAS_CHARTEVENTS_DATA|GENDER|                DOB|                DOD|EXPIRE_FLAG|has_cardiac|has_respiratory|has_renal|has_infectious|has_diabetes|has_stroke|has_trauma|total_diagnoses|\n",
      "+----------+----------+-------+----------+--------------+-------------+------------+-----------+-------------------+-------------------+-------+-------------------+-------------------+-------------------+--------------+--------------------+------------------+---------+--------+-------------+--------------+--------------------+-------------------+-------------------+--------------------+--------------------+--------------------+------+-------------------+-------------------+-----------+-----------+---------------+---------+--------------+------------+----------+----------+---------------+\n",
      "|    244615|      4962| 128158|metavision|          MICU|         MICU|          23|         23|2145-12-28 20:40:37|2146-01-17 05:12:14|19.3553|2145-12-28 20:39:00|2146-01-17 01:52:00|2146-01-17 01:52:00|     EMERGENCY|EMERGENCY ROOM ADMIT|      DEAD/EXPIRED| Medicare|    ENGL|NOT SPECIFIED|        SINGLE|BLACK/AFRICAN AME...|2145-12-28 17:24:00|2145-12-28 23:01:00|GASTROINTESTINAL ...|                   1|                   1|     M|2088-09-20 00:00:00|2146-01-17 00:00:00|          1|          0|              1|        1|             1|           0|         0|         0|             16|\n",
      "|    208309|      3400| 111651|   carevue|          SICU|         MICU|          33|         52|2167-11-05 21:28:13|2167-11-09 06:09:24| 3.3619|2167-11-05 21:27:00|2167-11-09 03:15:00|2167-11-09 03:15:00|     EMERGENCY|EMERGENCY ROOM ADMIT|      DEAD/EXPIRED| Medicare|    RUSS| UNOBTAINABLE|       MARRIED|               WHITE|2167-11-05 15:25:00|2167-11-06 00:36:00|              SEPTIC|                   1|                   1|     F|2087-03-14 00:00:00|2167-11-09 00:00:00|          1|          1|              1|        1|             1|           0|         0|         0|             18|\n",
      "|    277885|      5544| 174069|metavision|           CCU|          CCU|           7|          7|2124-02-12 01:47:40|2124-02-15 09:40:54| 3.3286|2124-02-12 01:47:00|2124-02-16 03:57:00|2124-02-16 03:57:00|     EMERGENCY|CLINIC REFERRAL/P...|      DEAD/EXPIRED| Medicare|    ENGL|NOT SPECIFIED|       MARRIED|               WHITE|2124-02-12 01:16:00|2124-02-12 03:14:00|CONGESTIVE HEART ...|                   1|                   1|     M|2047-10-15 00:00:00|2124-02-16 00:00:00|          1|          1|              0|        1|             0|           1|         0|         0|             19|\n",
      "|    293734|      4954| 158018|metavision|          MICU|         MICU|          50|         50|2153-01-16 08:44:54|2153-01-19 06:18:29| 2.8983|2153-01-16 08:43:00|2153-01-19 04:55:00|2153-01-19 04:55:00|     EMERGENCY|EMERGENCY ROOM ADMIT|      DEAD/EXPIRED|  Private|    ENGL|     CATHOLIC|       MARRIED|               WHITE|2153-01-16 06:36:00|2153-01-16 10:07:00|     DYSPNEA;HYPOXIA|                   1|                   1|     F|2088-09-16 00:00:00|2153-01-19 00:00:00|          1|          0|              1|        1|             0|           0|         0|         0|              8|\n",
      "|    257944|      1544| 175858|metavision|          MICU|         MICU|          52|         52|2164-02-24 04:09:03|2164-02-25 01:52:38| 0.9053|2164-02-24 04:08:00|2164-02-25 03:00:00|2164-02-25 03:00:00|     EMERGENCY|EMERGENCY ROOM ADMIT|      DEAD/EXPIRED| Medicare|    ENGL|     CATHOLIC|      DIVORCED|               WHITE|2164-02-23 19:36:00|2164-02-24 05:44:00|              SEPSIS|                   1|                   1|     M|2115-12-01 00:00:00|2164-02-25 00:00:00|          1|          0|              1|        1|             1|           1|         0|         0|             11|\n",
      "+----------+----------+-------+----------+--------------+-------------+------------+-----------+-------------------+-------------------+-------+-------------------+-------------------+-------------------+--------------+--------------------+------------------+---------+--------+-------------+--------------+--------------------+-------------------+-------------------+--------------------+--------------------+--------------------+------+-------------------+-------------------+-----------+-----------+---------------+---------+--------------+------------+----------+----------+---------------+\n",
      "only showing top 5 rows\n",
      "\n"
     ]
    },
    {
     "name": "stderr",
     "output_type": "stream",
     "text": [
      "                                                                                \r"
     ]
    }
   ],
   "source": [
    "patients_full_info_fixed.show(5)"
   ]
  },
  {
   "cell_type": "code",
   "execution_count": 25,
   "id": "6b20870a",
   "metadata": {},
   "outputs": [
    {
     "name": "stdout",
     "output_type": "stream",
     "text": [
      "+----------+-------+----------+------+-------------------+-------------------+-----+-----+--------+--------+-------+-----+------------+-------+\n",
      "|SUBJECT_ID|HADM_ID|ICUSTAY_ID|ITEMID|          CHARTTIME|          STORETIME| CGID|VALUE|VALUENUM|VALUEUOM|WARNING|ERROR|RESULTSTATUS|STOPPED|\n",
      "+----------+-------+----------+------+-------------------+-------------------+-----+-----+--------+--------+-------+-----+------------+-------+\n",
      "|        36| 165660|    241249|223834|2134-05-12 12:00:00|2134-05-12 13:56:00|17525|   15|    15.0|   L/min|      0|    0|        NULL|   NULL|\n",
      "|        36| 165660|    241249|223835|2134-05-12 12:00:00|2134-05-12 13:56:00|17525|  100|   100.0|    NULL|      0|    0|        NULL|   NULL|\n",
      "|        36| 165660|    241249|224328|2134-05-12 12:00:00|2134-05-12 12:18:00|20823|  .37|    0.37|    NULL|      0|    0|        NULL|   NULL|\n",
      "|        36| 165660|    241249|224329|2134-05-12 12:00:00|2134-05-12 12:19:00|20823|    6|     6.0|     min|      0|    0|        NULL|   NULL|\n",
      "|        36| 165660|    241249|224330|2134-05-12 12:00:00|2134-05-12 12:19:00|20823|  2.5|     2.5|    NULL|      0|    0|        NULL|   NULL|\n",
      "+----------+-------+----------+------+-------------------+-------------------+-----+-----+--------+--------+-------+-----+------------+-------+\n",
      "only showing top 5 rows\n",
      "\n"
     ]
    }
   ],
   "source": [
    "chart_events_df.show(5)"
   ]
  },
  {
   "cell_type": "markdown",
   "id": "cf34ac3f",
   "metadata": {},
   "source": [
    "<b> CHART EVENTS and D_ITEMS join </b>"
   ]
  },
  {
   "cell_type": "code",
   "execution_count": 66,
   "id": "8b883839",
   "metadata": {},
   "outputs": [
    {
     "name": "stdout",
     "output_type": "stream",
     "text": [
      "+----------+-------+----------+------+-------------------+-------------------+-----+-----+--------+--------+-------+-----+------------+-------+\n",
      "|SUBJECT_ID|HADM_ID|ICUSTAY_ID|ITEMID|          CHARTTIME|          STORETIME| CGID|VALUE|VALUENUM|VALUEUOM|WARNING|ERROR|RESULTSTATUS|STOPPED|\n",
      "+----------+-------+----------+------+-------------------+-------------------+-----+-----+--------+--------+-------+-----+------------+-------+\n",
      "|        36| 165660|    241249|223834|2134-05-12 12:00:00|2134-05-12 13:56:00|17525|   15|    15.0|   L/min|      0|    0|        NULL|   NULL|\n",
      "|        36| 165660|    241249|223835|2134-05-12 12:00:00|2134-05-12 13:56:00|17525|  100|   100.0|    NULL|      0|    0|        NULL|   NULL|\n",
      "|        36| 165660|    241249|224328|2134-05-12 12:00:00|2134-05-12 12:18:00|20823|  .37|    0.37|    NULL|      0|    0|        NULL|   NULL|\n",
      "|        36| 165660|    241249|224329|2134-05-12 12:00:00|2134-05-12 12:19:00|20823|    6|     6.0|     min|      0|    0|        NULL|   NULL|\n",
      "|        36| 165660|    241249|224330|2134-05-12 12:00:00|2134-05-12 12:19:00|20823|  2.5|     2.5|    NULL|      0|    0|        NULL|   NULL|\n",
      "+----------+-------+----------+------+-------------------+-------------------+-----+-----+--------+--------+-------+-----+------------+-------+\n",
      "only showing top 5 rows\n",
      "\n"
     ]
    }
   ],
   "source": [
    "chart_events_df.show(5)"
   ]
  },
  {
   "cell_type": "code",
   "execution_count": 67,
   "id": "4e34e7ee",
   "metadata": {},
   "outputs": [
    {
     "name": "stdout",
     "output_type": "stream",
     "text": [
      "+------+--------------------+------------+--------+-----------+--------+--------+----------+---------+\n",
      "|ITEMID|               LABEL|ABBREVIATION|DBSOURCE|    LINKSTO|CATEGORY|UNITNAME|PARAM_TYPE|CONCEPTID|\n",
      "+------+--------------------+------------+--------+-----------+--------+--------+----------+---------+\n",
      "|   497|Patient controlle...|        NULL| carevue|chartevents|    NULL|    NULL|      NULL|     NULL|\n",
      "|   498|   PCA Lockout (Min)|        NULL| carevue|chartevents|    NULL|    NULL|      NULL|     NULL|\n",
      "|   499|      PCA Medication|        NULL| carevue|chartevents|    NULL|    NULL|      NULL|     NULL|\n",
      "|   500|      PCA Total Dose|        NULL| carevue|chartevents|    NULL|    NULL|      NULL|     NULL|\n",
      "|   501|  PCV Exh Vt (Obser)|        NULL| carevue|chartevents|    NULL|    NULL|      NULL|     NULL|\n",
      "+------+--------------------+------------+--------+-----------+--------+--------+----------+---------+\n",
      "only showing top 5 rows\n",
      "\n"
     ]
    }
   ],
   "source": [
    "d_items_df.show(5)"
   ]
  },
  {
   "cell_type": "code",
   "execution_count": 68,
   "id": "382d0ed6",
   "metadata": {},
   "outputs": [],
   "source": [
    "chartevents_item_d_items = chart_events_df.join(d_items_df, on=[\"ITEMID\"], how=\"left\")"
   ]
  },
  {
   "cell_type": "code",
   "execution_count": 69,
   "id": "3f6fcd22",
   "metadata": {},
   "outputs": [
    {
     "name": "stdout",
     "output_type": "stream",
     "text": [
      "+------+----------+-------+----------+-------------------+-------------------+-----+-----+--------+--------+-------+-----+------------+-------+--------------------+-----------------+----------+-----------+-------------+--------+----------+---------+\n",
      "|ITEMID|SUBJECT_ID|HADM_ID|ICUSTAY_ID|          CHARTTIME|          STORETIME| CGID|VALUE|VALUENUM|VALUEUOM|WARNING|ERROR|RESULTSTATUS|STOPPED|               LABEL|     ABBREVIATION|  DBSOURCE|    LINKSTO|     CATEGORY|UNITNAME|PARAM_TYPE|CONCEPTID|\n",
      "+------+----------+-------+----------+-------------------+-------------------+-----+-----+--------+--------+-------+-----+------------+-------+--------------------+-----------------+----------+-----------+-------------+--------+----------+---------+\n",
      "|223834|        36| 165660|    241249|2134-05-12 12:00:00|2134-05-12 13:56:00|17525|   15|    15.0|   L/min|      0|    0|        NULL|   NULL|             O2 Flow|          O2 Flow|metavision|chartevents|  Respiratory|   L/min|   Numeric|     NULL|\n",
      "|223835|        36| 165660|    241249|2134-05-12 12:00:00|2134-05-12 13:56:00|17525|  100|   100.0|    NULL|      0|    0|        NULL|   NULL|Inspired O2 Fraction|             FiO2|metavision|chartevents|  Respiratory|    None|   Numeric|     NULL|\n",
      "|224328|        36| 165660|    241249|2134-05-12 12:00:00|2134-05-12 12:18:00|20823|  .37|    0.37|    NULL|      0|    0|        NULL|   NULL|            PCA dose|         PCA dose|metavision|chartevents|Pain/Sedation|    None|   Numeric|     NULL|\n",
      "|224329|        36| 165660|    241249|2134-05-12 12:00:00|2134-05-12 12:19:00|20823|    6|     6.0|     min|      0|    0|        NULL|   NULL|   PCA lockout (min)|PCA lockout (min)|metavision|chartevents|Pain/Sedation|     min|   Numeric|     NULL|\n",
      "|224330|        36| 165660|    241249|2134-05-12 12:00:00|2134-05-12 12:19:00|20823|  2.5|     2.5|    NULL|      0|    0|        NULL|   NULL|    PCA 1 hour limit| PCA 1 hour limit|metavision|chartevents|Pain/Sedation|    None|   Numeric|     NULL|\n",
      "+------+----------+-------+----------+-------------------+-------------------+-----+-----+--------+--------+-------+-----+------------+-------+--------------------+-----------------+----------+-----------+-------------+--------+----------+---------+\n",
      "only showing top 5 rows\n",
      "\n"
     ]
    }
   ],
   "source": [
    "chartevents_item_d_items.show(5)"
   ]
  },
  {
   "cell_type": "markdown",
   "id": "997f4323",
   "metadata": {},
   "source": [
    "<b> Notas: </b>\n",
    "\n",
    "* Okay haver várias entradas na ICU para 1 mesmo paciente\n",
    "\n",
    "* Corrigir vários diagnósticos para mesma entrada na ICU:\n",
    "    * dividir em várias features os diagnóticos (dividir por tipo de diagnóstico para  a mesma entrada ICU)\n",
    "    * usar o diagnóstico principal (SEQ_NUM = 1)\n",
    "\n",
    "* Ao juntar CHART_EVENTS com D_ITEMS:\n",
    "    * Provavelmente mais útil usar 1 só database (dbsource - CareVue or Metavision), porque há medições dos mesmos sinais vitais nas duas bases de dados\n",
    "        * Ver qual apresenta mais medições (volume de dados)\n"
   ]
  },
  {
   "cell_type": "markdown",
   "id": "f1ddedb0",
   "metadata": {},
   "source": []
  }
 ],
 "metadata": {
  "kernelspec": {
   "display_name": "venv",
   "language": "python",
   "name": "python3"
  },
  "language_info": {
   "codemirror_mode": {
    "name": "ipython",
    "version": 3
   },
   "file_extension": ".py",
   "mimetype": "text/x-python",
   "name": "python",
   "nbconvert_exporter": "python",
   "pygments_lexer": "ipython3",
   "version": "3.12.8"
  }
 },
 "nbformat": 4,
 "nbformat_minor": 5
}
