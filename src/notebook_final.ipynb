{
 "cells": [
  {
   "cell_type": "markdown",
   "id": "422b6e3e",
   "metadata": {},
   "source": [
    "#### <b> Introduction </b>\n",
    "\n",
    "The aim of this goal is to an end-to-end Machine Learning pipeline to predict the Length Of Stay (LOS) using the MIMIC-III dataset\n"
   ]
  },
  {
   "cell_type": "code",
   "execution_count": 1,
   "id": "bd88d367",
   "metadata": {},
   "outputs": [],
   "source": [
    "import xgboost as xgb"
   ]
  },
  {
   "cell_type": "markdown",
   "id": "a73cf24c",
   "metadata": {},
   "source": [
    "### <b> PySpark vs GCP </b>"
   ]
  },
  {
   "cell_type": "code",
   "execution_count": 17,
   "id": "88e8e871",
   "metadata": {},
   "outputs": [],
   "source": [
    "from pyspark.sql import SparkSession\n",
    "from pyspark.sql.functions import col, expr, when, datediff, hour, minute, count, avg, stddev, min, max, desc, countDistinct, sum as spark_sum, max as spark_max\n",
    "import os\n",
    "import time\n",
    "import matplotlib.pyplot as plt\n",
    "import psutil"
   ]
  },
  {
   "cell_type": "markdown",
   "id": "c1716e25",
   "metadata": {},
   "source": []
  },
  {
   "cell_type": "markdown",
   "id": "6ab49027",
   "metadata": {},
   "source": [
    "#### <b> PySpark </b>"
   ]
  },
  {
   "cell_type": "code",
   "execution_count": 18,
   "id": "65b9a84e",
   "metadata": {},
   "outputs": [
    {
     "name": "stdout",
     "output_type": "stream",
     "text": [
      "Total memory: 18.00 GB\n",
      "Available memory: 6.38 GB\n"
     ]
    }
   ],
   "source": [
    "# Print your system's available memory\n",
    "mem_info = psutil.virtual_memory()\n",
    "print(f\"Total memory: {mem_info.total / (1024**3):.2f} GB\")\n",
    "print(f\"Available memory: {mem_info.available / (1024**3):.2f} GB\")"
   ]
  },
  {
   "cell_type": "markdown",
   "id": "d0971295",
   "metadata": {},
   "source": [
    "#### <b> Spark and CSV data loading functions </b>"
   ]
  },
  {
   "cell_type": "code",
   "execution_count": 19,
   "id": "0e9d9c6e",
   "metadata": {},
   "outputs": [],
   "source": [
    "# spark.driver.memory: Used by the main program that orchestrates tasks (Stores task results, coordinates actions, loads final DataFrames)\n",
    "# spark.executor.memory: Used by worker processes that execute individual tasks (Data processing, transformations, aggregations, shuffling)\n",
    "# spark.driver.maxResultSize: limits the total size of serialized results that can be returned to the driver from all partitions in a single Spark operation\n",
    "def initialize_spark():\n",
    "    '''\n",
    "    Description: Initialize Spark Session\n",
    "\n",
    "    Arguments: \n",
    "        -None\n",
    "    Output: \n",
    "        -Spark session\n",
    "    '''\n",
    "    spark = SparkSession.builder \\\n",
    "                        .appName(\"MIMIC-III LOS Prediction\") \\\n",
    "                        .config(\"spark.driver.memory\", \"12g\") \\\n",
    "                        .config(\"spark.executor.memory\", \"12g\") \\\n",
    "                        .config(\"spark.driver.maxResultSize\", \"6g\") \\\n",
    "                        .getOrCreate()\n",
    "\n",
    "    # Check initialization\n",
    "    print(\"Success! Spark is working.\")\n",
    "    print(f\"Spark version: {spark.version}\\n\")\n",
    "\n",
    "    return spark\n",
    "\n",
    "def load_csv_table(spark, csv_dir, table_name):\n",
    "    \"\"\"Load a CSV table with performance timing.\"\"\"\n",
    "    csv_path = os.path.join(csv_dir, f\"{table_name.upper()}.csv\")\n",
    "    \n",
    "    print(f\"Loading {table_name} from CSV...\")\n",
    "    start_time = time.time()\n",
    "    \n",
    "    \n",
    "    df = spark.read.csv(csv_path, header=True, inferSchema=True)\n",
    "    df = df.drop(\"ROW_ID\")\n",
    "    \n",
    "    # Force action to measure full load time\n",
    "    count = df.count()\n",
    "    end_time = time.time()\n",
    "    \n",
    "    print(f\"Loaded {table_name}: {count} rows in {end_time - start_time:.2f} seconds\")\n",
    "    return df"
   ]
  },
  {
   "cell_type": "code",
   "execution_count": 20,
   "id": "cdbd5fa9",
   "metadata": {},
   "outputs": [
    {
     "name": "stdout",
     "output_type": "stream",
     "text": [
      "Success! Spark is working.\n",
      "Spark version: 3.5.5\n",
      "\n",
      "Loading admissions from CSV...\n",
      "Loaded admissions: 58976 rows in 0.33 seconds\n",
      "\n",
      "\n",
      "Loading callout from CSV...\n",
      "Loaded callout: 34499 rows in 0.24 seconds\n",
      "\n",
      "\n",
      "Loading chartevents from CSV...\n"
     ]
    },
    {
     "name": "stderr",
     "output_type": "stream",
     "text": [
      "                                                                                \r"
     ]
    },
    {
     "name": "stdout",
     "output_type": "stream",
     "text": [
      "Loaded chartevents: 330712483 rows in 87.03 seconds\n",
      "\n",
      "\n",
      "Loading d_icd_diagnoses from CSV...\n",
      "Loaded d_icd_diagnoses: 14567 rows in 0.08 seconds\n",
      "\n",
      "\n",
      "Loading d_items from CSV...\n",
      "Loaded d_items: 12487 rows in 0.09 seconds\n",
      "\n",
      "\n",
      "Loading diagnoses_icd from CSV...\n",
      "Loaded diagnoses_icd: 651047 rows in 0.21 seconds\n",
      "\n",
      "\n",
      "Loading icustays from CSV...\n",
      "Loaded icustays: 61532 rows in 0.15 seconds\n",
      "\n",
      "\n",
      "Loading patients from CSV...\n",
      "Loaded patients: 46520 rows in 0.13 seconds\n",
      "\n",
      "\n",
      "Loading services from CSV...\n",
      "Loaded services: 73343 rows in 0.13 seconds\n",
      "\n",
      "\n",
      "Total loading time: 88.40759181976318\n"
     ]
    }
   ],
   "source": [
    "spark = initialize_spark()\n",
    "\n",
    "init_time = time.time()\n",
    "\n",
    "# Load tables\n",
    "admissions_df = load_csv_table(spark, \"../data/raw\", \"admissions\")\n",
    "print(\"\\n\")\n",
    "callout_df = load_csv_table(spark, \"../data/raw\", \"callout\")\n",
    "print(\"\\n\")\n",
    "chart_events_df = load_csv_table(spark, \"../data/raw\", \"chartevents\")\n",
    "print(\"\\n\")\n",
    "d_icd_diagnoses = load_csv_table(spark, \"../data/raw\", \"d_icd_diagnoses\")\n",
    "print(\"\\n\")\n",
    "d_items_df = load_csv_table(spark, \"../data/raw\", \"d_items\")\n",
    "print(\"\\n\")\n",
    "diagnoses_icd_df = load_csv_table(spark, \"../data/raw\", \"diagnoses_icd\")\n",
    "print(\"\\n\")\n",
    "icustays_df = load_csv_table(spark, \"../data/raw\", \"icustays\")\n",
    "print(\"\\n\")\n",
    "patients_df = load_csv_table(spark, \"../data/raw\", \"patients\")\n",
    "print(\"\\n\")\n",
    "services_df = load_csv_table(spark, \"../data/raw\", \"services\")\n",
    "print(\"\\n\")\n",
    "\n",
    "final_time = time.time() - init_time\n",
    "\n",
    "print(f\"Total loading time: {final_time}\")"
   ]
  },
  {
   "cell_type": "markdown",
   "id": "38c93c01",
   "metadata": {},
   "source": [
    "#### <b> Join  ICUSTAYS and ADMISSIONS </b>\n",
    "* Get relevant information from patients that were admitted to the ICU when they went to the hospital, and exclude those that didn't"
   ]
  },
  {
   "cell_type": "code",
   "execution_count": 21,
   "id": "3da52100",
   "metadata": {},
   "outputs": [],
   "source": [
    "new_icustays_df = icustays_df.join(admissions_df, on=[\"SUBJECT_ID\", \"HADM_ID\"], how=\"left\") "
   ]
  },
  {
   "cell_type": "markdown",
   "id": "faa20b04",
   "metadata": {},
   "source": [
    "#### Join <b> new ICU data with the PATIENTS info </b>"
   ]
  },
  {
   "cell_type": "code",
   "execution_count": 22,
   "id": "903f9aaa",
   "metadata": {},
   "outputs": [],
   "source": [
    "patients_full_info_df = new_icustays_df.join(patients_df, on=\"SUBJECT_ID\", how=\"left\")"
   ]
  },
  {
   "cell_type": "code",
   "execution_count": 23,
   "id": "d8f17c97",
   "metadata": {},
   "outputs": [
    {
     "name": "stdout",
     "output_type": "stream",
     "text": [
      "+----------+-------+----------+----------+--------------+-------------+------------+-----------+-------------------+-------------------+------+-------------------+-------------------+-------------------+--------------+--------------------+--------------------+---------+--------+-----------------+--------------+--------------------+-------------------+-------------------+--------------------+--------------------+--------------------+------+-------------------+-------------------+-------------------+-------------------+-----------+\n",
      "|SUBJECT_ID|HADM_ID|ICUSTAY_ID|  DBSOURCE|FIRST_CAREUNIT|LAST_CAREUNIT|FIRST_WARDID|LAST_WARDID|             INTIME|            OUTTIME|   LOS|          ADMITTIME|          DISCHTIME|          DEATHTIME|ADMISSION_TYPE|  ADMISSION_LOCATION|  DISCHARGE_LOCATION|INSURANCE|LANGUAGE|         RELIGION|MARITAL_STATUS|           ETHNICITY|          EDREGTIME|          EDOUTTIME|           DIAGNOSIS|HOSPITAL_EXPIRE_FLAG|HAS_CHARTEVENTS_DATA|GENDER|                DOB|                DOD|           DOD_HOSP|            DOD_SSN|EXPIRE_FLAG|\n",
      "+----------+-------+----------+----------+--------------+-------------+------------+-----------+-------------------+-------------------+------+-------------------+-------------------+-------------------+--------------+--------------------+--------------------+---------+--------+-----------------+--------------+--------------------+-------------------+-------------------+--------------------+--------------------+--------------------+------+-------------------+-------------------+-------------------+-------------------+-----------+\n",
      "|       268| 110404|    280836|   carevue|          MICU|         MICU|          52|         52|2198-02-14 23:27:38|2198-02-18 05:26:11| 3.249|2198-02-11 13:40:00|2198-02-18 03:55:00|2198-02-18 03:55:00|     EMERGENCY|EMERGENCY ROOM ADMIT|        DEAD/EXPIRED| Medicare|    NULL|         CATHOLIC|     SEPARATED|  HISPANIC OR LATINO|2198-02-11 09:41:00|2198-02-11 15:18:00|             DYSPNEA|                   1|                   1|     F|2132-02-21 00:00:00|2198-02-18 00:00:00|2198-02-18 00:00:00|               NULL|          1|\n",
      "|     42968| 191455|    268065|metavision|          SICU|         SICU|          57|         57|2107-05-01 15:24:02|2107-05-02 17:11:39|1.0747|2107-05-01 15:23:00|2107-05-05 14:30:00|               NULL|     EMERGENCY|CLINIC REFERRAL/P...|REHAB/DISTINCT PA...| Medicare|    ENGL|    NOT SPECIFIED|       MARRIED|               WHITE|2107-05-01 13:35:00|2107-05-01 16:00:00|          STROKE/TIA|                   0|                   1|     M|2025-09-10 00:00:00|               NULL|               NULL|               NULL|          0|\n",
      "|       271| 173727|    249196|   carevue|          MICU|         SICU|          52|         23|2120-08-07 23:12:42|2120-08-10 00:39:04|  2.06|2120-08-07 18:56:00|2120-08-20 16:00:00|               NULL|     EMERGENCY|TRANSFER FROM HOS...|                HOME|  Private|    ENGL|    NOT SPECIFIED|       MARRIED|PATIENT DECLINED ...|               NULL|               NULL|GALLSTONE PANCREA...|                   0|                   1|     F|2074-11-30 00:00:00|               NULL|               NULL|               NULL|          0|\n",
      "|     42970| 188939|    234882|metavision|           CCU|          CCU|           7|          7|2149-04-01 13:12:42|2149-04-03 15:51:58|2.1106|2149-04-01 13:12:00|2149-04-04 15:52:00|               NULL|      ELECTIVE|PHYS REFERRAL/NOR...|                HOME| Medicare|    ENGL|PROTESTANT QUAKER|       WIDOWED|               WHITE|               NULL|               NULL|CORONARY ARTERY D...|                   0|                   1|     F|2067-02-28 00:00:00|2149-09-18 00:00:00|2149-09-18 00:00:00|2149-09-18 00:00:00|          1|\n",
      "|     42965| 198665|    265815|metavision|          CSRU|         CSRU|          12|         12|2102-03-27 09:44:51|2102-03-30 12:14:23|3.1038|2102-03-27 07:15:00|2102-04-02 16:36:00|               NULL|      ELECTIVE|PHYS REFERRAL/NOR...|    HOME HEALTH CARE|  Private|    ENGL|    NOT SPECIFIED|       MARRIED|               WHITE|               NULL|               NULL|AORTIC STENOSIS\\A...|                   0|                   1|     F|2037-08-26 00:00:00|               NULL|               NULL|               NULL|          0|\n",
      "+----------+-------+----------+----------+--------------+-------------+------------+-----------+-------------------+-------------------+------+-------------------+-------------------+-------------------+--------------+--------------------+--------------------+---------+--------+-----------------+--------------+--------------------+-------------------+-------------------+--------------------+--------------------+--------------------+------+-------------------+-------------------+-------------------+-------------------+-----------+\n",
      "only showing top 5 rows\n",
      "\n"
     ]
    }
   ],
   "source": [
    "patients_full_info_df.show(5)"
   ]
  },
  {
   "cell_type": "code",
   "execution_count": 24,
   "id": "5c797873",
   "metadata": {},
   "outputs": [
    {
     "name": "stdout",
     "output_type": "stream",
     "text": [
      "ICUSTAYS count: 61532\n",
      "After joining ADMISSIONS: 61532\n",
      "After joining PATIENTS: 61532\n"
     ]
    }
   ],
   "source": [
    "# Check if row counts are the same\n",
    "print(f\"ICUSTAYS count: {icustays_df.count()}\")\n",
    "print(f\"After joining ADMISSIONS: {new_icustays_df.count()}\")\n",
    "print(f\"After joining PATIENTS: {patients_full_info_df.count()}\")\n"
   ]
  },
  {
   "cell_type": "markdown",
   "id": "15243a12",
   "metadata": {},
   "source": [
    "<b> Join DIAGNOSES and D_ICD_DIAGNOSES tables </b>\n",
    "* Get diagnoses descriptions based on the ICD9 code"
   ]
  },
  {
   "cell_type": "code",
   "execution_count": 25,
   "id": "9feb72d2",
   "metadata": {},
   "outputs": [],
   "source": [
    "full_diagnosis_data = diagnoses_icd_df.join(d_icd_diagnoses, on=\"ICD9_CODE\", how=\"left\")\n",
    "full_diagnosis_data = full_diagnosis_data.drop(\"SHORT_TITLE\")"
   ]
  },
  {
   "cell_type": "code",
   "execution_count": 26,
   "id": "6ede5b55",
   "metadata": {},
   "outputs": [
    {
     "name": "stdout",
     "output_type": "stream",
     "text": [
      "+---------+----------+-------+-------+--------------------+\n",
      "|ICD9_CODE|SUBJECT_ID|HADM_ID|SEQ_NUM|          LONG_TITLE|\n",
      "+---------+----------+-------+-------+--------------------+\n",
      "|    40301|       109| 172335|      1|Hypertensive chro...|\n",
      "|      486|       109| 172335|      2|Pneumonia, organi...|\n",
      "|    58281|       109| 172335|      3|Chronic glomerulo...|\n",
      "|     5855|       109| 172335|      4|Chronic kidney di...|\n",
      "|     4254|       109| 172335|      5|Other primary car...|\n",
      "+---------+----------+-------+-------+--------------------+\n",
      "only showing top 5 rows\n",
      "\n"
     ]
    }
   ],
   "source": [
    "full_diagnosis_data.show(5)"
   ]
  },
  {
   "cell_type": "markdown",
   "id": "e9fdd147",
   "metadata": {},
   "source": [
    "#### <b> Join PATIENT and DIAGNOSES data </b> "
   ]
  },
  {
   "cell_type": "code",
   "execution_count": 27,
   "id": "70467fe9",
   "metadata": {},
   "outputs": [],
   "source": [
    "patients_full_info_df = patients_full_info_df.join(full_diagnosis_data, on=[\"SUBJECT_ID\",\"HADM_ID\"], how=\"left\")"
   ]
  },
  {
   "cell_type": "code",
   "execution_count": 28,
   "id": "83699b44",
   "metadata": {},
   "outputs": [
    {
     "name": "stdout",
     "output_type": "stream",
     "text": [
      "+----------+-------+----------+--------+--------------+-------------+------------+-----------+-------------------+-------------------+-----+-------------------+-------------------+-------------------+--------------+--------------------+------------------+---------+--------+--------+--------------+------------------+-------------------+-------------------+---------+--------------------+--------------------+------+-------------------+-------------------+-------------------+-------+-----------+---------+-------+--------------------+\n",
      "|SUBJECT_ID|HADM_ID|ICUSTAY_ID|DBSOURCE|FIRST_CAREUNIT|LAST_CAREUNIT|FIRST_WARDID|LAST_WARDID|             INTIME|            OUTTIME|  LOS|          ADMITTIME|          DISCHTIME|          DEATHTIME|ADMISSION_TYPE|  ADMISSION_LOCATION|DISCHARGE_LOCATION|INSURANCE|LANGUAGE|RELIGION|MARITAL_STATUS|         ETHNICITY|          EDREGTIME|          EDOUTTIME|DIAGNOSIS|HOSPITAL_EXPIRE_FLAG|HAS_CHARTEVENTS_DATA|GENDER|                DOB|                DOD|           DOD_HOSP|DOD_SSN|EXPIRE_FLAG|ICD9_CODE|SEQ_NUM|          LONG_TITLE|\n",
      "+----------+-------+----------+--------+--------------+-------------+------------+-----------+-------------------+-------------------+-----+-------------------+-------------------+-------------------+--------------+--------------------+------------------+---------+--------+--------+--------------+------------------+-------------------+-------------------+---------+--------------------+--------------------+------+-------------------+-------------------+-------------------+-------+-----------+---------+-------+--------------------+\n",
      "|       268| 110404|    280836| carevue|          MICU|         MICU|          52|         52|2198-02-14 23:27:38|2198-02-18 05:26:11|3.249|2198-02-11 13:40:00|2198-02-18 03:55:00|2198-02-18 03:55:00|     EMERGENCY|EMERGENCY ROOM ADMIT|      DEAD/EXPIRED| Medicare|    NULL|CATHOLIC|     SEPARATED|HISPANIC OR LATINO|2198-02-11 09:41:00|2198-02-11 15:18:00|  DYSPNEA|                   1|                   1|     F|2132-02-21 00:00:00|2198-02-18 00:00:00|2198-02-18 00:00:00|   NULL|          1|    48241|      1|Methicillin susce...|\n",
      "|       268| 110404|    280836| carevue|          MICU|         MICU|          52|         52|2198-02-14 23:27:38|2198-02-18 05:26:11|3.249|2198-02-11 13:40:00|2198-02-18 03:55:00|2198-02-18 03:55:00|     EMERGENCY|EMERGENCY ROOM ADMIT|      DEAD/EXPIRED| Medicare|    NULL|CATHOLIC|     SEPARATED|HISPANIC OR LATINO|2198-02-11 09:41:00|2198-02-11 15:18:00|  DYSPNEA|                   1|                   1|     F|2132-02-21 00:00:00|2198-02-18 00:00:00|2198-02-18 00:00:00|   NULL|          1|     4280|      2|Congestive heart ...|\n",
      "|       268| 110404|    280836| carevue|          MICU|         MICU|          52|         52|2198-02-14 23:27:38|2198-02-18 05:26:11|3.249|2198-02-11 13:40:00|2198-02-18 03:55:00|2198-02-18 03:55:00|     EMERGENCY|EMERGENCY ROOM ADMIT|      DEAD/EXPIRED| Medicare|    NULL|CATHOLIC|     SEPARATED|HISPANIC OR LATINO|2198-02-11 09:41:00|2198-02-11 15:18:00|  DYSPNEA|                   1|                   1|     F|2132-02-21 00:00:00|2198-02-18 00:00:00|2198-02-18 00:00:00|   NULL|          1|    51881|      3|Acute respiratory...|\n",
      "|       268| 110404|    280836| carevue|          MICU|         MICU|          52|         52|2198-02-14 23:27:38|2198-02-18 05:26:11|3.249|2198-02-11 13:40:00|2198-02-18 03:55:00|2198-02-18 03:55:00|     EMERGENCY|EMERGENCY ROOM ADMIT|      DEAD/EXPIRED| Medicare|    NULL|CATHOLIC|     SEPARATED|HISPANIC OR LATINO|2198-02-11 09:41:00|2198-02-11 15:18:00|  DYSPNEA|                   1|                   1|     F|2132-02-21 00:00:00|2198-02-18 00:00:00|2198-02-18 00:00:00|   NULL|          1|     5845|      4|Acute kidney fail...|\n",
      "|       268| 110404|    280836| carevue|          MICU|         MICU|          52|         52|2198-02-14 23:27:38|2198-02-18 05:26:11|3.249|2198-02-11 13:40:00|2198-02-18 03:55:00|2198-02-18 03:55:00|     EMERGENCY|EMERGENCY ROOM ADMIT|      DEAD/EXPIRED| Medicare|    NULL|CATHOLIC|     SEPARATED|HISPANIC OR LATINO|2198-02-11 09:41:00|2198-02-11 15:18:00|  DYSPNEA|                   1|                   1|     F|2132-02-21 00:00:00|2198-02-18 00:00:00|2198-02-18 00:00:00|   NULL|          1|     4275|      5|      Cardiac arrest|\n",
      "+----------+-------+----------+--------+--------------+-------------+------------+-----------+-------------------+-------------------+-----+-------------------+-------------------+-------------------+--------------+--------------------+------------------+---------+--------+--------+--------------+------------------+-------------------+-------------------+---------+--------------------+--------------------+------+-------------------+-------------------+-------------------+-------+-----------+---------+-------+--------------------+\n",
      "only showing top 5 rows\n",
      "\n"
     ]
    }
   ],
   "source": [
    "patients_full_info_df.show(5)"
   ]
  },
  {
   "cell_type": "markdown",
   "id": "80a7b289",
   "metadata": {},
   "source": [
    "##### <b> Binarize diagnostics data <b>\n",
    "\n",
    "* Create binarized features for intervals of the ICD9 code in order to maximize diagnostic info for every ICU stay"
   ]
  },
  {
   "cell_type": "code",
   "execution_count": 29,
   "id": "ffac7a12",
   "metadata": {},
   "outputs": [],
   "source": [
    "def create_icd9_code_based_diagnosis_features_fixed(patients_full_info_df):\n",
    "    \"\"\"\n",
    "    Create diagnosis features based on actual ICD-9 code ranges - FIXED VERSION\n",
    "    \"\"\"\n",
    "    print(\"Creating ICD-9 code-based diagnosis features (fixed)...\")\n",
    "    \n",
    "    # Get base data without diagnoses\n",
    "    base_cols = [col_name for col_name in patients_full_info_df.columns \n",
    "                 if col_name not in [\"ICD9_CODE\", \"LONG_TITLE\", \"SEQ_NUM\"]]\n",
    "    base_data = patients_full_info_df.select(*base_cols).distinct()\n",
    "    \n",
    "    # ICD-9 code-based diagnosis categories - FIXED V and E code patterns\n",
    "    diagnosis_features = patients_full_info_df.filter(col(\"ICD9_CODE\").isNotNull()) \\\n",
    "        .withColumn(\"has_infectious\", \n",
    "                   when(col(\"ICD9_CODE\").rlike(\"^(001|002|003|004|005|006|007|008|009|01[0-9]|02[0-9]|03[0-9]|04[0-9]|05[0-9]|06[0-9]|07[0-9]|08[0-9]|09[0-9]|1[0-3][0-9])\"), 1).otherwise(0)) \\\n",
    "        .withColumn(\"has_malignancy\", \n",
    "                   when(col(\"ICD9_CODE\").rlike(\"^(1[4-9][0-9]|2[0-3][0-9])\"), 1).otherwise(0)) \\\n",
    "        .withColumn(\"has_endocrine\", \n",
    "                   when(col(\"ICD9_CODE\").rlike(\"^(2[4-7][0-9])\"), 1).otherwise(0)) \\\n",
    "        .withColumn(\"has_hematologic\", \n",
    "                   when(col(\"ICD9_CODE\").rlike(\"^(2[8-9][0-9])\"), 1).otherwise(0)) \\\n",
    "        .withColumn(\"has_psychiatric\", \n",
    "                   when(col(\"ICD9_CODE\").rlike(\"^(29[0-9]|30[0-9]|31[0-9])\"), 1).otherwise(0)) \\\n",
    "        .withColumn(\"has_neurological\", \n",
    "                   when(col(\"ICD9_CODE\").rlike(\"^(32[0-9]|33[0-9]|34[0-9]|35[0-9]|36[0-9]|37[0-9]|38[0-9])\"), 1).otherwise(0)) \\\n",
    "        .withColumn(\"has_cardiovascular\", \n",
    "                   when(col(\"ICD9_CODE\").rlike(\"^(39[0-9]|40[0-9]|41[0-9]|42[0-9]|43[0-9]|44[0-9]|45[0-9])\"), 1).otherwise(0)) \\\n",
    "        .withColumn(\"has_respiratory\", \n",
    "                   when(col(\"ICD9_CODE\").rlike(\"^(46[0-9]|47[0-9]|48[0-9]|49[0-9]|50[0-9]|51[0-9])\"), 1).otherwise(0)) \\\n",
    "        .withColumn(\"has_gastrointestinal\", \n",
    "                   when(col(\"ICD9_CODE\").rlike(\"^(52[0-9]|53[0-9]|54[0-9]|55[0-9]|56[0-9]|57[0-9])\"), 1).otherwise(0)) \\\n",
    "        .withColumn(\"has_genitourinary\", \n",
    "                   when(col(\"ICD9_CODE\").rlike(\"^(58[0-9]|59[0-9]|60[0-9]|61[0-9]|62[0-9])\"), 1).otherwise(0)) \\\n",
    "        .withColumn(\"has_obstetric\", \n",
    "                   when(col(\"ICD9_CODE\").rlike(\"^(63[0-9]|64[0-9]|65[0-9]|66[0-9]|67[0-9])\"), 1).otherwise(0)) \\\n",
    "        .withColumn(\"has_skin\", \n",
    "                   when(col(\"ICD9_CODE\").rlike(\"^(68[0-9]|69[0-9]|70[0-9])\"), 1).otherwise(0)) \\\n",
    "        .withColumn(\"has_musculoskeletal\", \n",
    "                   when(col(\"ICD9_CODE\").rlike(\"^(71[0-9]|72[0-9]|73[0-9])\"), 1).otherwise(0)) \\\n",
    "        .withColumn(\"has_congenital\", \n",
    "                   when(col(\"ICD9_CODE\").rlike(\"^(74[0-9]|75[0-9])\"), 1).otherwise(0)) \\\n",
    "        .withColumn(\"has_perinatal\", \n",
    "                   when(col(\"ICD9_CODE\").rlike(\"^(76[0-9]|77[0-9])\"), 1).otherwise(0)) \\\n",
    "        .withColumn(\"has_symptoms_signs\", \n",
    "                   when(col(\"ICD9_CODE\").rlike(\"^(78[0-9]|79[0-9])\"), 1).otherwise(0)) \\\n",
    "        .withColumn(\"has_trauma\", \n",
    "                   when(col(\"ICD9_CODE\").rlike(\"^(8[0-9][0-9]|9[0-9][0-9])\"), 1).otherwise(0)) \\\n",
    "        .withColumn(\"has_external_causes\", \n",
    "                   when(col(\"ICD9_CODE\").rlike(\"^E\"), 1).otherwise(0)) \\\n",
    "        .withColumn(\"has_supplemental\", \n",
    "                   when(col(\"ICD9_CODE\").rlike(\"^V\"), 1).otherwise(0)) \\\n",
    "        .groupBy(\"ICUSTAY_ID\") \\\n",
    "        .agg(\n",
    "            spark_max(\"has_infectious\").alias(\"has_infectious\"),\n",
    "            spark_max(\"has_malignancy\").alias(\"has_malignancy\"),\n",
    "            spark_max(\"has_endocrine\").alias(\"has_endocrine\"),\n",
    "            spark_max(\"has_hematologic\").alias(\"has_hematologic\"),\n",
    "            spark_max(\"has_psychiatric\").alias(\"has_psychiatric\"),\n",
    "            spark_max(\"has_neurological\").alias(\"has_neurological\"),\n",
    "            spark_max(\"has_cardiovascular\").alias(\"has_cardiovascular\"),\n",
    "            spark_max(\"has_respiratory\").alias(\"has_respiratory\"),\n",
    "            spark_max(\"has_gastrointestinal\").alias(\"has_gastrointestinal\"),\n",
    "            spark_max(\"has_genitourinary\").alias(\"has_genitourinary\"),\n",
    "            spark_max(\"has_obstetric\").alias(\"has_obstetric\"),\n",
    "            spark_max(\"has_skin\").alias(\"has_skin\"),\n",
    "            spark_max(\"has_musculoskeletal\").alias(\"has_musculoskeletal\"),\n",
    "            spark_max(\"has_congenital\").alias(\"has_congenital\"),\n",
    "            spark_max(\"has_perinatal\").alias(\"has_perinatal\"),\n",
    "            spark_max(\"has_symptoms_signs\").alias(\"has_symptoms_signs\"),\n",
    "            spark_max(\"has_trauma\").alias(\"has_trauma\"),\n",
    "            spark_max(\"has_external_causes\").alias(\"has_external_causes\"),\n",
    "            spark_max(\"has_supplemental\").alias(\"has_supplemental\"),\n",
    "            count(\"ICD9_CODE\").alias(\"total_diagnoses\")\n",
    "        )\n",
    "    \n",
    "    # Rest of function remains the same...\n",
    "    result = base_data.join(diagnosis_features, on=\"ICUSTAY_ID\", how=\"left\")\n",
    "    \n",
    "    diagnosis_cols = [\"has_infectious\", \"has_malignancy\", \"has_endocrine\", \"has_hematologic\",\n",
    "                     \"has_psychiatric\", \"has_neurological\", \"has_cardiovascular\", \"has_respiratory\",\n",
    "                     \"has_gastrointestinal\", \"has_genitourinary\", \"has_obstetric\", \"has_skin\",\n",
    "                     \"has_musculoskeletal\", \"has_congenital\", \"has_perinatal\", \"has_symptoms_signs\",\n",
    "                     \"has_trauma\", \"has_external_causes\", \"has_supplemental\", \"total_diagnoses\"]\n",
    "    \n",
    "    for col_name in diagnosis_cols:\n",
    "        result = result.withColumn(col_name, when(col(col_name).isNull(), 0).otherwise(col(col_name)))\n",
    "    \n",
    "    print(f\"ICD-9 code-based diagnosis features created: {result.count()} rows\")\n",
    "    return result"
   ]
  },
  {
   "cell_type": "code",
   "execution_count": 30,
   "id": "cf33b90b",
   "metadata": {},
   "outputs": [
    {
     "name": "stdout",
     "output_type": "stream",
     "text": [
      "Creating ICD-9 code-based diagnosis features (fixed)...\n",
      "ICD-9 code-based diagnosis features created: 61532 rows\n"
     ]
    }
   ],
   "source": [
    "patients_with_segmented_diagnosis_df = create_icd9_code_based_diagnosis_features_fixed(patients_full_info_df=patients_full_info_df)"
   ]
  },
  {
   "cell_type": "markdown",
   "id": "2deccd8b",
   "metadata": {},
   "source": [
    "##### <b> Visualize diagnosis distribution based on the category </b>"
   ]
  },
  {
   "cell_type": "code",
   "execution_count": 31,
   "id": "fa532be9",
   "metadata": {},
   "outputs": [],
   "source": [
    "import matplotlib.pyplot as plt\n",
    "import pandas as pd\n",
    "import seaborn as sns\n",
    "from pyspark.sql.functions import col, sum as spark_sum\n",
    "\n",
    "# Set style for better-looking plots\n",
    "plt.style.use('seaborn-v0_8')\n",
    "sns.set_palette(\"Set2\")\n",
    "\n",
    "def visualize_diagnosis_categories(diagnosis_bins_patient_df):\n",
    "    \"\"\"\n",
    "    Visualize the frequency of each diagnosis category from binned features\n",
    "    \n",
    "    Args:\n",
    "        diagnosis_bins_patient_df: Spark DataFrame with binary diagnosis columns\n",
    "    \"\"\"\n",
    "    \n",
    "    print(\"Extracting diagnosis category frequencies...\")\n",
    "    \n",
    "    # List of diagnosis columns (excluding total_diagnoses)\n",
    "    diagnosis_cols = [\n",
    "        \"has_infectious\", \"has_malignancy\", \"has_endocrine\", \"has_hematologic\",\n",
    "        \"has_psychiatric\", \"has_neurological\", \"has_cardiovascular\", \"has_respiratory\",\n",
    "        \"has_gastrointestinal\", \"has_genitourinary\", \"has_obstetric\", \"has_skin\",\n",
    "        \"has_musculoskeletal\", \"has_congenital\", \"has_perinatal\", \"has_symptoms_signs\",\n",
    "        \"has_trauma\", \"has_external_causes\", \"has_supplemental\"\n",
    "    ]\n",
    "    \n",
    "    # Calculate sum for each diagnosis category\n",
    "    category_counts = []\n",
    "    for col_name in diagnosis_cols:\n",
    "        count = diagnosis_bins_patient_df.agg(spark_sum(col_name).alias(\"total\")).collect()[0][\"total\"]\n",
    "        category_counts.append({\n",
    "            'category': col_name.replace('has_', '').title(),\n",
    "            'count': count if count is not None else 0\n",
    "        })\n",
    "    \n",
    "    # Convert to DataFrame and sort by count\n",
    "    category_df = pd.DataFrame(category_counts)\n",
    "    category_df = category_df.sort_values('count', ascending=True)  # Ascending for horizontal bar chart\n",
    "    \n",
    "    # Get total patients for percentage calculation\n",
    "    total_patients = diagnosis_bins_patient_df.count()\n",
    "    category_df['percentage'] = (category_df['count'] / total_patients) * 100\n",
    "    \n",
    "    # Create the visualization\n",
    "    fig, (ax1, ax2) = plt.subplots(1, 2, figsize=(20, 10))\n",
    "    fig.suptitle('ICD-9 Diagnosis Categories - Patient Distribution', fontsize=16, fontweight='bold')\n",
    "    \n",
    "    # Plot 1: Horizontal bar chart with counts\n",
    "    colors = plt.cm.Set3(range(len(category_df)))\n",
    "    bars1 = ax1.barh(range(len(category_df)), category_df['count'], \n",
    "                     color=colors, edgecolor='black', linewidth=0.5)\n",
    "    \n",
    "    ax1.set_yticks(range(len(category_df)))\n",
    "    ax1.set_yticklabels(category_df['category'], fontsize=11)\n",
    "    ax1.set_xlabel('Number of Patients', fontsize=12, fontweight='bold')\n",
    "    ax1.set_title('Diagnosis Category Frequencies', fontsize=14, fontweight='bold')\n",
    "    ax1.grid(axis='x', alpha=0.3)\n",
    "    \n",
    "    # Add value labels on bars\n",
    "    max_count = category_df['count'].max()\n",
    "    for i, bar in enumerate(bars1):\n",
    "        width = bar.get_width()\n",
    "        ax1.text(width + max_count * 0.01, \n",
    "                bar.get_y() + bar.get_height()/2, \n",
    "                f'{int(width):,}', ha='left', va='center', fontsize=10, fontweight='bold')\n",
    "    \n",
    "    # Plot 2: Horizontal bar chart with percentages\n",
    "    bars2 = ax2.barh(range(len(category_df)), category_df['percentage'], \n",
    "                     color=colors, edgecolor='black', linewidth=0.5)\n",
    "    \n",
    "    ax2.set_yticks(range(len(category_df)))\n",
    "    ax2.set_yticklabels(category_df['category'], fontsize=11)\n",
    "    ax2.set_xlabel('Percentage of Patients (%)', fontsize=12, fontweight='bold')\n",
    "    ax2.set_title('Diagnosis Category Percentages', fontsize=14, fontweight='bold')\n",
    "    ax2.grid(axis='x', alpha=0.3)\n",
    "    \n",
    "    # Add percentage labels on bars\n",
    "    max_percentage = category_df['percentage'].max()\n",
    "    for i, bar in enumerate(bars2):\n",
    "        width = bar.get_width()\n",
    "        ax2.text(width + max_percentage * 0.01, \n",
    "                bar.get_y() + bar.get_height()/2, \n",
    "                f'{width:.1f}%', ha='left', va='center', fontsize=10, fontweight='bold')\n",
    "    \n",
    "    plt.tight_layout()\n",
    "    plt.show()\n",
    "    \n",
    "    # Print summary statistics\n",
    "    print(\"\\n\" + \"=\"*60)\n",
    "    print(\"DIAGNOSIS CATEGORY SUMMARY\")\n",
    "    print(\"=\"*60)\n",
    "    print(f\"Total ICU patients analyzed: {total_patients:,}\")\n",
    "    print(f\"Most common diagnosis category: {category_df.iloc[-1]['category']} ({category_df.iloc[-1]['percentage']:.1f}%)\")\n",
    "    print(f\"Least common diagnosis category: {category_df.iloc[0]['category']} ({category_df.iloc[0]['percentage']:.1f}%)\")\n",
    "    print(f\"Average patients per category: {category_df['count'].mean():.0f}\")\n",
    "    print(f\"Median patients per category: {category_df['count'].median():.0f}\")\n",
    "    \n",
    "    # Show top and bottom 5 categories\n",
    "    print(f\"\\nTop 5 Most Common Categories:\")\n",
    "    for i, row in category_df.tail(5).iterrows():\n",
    "        print(f\"  {row['category']}: {row['count']:,} patients ({row['percentage']:.1f}%)\")\n",
    "    \n",
    "    print(f\"\\nBottom 5 Least Common Categories:\")\n",
    "    for i, row in category_df.head(5).iterrows():\n",
    "        print(f\"  {row['category']}: {row['count']:,} patients ({row['percentage']:.1f}%)\")\n",
    "    \n",
    "    # Return the data for further analysis\n",
    "    return category_df.sort_values('count', ascending=False)\n",
    "\n",
    "def create_diagnosis_summary_table(diagnosis_bins_patient_df):\n",
    "    \"\"\"\n",
    "    Create a detailed summary table of diagnosis categories\n",
    "    \"\"\"\n",
    "    diagnosis_cols = [\n",
    "        \"has_infectious\", \"has_malignancy\", \"has_endocrine\", \"has_hematologic\",\n",
    "        \"has_psychiatric\", \"has_neurological\", \"has_cardiovascular\", \"has_respiratory\",\n",
    "        \"has_gastrointestinal\", \"has_genitourinary\", \"has_obstetric\", \"has_skin\",\n",
    "        \"has_musculoskeletal\", \"has_congenital\", \"has_perinatal\", \"has_symptoms_signs\",\n",
    "        \"has_trauma\", \"has_external_causes\", \"has_supplemental\"\n",
    "    ]\n",
    "    \n",
    "    total_patients = diagnosis_bins_patient_df.count()\n",
    "    \n",
    "    # Create summary table\n",
    "    summary_data = []\n",
    "    for col_name in diagnosis_cols:\n",
    "        count = diagnosis_bins_patient_df.agg(spark_sum(col_name).alias(\"total\")).collect()[0][\"total\"]\n",
    "        count = count if count is not None else 0\n",
    "        percentage = (count / total_patients) * 100\n",
    "        \n",
    "        summary_data.append({\n",
    "            'Diagnosis Category': col_name.replace('has_', '').replace('_', ' ').title(),\n",
    "            'ICD-9 Code Range': get_icd9_range(col_name),\n",
    "            'Patient Count': f\"{count:,}\",\n",
    "            'Percentage': f\"{percentage:.1f}%\"\n",
    "        })\n",
    "    \n",
    "    summary_df = pd.DataFrame(summary_data)\n",
    "    summary_df = summary_df.sort_values('Patient Count', key=lambda x: x.str.replace(',', '').astype(int), ascending=False)\n",
    "    \n",
    "    print(\"\\n\" + \"=\"*80)\n",
    "    print(\"DETAILED DIAGNOSIS CATEGORY BREAKDOWN\")\n",
    "    print(\"=\"*80)\n",
    "    print(summary_df.to_string(index=False))\n",
    "    \n",
    "    return summary_df\n",
    "\n",
    "def get_icd9_range(category):\n",
    "    \"\"\"Helper function to map category to ICD-9 range\"\"\"\n",
    "    ranges = {\n",
    "        'has_infectious': '001-139',\n",
    "        'has_malignancy': '140-239',\n",
    "        'has_endocrine': '240-279',\n",
    "        'has_hematologic': '280-289',\n",
    "        'has_psychiatric': '290-319',\n",
    "        'has_neurological': '320-389',\n",
    "        'has_cardiovascular': '390-459',\n",
    "        'has_respiratory': '460-519',\n",
    "        'has_gastrointestinal': '520-579',\n",
    "        'has_genitourinary': '580-629',\n",
    "        'has_obstetric': '630-679',\n",
    "        'has_skin': '680-709',\n",
    "        'has_musculoskeletal': '710-739',\n",
    "        'has_congenital': '740-759',\n",
    "        'has_perinatal': '760-779',\n",
    "        'has_symptoms_signs': '780-799',\n",
    "        'has_trauma': '800-999',\n",
    "        'has_external_causes': 'E codes',\n",
    "        'has_supplemental': 'V codes'\n",
    "    }\n",
    "    return ranges.get(category, 'Unknown')"
   ]
  },
  {
   "cell_type": "code",
   "execution_count": 32,
   "id": "039a9903",
   "metadata": {},
   "outputs": [
    {
     "name": "stdout",
     "output_type": "stream",
     "text": [
      "Extracting diagnosis category frequencies...\n"
     ]
    },
    {
     "data": {
      "image/png": "[encoded data removed]",
      "text/plain": [
       "<Figure size 2000x1000 with 2 Axes>"
      ]
     },
     "metadata": {},
     "output_type": "display_data"
    },
    {
     "name": "stdout",
     "output_type": "stream",
     "text": [
      "\n",
      "============================================================\n",
      "DIAGNOSIS CATEGORY SUMMARY\n",
      "============================================================\n",
      "Total ICU patients analyzed: 61,532\n",
      "Most common diagnosis category: Cardiovascular (73.4%)\n",
      "Least common diagnosis category: Obstetric (0.3%)\n",
      "Average patients per category: 19420\n",
      "Median patients per category: 17853\n",
      "\n",
      "Top 5 Most Common Categories:\n",
      "  Hematologic: 25,062 patients (40.7%)\n",
      "  Respiratory: 27,607 patients (44.9%)\n",
      "  Supplemental: 35,795 patients (58.2%)\n",
      "  Endocrine: 37,827 patients (61.5%)\n",
      "  Cardiovascular: 45,153 patients (73.4%)\n",
      "\n",
      "Bottom 5 Least Common Categories:\n",
      "  Obstetric: 173 patients (0.3%)\n",
      "  Congenital: 3,347 patients (5.4%)\n",
      "  Perinatal: 5,509 patients (9.0%)\n",
      "  Skin: 6,779 patients (11.0%)\n",
      "  Malignancy: 9,488 patients (15.4%)\n"
     ]
    }
   ],
   "source": [
    "# Usage example:\n",
    "category_data = visualize_diagnosis_categories(patients_with_segmented_diagnosis_df)"
   ]
  },
  {
   "cell_type": "markdown",
   "id": "718d8ecc",
   "metadata": {},
   "source": [
    "#### <b> Join CHART EVENTS and D_ITEMS </b>\n",
    "\n",
    "* Get chart measurements details "
   ]
  },
  {
   "cell_type": "code",
   "execution_count": 33,
   "id": "b8867d1a",
   "metadata": {},
   "outputs": [
    {
     "name": "stdout",
     "output_type": "stream",
     "text": [
      "+----------+-------+----------+------+-------------------+-------------------+-----+-----+--------+--------+-------+-----+------------+-------+\n",
      "|SUBJECT_ID|HADM_ID|ICUSTAY_ID|ITEMID|          CHARTTIME|          STORETIME| CGID|VALUE|VALUENUM|VALUEUOM|WARNING|ERROR|RESULTSTATUS|STOPPED|\n",
      "+----------+-------+----------+------+-------------------+-------------------+-----+-----+--------+--------+-------+-----+------------+-------+\n",
      "|        36| 165660|    241249|223834|2134-05-12 12:00:00|2134-05-12 13:56:00|17525|   15|    15.0|   L/min|      0|    0|        NULL|   NULL|\n",
      "|        36| 165660|    241249|223835|2134-05-12 12:00:00|2134-05-12 13:56:00|17525|  100|   100.0|    NULL|      0|    0|        NULL|   NULL|\n",
      "|        36| 165660|    241249|224328|2134-05-12 12:00:00|2134-05-12 12:18:00|20823|  .37|    0.37|    NULL|      0|    0|        NULL|   NULL|\n",
      "|        36| 165660|    241249|224329|2134-05-12 12:00:00|2134-05-12 12:19:00|20823|    6|     6.0|     min|      0|    0|        NULL|   NULL|\n",
      "|        36| 165660|    241249|224330|2134-05-12 12:00:00|2134-05-12 12:19:00|20823|  2.5|     2.5|    NULL|      0|    0|        NULL|   NULL|\n",
      "+----------+-------+----------+------+-------------------+-------------------+-----+-----+--------+--------+-------+-----+------------+-------+\n",
      "only showing top 5 rows\n",
      "\n"
     ]
    }
   ],
   "source": [
    "chart_events_df.show(5)"
   ]
  },
  {
   "cell_type": "code",
   "execution_count": 34,
   "id": "cbda6c01",
   "metadata": {},
   "outputs": [
    {
     "name": "stdout",
     "output_type": "stream",
     "text": [
      "+------+--------------------+------------+--------+-----------+--------+--------+----------+---------+\n",
      "|ITEMID|               LABEL|ABBREVIATION|DBSOURCE|    LINKSTO|CATEGORY|UNITNAME|PARAM_TYPE|CONCEPTID|\n",
      "+------+--------------------+------------+--------+-----------+--------+--------+----------+---------+\n",
      "|   497|Patient controlle...|        NULL| carevue|chartevents|    NULL|    NULL|      NULL|     NULL|\n",
      "|   498|   PCA Lockout (Min)|        NULL| carevue|chartevents|    NULL|    NULL|      NULL|     NULL|\n",
      "|   499|      PCA Medication|        NULL| carevue|chartevents|    NULL|    NULL|      NULL|     NULL|\n",
      "|   500|      PCA Total Dose|        NULL| carevue|chartevents|    NULL|    NULL|      NULL|     NULL|\n",
      "|   501|  PCV Exh Vt (Obser)|        NULL| carevue|chartevents|    NULL|    NULL|      NULL|     NULL|\n",
      "+------+--------------------+------------+--------+-----------+--------+--------+----------+---------+\n",
      "only showing top 5 rows\n",
      "\n"
     ]
    }
   ],
   "source": [
    "d_items_df.show(5)"
   ]
  },
  {
   "cell_type": "code",
   "execution_count": 35,
   "id": "0ffbbf99",
   "metadata": {},
   "outputs": [],
   "source": [
    "chartevents_item_d_items = chart_events_df.join(d_items_df, on=[\"ITEMID\"], how=\"left\")"
   ]
  },
  {
   "cell_type": "code",
   "execution_count": 36,
   "id": "ef27b654",
   "metadata": {},
   "outputs": [
    {
     "name": "stdout",
     "output_type": "stream",
     "text": [
      "+------+----------+-------+----------+-------------------+-------------------+-----+-----+--------+--------+-------+-----+------------+-------+--------------------+-----------------+----------+-----------+-------------+--------+----------+---------+\n",
      "|ITEMID|SUBJECT_ID|HADM_ID|ICUSTAY_ID|          CHARTTIME|          STORETIME| CGID|VALUE|VALUENUM|VALUEUOM|WARNING|ERROR|RESULTSTATUS|STOPPED|               LABEL|     ABBREVIATION|  DBSOURCE|    LINKSTO|     CATEGORY|UNITNAME|PARAM_TYPE|CONCEPTID|\n",
      "+------+----------+-------+----------+-------------------+-------------------+-----+-----+--------+--------+-------+-----+------------+-------+--------------------+-----------------+----------+-----------+-------------+--------+----------+---------+\n",
      "|223834|        36| 165660|    241249|2134-05-12 12:00:00|2134-05-12 13:56:00|17525|   15|    15.0|   L/min|      0|    0|        NULL|   NULL|             O2 Flow|          O2 Flow|metavision|chartevents|  Respiratory|   L/min|   Numeric|     NULL|\n",
      "|223835|        36| 165660|    241249|2134-05-12 12:00:00|2134-05-12 13:56:00|17525|  100|   100.0|    NULL|      0|    0|        NULL|   NULL|Inspired O2 Fraction|             FiO2|metavision|chartevents|  Respiratory|    None|   Numeric|     NULL|\n",
      "|224328|        36| 165660|    241249|2134-05-12 12:00:00|2134-05-12 12:18:00|20823|  .37|    0.37|    NULL|      0|    0|        NULL|   NULL|            PCA dose|         PCA dose|metavision|chartevents|Pain/Sedation|    None|   Numeric|     NULL|\n",
      "|224329|        36| 165660|    241249|2134-05-12 12:00:00|2134-05-12 12:19:00|20823|    6|     6.0|     min|      0|    0|        NULL|   NULL|   PCA lockout (min)|PCA lockout (min)|metavision|chartevents|Pain/Sedation|     min|   Numeric|     NULL|\n",
      "|224330|        36| 165660|    241249|2134-05-12 12:00:00|2134-05-12 12:19:00|20823|  2.5|     2.5|    NULL|      0|    0|        NULL|   NULL|    PCA 1 hour limit| PCA 1 hour limit|metavision|chartevents|Pain/Sedation|    None|   Numeric|     NULL|\n",
      "+------+----------+-------+----------+-------------------+-------------------+-----+-----+--------+--------+-------+-----+------------+-------+--------------------+-----------------+----------+-----------+-------------+--------+----------+---------+\n",
      "only showing top 5 rows\n",
      "\n"
     ]
    }
   ],
   "source": [
    "chartevents_item_d_items.show(5)"
   ]
  },
  {
   "cell_type": "code",
   "execution_count": 37,
   "id": "bbf985ae",
   "metadata": {},
   "outputs": [
    {
     "name": "stderr",
     "output_type": "stream",
     "text": [
      "[Stage 731:====================================================>(260 + 4) / 264]\r"
     ]
    },
    {
     "name": "stdout",
     "output_type": "stream",
     "text": [
      "+----------+---------+\n",
      "|  DBSOURCE|    count|\n",
      "+----------+---------+\n",
      "|   carevue|221054208|\n",
      "|metavision|109360746|\n",
      "+----------+---------+\n",
      "\n"
     ]
    },
    {
     "name": "stderr",
     "output_type": "stream",
     "text": [
      "                                                                                \r"
     ]
    }
   ],
   "source": [
    "# Check database distribution for ICU chartevents only\n",
    "icu_chartevents_db_dist = chart_events_df.filter(col(\"ICUSTAY_ID\").isNotNull()) \\\n",
    "    .join(d_items_df, on=\"ITEMID\") \\\n",
    "    .groupBy(\"DBSOURCE\").count() \\\n",
    "    .orderBy(desc(\"count\"))\n",
    "icu_chartevents_db_dist.show()"
   ]
  },
  {
   "cell_type": "markdown",
   "id": "f2731c87",
   "metadata": {},
   "source": [
    "* <b> CareVue has the most data </b> \n",
    "* Since there are duplicate measurements that appear both in CareVue and MetaVision, we will opt to filter the data based on the patients that have info from the CareVue database"
   ]
  },
  {
   "cell_type": "code",
   "execution_count": 38,
   "id": "8659baa3",
   "metadata": {},
   "outputs": [],
   "source": [
    "icu_chartevents_carevue = chartevents_item_d_items.filter(col(\"DBSOURCE\") == \"carevue\")"
   ]
  },
  {
   "cell_type": "code",
   "execution_count": 39,
   "id": "29a0acb3",
   "metadata": {},
   "outputs": [
    {
     "name": "stderr",
     "output_type": "stream",
     "text": [
      "                                                                                \r"
     ]
    },
    {
     "data": {
      "text/plain": [
       "37946"
      ]
     },
     "execution_count": 39,
     "metadata": {},
     "output_type": "execute_result"
    }
   ],
   "source": [
    "icu_chartevents_carevue.select(\"ICUSTAY_ID\").distinct().count()"
   ]
  },
  {
   "cell_type": "code",
   "execution_count": 40,
   "id": "47cf16d2",
   "metadata": {},
   "outputs": [
    {
     "data": {
      "text/plain": [
       "61532"
      ]
     },
     "execution_count": 40,
     "metadata": {},
     "output_type": "execute_result"
    }
   ],
   "source": [
    "patients_with_segmented_diagnosis_df.select(\"ICUSTAY_ID\").distinct().count()"
   ]
  },
  {
   "cell_type": "code",
   "execution_count": null,
   "id": "050fbee6",
   "metadata": {},
   "outputs": [],
   "source": []
  }
 ],
 "metadata": {
  "kernelspec": {
   "display_name": "machinelearning",
   "language": "python",
   "name": "python3"
  },
  "language_info": {
   "codemirror_mode": {
    "name": "ipython",
    "version": 3
   },
   "file_extension": ".py",
   "mimetype": "text/x-python",
   "name": "python",
   "nbconvert_exporter": "python",
   "pygments_lexer": "ipython3",
   "version": "3.12.7"
  }
 },
 "nbformat": 4,
 "nbformat_minor": 5
}
