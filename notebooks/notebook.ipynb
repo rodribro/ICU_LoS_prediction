{
 "cells": [
  {
   "cell_type": "code",
   "execution_count": null,
   "metadata": {},
   "outputs": [],
   "source": [
    "import dask.dataframe as dd\n",
    "import multiprocessing as mp\n",
    "import psycopg2\n",
    "from psycopg2 import sql\n",
    "import time\n",
    "# pip list --format=freeze > requirements.txt"
   ]
  },
  {
   "cell_type": "markdown",
   "metadata": {},
   "source": [
    "### <b> Topics </b>\n",
    "* #### PostGreSQL vs BigQuery vs Dask : Most efficient?\n",
    "* #### Dash - interactive app framework"
   ]
  },
  {
   "cell_type": "code",
   "execution_count": 85,
   "metadata": {},
   "outputs": [],
   "source": [
    "def mimic_user_creation(host_user: str, db_name: str) -> dict[str, str]:\n",
    "    '''\n",
    "    Connects to PostGreSQL default database through super user.\n",
    "    Then, creates a user with CREATEDB priviliges, which will be used to create and store the MIMICIII database.\n",
    "\n",
    "    Args:\n",
    "        -host_user: string (super user created at the time of installation)\n",
    "        -db_name: string (postgres by deafult)\n",
    "\n",
    "    Output:\n",
    "        -No output\n",
    "    '''\n",
    "    # Admin connection (connect as the default PostgreSQL superuser)\n",
    "    conn = psycopg2.connect(dbname=\"postgres\", user=\"rodrigocastro\")  # No password needed if peer authentication is enabled\n",
    "    conn.autocommit = True\n",
    "    cur = conn.cursor()\n",
    "\n",
    "    # Fetch the current user\n",
    "    cur.execute(\"SELECT current_user;\")\n",
    "    current_user = cur.fetchone()[0]\n",
    "\n",
    "    print(f\"Connected to PostgreSQL successfully as user: {current_user}\\n\")\n",
    "\n",
    "    # New user credentials and new database name\n",
    "    print(f\"[Creating new user for ICU LoS database]\\n\")\n",
    "    new_db_user = input(\"Enter new username:\")\n",
    "\n",
    "    # Query to check if new user exists\n",
    "    cur.execute(\"SELECT 1 FROM pg_roles WHERE rolname = %s;\\n\", (new_db_user,))\n",
    "    user_exists = cur.fetchone() is not None\n",
    "    \n",
    "    if user_exists:\n",
    "        print(f\"User '{new_db_user}' has already been created. Try a new username.\\n\")\n",
    "        new_db_user = input(\"Enter new username:\")\n",
    "        new_db_password = input(\"Enter password for new user:\")\n",
    "\n",
    "        cur.execute(\n",
    "        sql.SQL(\"CREATE ROLE {} WITH LOGIN PASSWORD %s CREATEDB;\").format(sql.Identifier(new_db_user)),\n",
    "        [new_db_password])\n",
    "\n",
    "        print(f\"User '{new_db_user}' created successfuly\\n\")\n",
    "    \n",
    "    else:\n",
    "        new_db_password = input(\"Enter password for new user:\")\n",
    "        print(f\"User '{new_db_user}' will be created.\\n\")\n",
    "    \n",
    "        cur.execute(\n",
    "        sql.SQL(\"CREATE ROLE {} WITH LOGIN PASSWORD %s CREATEDB;\").format(sql.Identifier(new_db_user)),\n",
    "        [new_db_password])\n",
    "\n",
    "        print(f\"User '{new_db_user}' created successfuly\\n\")\n",
    "\n",
    "\n",
    "    print(f\"Closing connection to database\")\n",
    "    cur.close()\n",
    "    conn.close()\n",
    "\n",
    "    return {\"new_user\":new_db_user,\"new_password\":new_db_password}"
   ]
  },
  {
   "cell_type": "code",
   "execution_count": 79,
   "metadata": {},
   "outputs": [
    {
     "data": {
      "text/plain": [
       "'\\n# Mimic User and Mimic Database\\nnew_db_name = \"mimic_db\"\\nnew_db_user = \"mimic_user\"\\nnew_db_password = \"secure_password\"\\nnew_db_host = \"localhost\"\\ndb_port = \"5432\" # default port for PostGreSQL\\'\\n'"
      ]
     },
     "execution_count": 79,
     "metadata": {},
     "output_type": "execute_result"
    }
   ],
   "source": [
    "'''\n",
    "# Mimic User and Mimic Database\n",
    "new_db_name = \"mimic_db\"\n",
    "new_db_user = \"mimic_user\"\n",
    "new_db_password = \"secure_password\"\n",
    "new_db_host = \"localhost\"\n",
    "db_port = \"5432\" # default port for PostGreSQL'\n",
    "'''"
   ]
  },
  {
   "cell_type": "code",
   "execution_count": 86,
   "metadata": {},
   "outputs": [
    {
     "name": "stdout",
     "output_type": "stream",
     "text": [
      "Connected to PostgreSQL successfully as user: rodrigocastro\n",
      "\n",
      "[Creating new user for ICU LoS database]\n",
      "\n",
      "User 'mimic_user' will be created.\n",
      "\n",
      "User 'mimic_user' created successfuly\n",
      "\n",
      "Closing connection to database\n"
     ]
    }
   ],
   "source": [
    "user_credentials = mimic_user_creation(\"rodrigocastro\", \"postgres\")"
   ]
  },
  {
   "cell_type": "code",
   "execution_count": 87,
   "metadata": {},
   "outputs": [
    {
     "data": {
      "text/plain": [
       "('mimic_user', 'lengthofstay')"
      ]
     },
     "execution_count": 87,
     "metadata": {},
     "output_type": "execute_result"
    }
   ],
   "source": [
    "new_user = user_credentials['new_user']\n",
    "new_password = user_credentials['new_password']\n",
    "new_user, new_password"
   ]
  },
  {
   "cell_type": "code",
   "execution_count": null,
   "metadata": {},
   "outputs": [],
   "source": [
    "def create_mimic_iii_db(new_user:str, new_password:str) -> None:\n",
    "    \n",
    "    # MIMIC III database\n",
    "    mimic_db = \"mimic_iii\"\n",
    "\n",
    "    conn = psycopg2.connect(dbname=\"postgres\", user=new_user, password=new_password, host=\"localhost\", port=\"5432\")\n",
    "    conn.autocommit = True  # Database cannot be inside a transaction\n",
    "    cur = conn.cursor()\n",
    "\n",
    "\n",
    "    cur.execute(f\"CREATE DATABASE {mimic_db};\")\n",
    "    print(f\"Database '{mimic_db}' created successfully by '{new_user}'.\")\n",
    "\n",
    "    # Cleanup\n",
    "    cur.close()\n",
    "    conn.close()"
   ]
  },
  {
   "cell_type": "code",
   "execution_count": null,
   "metadata": {},
   "outputs": [],
   "source": [
    "#psql -U $(whoami) -d postgres -c \"SHOW data_directory;\" \n",
    "# Command to check postgresql installation directory\n",
    "\n",
    "#pg_hba.conf File to configure postgres authentication, useful for connecting to database\n"
   ]
  },
  {
   "cell_type": "code",
   "execution_count": 4,
   "metadata": {},
   "outputs": [],
   "source": [
    "chart_events = dd.read_csv('../data/raw/CHARTEVENTS.csv', \n",
    "                           dtype={'CGID': 'float64','ICUSTAY_ID': 'float64','ERROR': 'float64',\n",
    "                                'RESULTSTATUS': 'object', 'STOPPED': 'object', 'VALUE': 'object', \n",
    "                                'WARNING': 'float64'}) #type specification is required due to dask's dtype inference failing"
   ]
  },
  {
   "cell_type": "code",
   "execution_count": 5,
   "metadata": {},
   "outputs": [
    {
     "data": {
      "text/html": [
       "<div>\n",
       "<style scoped>\n",
       "    .dataframe tbody tr th:only-of-type {\n",
       "        vertical-align: middle;\n",
       "    }\n",
       "\n",
       "    .dataframe tbody tr th {\n",
       "        vertical-align: top;\n",
       "    }\n",
       "\n",
       "    .dataframe thead th {\n",
       "        text-align: right;\n",
       "    }\n",
       "</style>\n",
       "<table border=\"1\" class=\"dataframe\">\n",
       "  <thead>\n",
       "    <tr style=\"text-align: right;\">\n",
       "      <th></th>\n",
       "      <th>ROW_ID</th>\n",
       "      <th>SUBJECT_ID</th>\n",
       "      <th>HADM_ID</th>\n",
       "      <th>ICUSTAY_ID</th>\n",
       "      <th>ITEMID</th>\n",
       "      <th>CHARTTIME</th>\n",
       "      <th>STORETIME</th>\n",
       "      <th>CGID</th>\n",
       "      <th>VALUE</th>\n",
       "      <th>VALUENUM</th>\n",
       "      <th>VALUEUOM</th>\n",
       "      <th>WARNING</th>\n",
       "      <th>ERROR</th>\n",
       "      <th>RESULTSTATUS</th>\n",
       "      <th>STOPPED</th>\n",
       "    </tr>\n",
       "  </thead>\n",
       "  <tbody>\n",
       "    <tr>\n",
       "      <th>0</th>\n",
       "      <td>788</td>\n",
       "      <td>36</td>\n",
       "      <td>165660</td>\n",
       "      <td>241249.0</td>\n",
       "      <td>223834</td>\n",
       "      <td>2134-05-12 12:00:00</td>\n",
       "      <td>2134-05-12 13:56:00</td>\n",
       "      <td>17525.0</td>\n",
       "      <td>15</td>\n",
       "      <td>15.00</td>\n",
       "      <td>L/min</td>\n",
       "      <td>0.0</td>\n",
       "      <td>0.0</td>\n",
       "      <td>&lt;NA&gt;</td>\n",
       "      <td>&lt;NA&gt;</td>\n",
       "    </tr>\n",
       "    <tr>\n",
       "      <th>1</th>\n",
       "      <td>789</td>\n",
       "      <td>36</td>\n",
       "      <td>165660</td>\n",
       "      <td>241249.0</td>\n",
       "      <td>223835</td>\n",
       "      <td>2134-05-12 12:00:00</td>\n",
       "      <td>2134-05-12 13:56:00</td>\n",
       "      <td>17525.0</td>\n",
       "      <td>100</td>\n",
       "      <td>100.00</td>\n",
       "      <td>&lt;NA&gt;</td>\n",
       "      <td>0.0</td>\n",
       "      <td>0.0</td>\n",
       "      <td>&lt;NA&gt;</td>\n",
       "      <td>&lt;NA&gt;</td>\n",
       "    </tr>\n",
       "    <tr>\n",
       "      <th>2</th>\n",
       "      <td>790</td>\n",
       "      <td>36</td>\n",
       "      <td>165660</td>\n",
       "      <td>241249.0</td>\n",
       "      <td>224328</td>\n",
       "      <td>2134-05-12 12:00:00</td>\n",
       "      <td>2134-05-12 12:18:00</td>\n",
       "      <td>20823.0</td>\n",
       "      <td>.37</td>\n",
       "      <td>0.37</td>\n",
       "      <td>&lt;NA&gt;</td>\n",
       "      <td>0.0</td>\n",
       "      <td>0.0</td>\n",
       "      <td>&lt;NA&gt;</td>\n",
       "      <td>&lt;NA&gt;</td>\n",
       "    </tr>\n",
       "    <tr>\n",
       "      <th>3</th>\n",
       "      <td>791</td>\n",
       "      <td>36</td>\n",
       "      <td>165660</td>\n",
       "      <td>241249.0</td>\n",
       "      <td>224329</td>\n",
       "      <td>2134-05-12 12:00:00</td>\n",
       "      <td>2134-05-12 12:19:00</td>\n",
       "      <td>20823.0</td>\n",
       "      <td>6</td>\n",
       "      <td>6.00</td>\n",
       "      <td>min</td>\n",
       "      <td>0.0</td>\n",
       "      <td>0.0</td>\n",
       "      <td>&lt;NA&gt;</td>\n",
       "      <td>&lt;NA&gt;</td>\n",
       "    </tr>\n",
       "    <tr>\n",
       "      <th>4</th>\n",
       "      <td>792</td>\n",
       "      <td>36</td>\n",
       "      <td>165660</td>\n",
       "      <td>241249.0</td>\n",
       "      <td>224330</td>\n",
       "      <td>2134-05-12 12:00:00</td>\n",
       "      <td>2134-05-12 12:19:00</td>\n",
       "      <td>20823.0</td>\n",
       "      <td>2.5</td>\n",
       "      <td>2.50</td>\n",
       "      <td>&lt;NA&gt;</td>\n",
       "      <td>0.0</td>\n",
       "      <td>0.0</td>\n",
       "      <td>&lt;NA&gt;</td>\n",
       "      <td>&lt;NA&gt;</td>\n",
       "    </tr>\n",
       "  </tbody>\n",
       "</table>\n",
       "</div>"
      ],
      "text/plain": [
       "   ROW_ID  SUBJECT_ID  HADM_ID  ICUSTAY_ID  ITEMID            CHARTTIME  \\\n",
       "0     788          36   165660    241249.0  223834  2134-05-12 12:00:00   \n",
       "1     789          36   165660    241249.0  223835  2134-05-12 12:00:00   \n",
       "2     790          36   165660    241249.0  224328  2134-05-12 12:00:00   \n",
       "3     791          36   165660    241249.0  224329  2134-05-12 12:00:00   \n",
       "4     792          36   165660    241249.0  224330  2134-05-12 12:00:00   \n",
       "\n",
       "             STORETIME     CGID VALUE  VALUENUM VALUEUOM  WARNING  ERROR  \\\n",
       "0  2134-05-12 13:56:00  17525.0    15     15.00    L/min      0.0    0.0   \n",
       "1  2134-05-12 13:56:00  17525.0   100    100.00     <NA>      0.0    0.0   \n",
       "2  2134-05-12 12:18:00  20823.0   .37      0.37     <NA>      0.0    0.0   \n",
       "3  2134-05-12 12:19:00  20823.0     6      6.00      min      0.0    0.0   \n",
       "4  2134-05-12 12:19:00  20823.0   2.5      2.50     <NA>      0.0    0.0   \n",
       "\n",
       "  RESULTSTATUS STOPPED  \n",
       "0         <NA>    <NA>  \n",
       "1         <NA>    <NA>  \n",
       "2         <NA>    <NA>  \n",
       "3         <NA>    <NA>  \n",
       "4         <NA>    <NA>  "
      ]
     },
     "execution_count": 5,
     "metadata": {},
     "output_type": "execute_result"
    }
   ],
   "source": [
    "chart_events.head()"
   ]
  },
  {
   "cell_type": "code",
   "execution_count": 6,
   "metadata": {},
   "outputs": [
    {
     "data": {
      "text/plain": [
       "ROW_ID                    int64\n",
       "SUBJECT_ID                int64\n",
       "HADM_ID                   int64\n",
       "ICUSTAY_ID              float64\n",
       "ITEMID                    int64\n",
       "CHARTTIME       string[pyarrow]\n",
       "STORETIME       string[pyarrow]\n",
       "CGID                    float64\n",
       "VALUE           string[pyarrow]\n",
       "VALUENUM                float64\n",
       "VALUEUOM        string[pyarrow]\n",
       "WARNING                 float64\n",
       "ERROR                   float64\n",
       "RESULTSTATUS    string[pyarrow]\n",
       "STOPPED         string[pyarrow]\n",
       "dtype: object"
      ]
     },
     "execution_count": 6,
     "metadata": {},
     "output_type": "execute_result"
    }
   ],
   "source": [
    "chart_events.dtypes"
   ]
  },
  {
   "cell_type": "code",
   "execution_count": 7,
   "metadata": {},
   "outputs": [
    {
     "data": {
      "text/plain": [
       "Index(['ROW_ID', 'SUBJECT_ID', 'HADM_ID', 'ICUSTAY_ID', 'ITEMID', 'CHARTTIME',\n",
       "       'STORETIME', 'CGID', 'VALUE', 'VALUENUM', 'VALUEUOM', 'WARNING',\n",
       "       'ERROR', 'RESULTSTATUS', 'STOPPED'],\n",
       "      dtype='object')"
      ]
     },
     "execution_count": 7,
     "metadata": {},
     "output_type": "execute_result"
    }
   ],
   "source": [
    "chart_events.columns"
   ]
  },
  {
   "cell_type": "code",
   "execution_count": 8,
   "metadata": {},
   "outputs": [
    {
     "name": "stderr",
     "output_type": "stream",
     "text": [
      "/opt/anaconda3/envs/cdle/lib/python3.13/site-packages/dask/dataframe/io/csv.py:77: DtypeWarning: Columns (10) have mixed types. Specify dtype option on import or set low_memory=False.\n",
      "  df = reader(bio, **kwargs)\n"
     ]
    }
   ],
   "source": [
    "num_entries = chart_events['ROW_ID'].count().compute()"
   ]
  },
  {
   "cell_type": "code",
   "execution_count": null,
   "metadata": {},
   "outputs": [
    {
     "data": {
      "text/plain": [
       "330712483"
      ]
     },
     "execution_count": 8,
     "metadata": {},
     "output_type": "execute_result"
    }
   ],
   "source": [
    "num_entries"
   ]
  },
  {
   "cell_type": "code",
   "execution_count": null,
   "metadata": {},
   "outputs": [],
   "source": []
  }
 ],
 "metadata": {
  "kernelspec": {
   "display_name": "cdle",
   "language": "python",
   "name": "python3"
  },
  "language_info": {
   "codemirror_mode": {
    "name": "ipython",
    "version": 3
   },
   "file_extension": ".py",
   "mimetype": "text/x-python",
   "name": "python",
   "nbconvert_exporter": "python",
   "pygments_lexer": "ipython3",
   "version": "3.13.2"
  }
 },
 "nbformat": 4,
 "nbformat_minor": 2
}
